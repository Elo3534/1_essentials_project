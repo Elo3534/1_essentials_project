{
 "cells": [
  {
   "cell_type": "code",
   "execution_count": 1,
   "metadata": {},
   "outputs": [],
   "source": [
    "        ### IMPORTATION DES LIBRAIRIES"
   ]
  },
  {
   "cell_type": "code",
   "execution_count": 2,
   "metadata": {},
   "outputs": [],
   "source": [
    "import pandas as pd\n",
    "import numpy as np \n",
    "import matplotlib.pyplot as plt \n",
    "import seaborn as sns \n",
    "from statsmodels.stats.outliers_influence import variance_inflation_factor\n",
    "import statsmodels.api as sm\n",
    "from scipy.stats import pointbiserialr, f_oneway, chi2_contingency\n",
    "from sklearn.model_selection import train_test_split\n",
    "from sklearn.impute import SimpleImputer                # utilisé ni sur le training ni sur le test\n",
    "from sklearn.preprocessing import StandardScaler, OneHotEncoder,  LabelEncoder\n",
    "from sklearn.pipeline import Pipeline\n",
    "from sklearn.compose import ColumnTransformer\n",
    "from sklearn.linear_model import LogisticRegression\n",
    "from sklearn.tree import DecisionTreeClassifier\n",
    "from sklearn.ensemble import RandomForestClassifier\n",
    "from sklearn.metrics import confusion_matrix, ConfusionMatrixDisplay\n",
    "import time\n",
    "from sklearn.metrics import accuracy_score, roc_auc_score, f1_score, precision_score, recall_score"
   ]
  },
  {
   "cell_type": "code",
   "execution_count": 3,
   "metadata": {},
   "outputs": [],
   "source": [
    "        ### IMPORTATION DU DATAFRAME"
   ]
  },
  {
   "cell_type": "code",
   "execution_count": 4,
   "metadata": {},
   "outputs": [
    {
     "data": {
      "application/vnd.microsoft.datawrangler.viewer.v0+json": {
       "columns": [
        {
         "name": "index",
         "rawType": "object",
         "type": "string"
        },
        {
         "name": "0",
         "rawType": "object",
         "type": "unknown"
        },
        {
         "name": "1",
         "rawType": "object",
         "type": "unknown"
        },
        {
         "name": "2",
         "rawType": "object",
         "type": "unknown"
        },
        {
         "name": "3",
         "rawType": "object",
         "type": "unknown"
        },
        {
         "name": "4",
         "rawType": "object",
         "type": "unknown"
        }
       ],
       "conversionMethod": "pd.DataFrame",
       "ref": "dea1f7c6-febd-4048-bdd6-3b6106d1baf5",
       "rows": [
        [
         "Age",
         "41",
         "49",
         "37",
         "33",
         "27"
        ],
        [
         "Attrition",
         "Yes",
         "No",
         "Yes",
         "No",
         "No"
        ],
        [
         "BusinessTravel",
         "Travel_Rarely",
         "Travel_Frequently",
         "Travel_Rarely",
         "Travel_Frequently",
         "Travel_Rarely"
        ],
        [
         "DailyRate",
         "1102",
         "279",
         "1373",
         "1392",
         "591"
        ],
        [
         "Department",
         "Sales",
         "Research & Development",
         "Research & Development",
         "Research & Development",
         "Research & Development"
        ],
        [
         "DistanceFromHome",
         "1",
         "8",
         "2",
         "3",
         "2"
        ],
        [
         "Education",
         "2",
         "1",
         "2",
         "4",
         "1"
        ],
        [
         "EducationField",
         "Life Sciences",
         "Life Sciences",
         "Other",
         "Life Sciences",
         "Medical"
        ],
        [
         "EmployeeCount",
         "1",
         "1",
         "1",
         "1",
         "1"
        ],
        [
         "EmployeeNumber",
         "1",
         "2",
         "4",
         "5",
         "7"
        ],
        [
         "EnvironmentSatisfaction",
         "2",
         "3",
         "4",
         "4",
         "1"
        ],
        [
         "Gender",
         "Female",
         "Male",
         "Male",
         "Female",
         "Male"
        ],
        [
         "HourlyRate",
         "94",
         "61",
         "92",
         "56",
         "40"
        ],
        [
         "JobInvolvement",
         "3",
         "2",
         "2",
         "3",
         "3"
        ],
        [
         "JobLevel",
         "2",
         "2",
         "1",
         "1",
         "1"
        ],
        [
         "JobRole",
         "Sales Executive",
         "Research Scientist",
         "Laboratory Technician",
         "Research Scientist",
         "Laboratory Technician"
        ],
        [
         "JobSatisfaction",
         "4",
         "2",
         "3",
         "3",
         "2"
        ],
        [
         "MaritalStatus",
         "Single",
         "Married",
         "Single",
         "Married",
         "Married"
        ],
        [
         "MonthlyIncome",
         "5993",
         "5130",
         "2090",
         "2909",
         "3468"
        ],
        [
         "MonthlyRate",
         "19479",
         "24907",
         "2396",
         "23159",
         "16632"
        ],
        [
         "NumCompaniesWorked",
         "8",
         "1",
         "6",
         "1",
         "9"
        ],
        [
         "Over18",
         "Y",
         "Y",
         "Y",
         "Y",
         "Y"
        ],
        [
         "OverTime",
         "Yes",
         "No",
         "Yes",
         "Yes",
         "No"
        ],
        [
         "PercentSalaryHike",
         "11",
         "23",
         "15",
         "11",
         "12"
        ],
        [
         "PerformanceRating",
         "3",
         "4",
         "3",
         "3",
         "3"
        ],
        [
         "RelationshipSatisfaction",
         "1",
         "4",
         "2",
         "3",
         "4"
        ],
        [
         "StandardHours",
         "80",
         "80",
         "80",
         "80",
         "80"
        ],
        [
         "StockOptionLevel",
         "0",
         "1",
         "0",
         "0",
         "1"
        ],
        [
         "TotalWorkingYears",
         "8",
         "10",
         "7",
         "8",
         "6"
        ],
        [
         "TrainingTimesLastYear",
         "0",
         "3",
         "3",
         "3",
         "3"
        ],
        [
         "WorkLifeBalance",
         "1",
         "3",
         "3",
         "3",
         "3"
        ],
        [
         "YearsAtCompany",
         "6",
         "10",
         "0",
         "8",
         "2"
        ],
        [
         "YearsInCurrentRole",
         "4",
         "7",
         "0",
         "7",
         "2"
        ],
        [
         "YearsSinceLastPromotion",
         "0",
         "1",
         "0",
         "3",
         "2"
        ],
        [
         "YearsWithCurrManager",
         "5",
         "7",
         "0",
         "0",
         "2"
        ]
       ],
       "shape": {
        "columns": 5,
        "rows": 35
       }
      },
      "text/html": [
       "<div>\n",
       "<style scoped>\n",
       "    .dataframe tbody tr th:only-of-type {\n",
       "        vertical-align: middle;\n",
       "    }\n",
       "\n",
       "    .dataframe tbody tr th {\n",
       "        vertical-align: top;\n",
       "    }\n",
       "\n",
       "    .dataframe thead th {\n",
       "        text-align: right;\n",
       "    }\n",
       "</style>\n",
       "<table border=\"1\" class=\"dataframe\">\n",
       "  <thead>\n",
       "    <tr style=\"text-align: right;\">\n",
       "      <th></th>\n",
       "      <th>0</th>\n",
       "      <th>1</th>\n",
       "      <th>2</th>\n",
       "      <th>3</th>\n",
       "      <th>4</th>\n",
       "    </tr>\n",
       "  </thead>\n",
       "  <tbody>\n",
       "    <tr>\n",
       "      <th>Age</th>\n",
       "      <td>41</td>\n",
       "      <td>49</td>\n",
       "      <td>37</td>\n",
       "      <td>33</td>\n",
       "      <td>27</td>\n",
       "    </tr>\n",
       "    <tr>\n",
       "      <th>Attrition</th>\n",
       "      <td>Yes</td>\n",
       "      <td>No</td>\n",
       "      <td>Yes</td>\n",
       "      <td>No</td>\n",
       "      <td>No</td>\n",
       "    </tr>\n",
       "    <tr>\n",
       "      <th>BusinessTravel</th>\n",
       "      <td>Travel_Rarely</td>\n",
       "      <td>Travel_Frequently</td>\n",
       "      <td>Travel_Rarely</td>\n",
       "      <td>Travel_Frequently</td>\n",
       "      <td>Travel_Rarely</td>\n",
       "    </tr>\n",
       "    <tr>\n",
       "      <th>DailyRate</th>\n",
       "      <td>1102</td>\n",
       "      <td>279</td>\n",
       "      <td>1373</td>\n",
       "      <td>1392</td>\n",
       "      <td>591</td>\n",
       "    </tr>\n",
       "    <tr>\n",
       "      <th>Department</th>\n",
       "      <td>Sales</td>\n",
       "      <td>Research &amp; Development</td>\n",
       "      <td>Research &amp; Development</td>\n",
       "      <td>Research &amp; Development</td>\n",
       "      <td>Research &amp; Development</td>\n",
       "    </tr>\n",
       "    <tr>\n",
       "      <th>DistanceFromHome</th>\n",
       "      <td>1</td>\n",
       "      <td>8</td>\n",
       "      <td>2</td>\n",
       "      <td>3</td>\n",
       "      <td>2</td>\n",
       "    </tr>\n",
       "    <tr>\n",
       "      <th>Education</th>\n",
       "      <td>2</td>\n",
       "      <td>1</td>\n",
       "      <td>2</td>\n",
       "      <td>4</td>\n",
       "      <td>1</td>\n",
       "    </tr>\n",
       "    <tr>\n",
       "      <th>EducationField</th>\n",
       "      <td>Life Sciences</td>\n",
       "      <td>Life Sciences</td>\n",
       "      <td>Other</td>\n",
       "      <td>Life Sciences</td>\n",
       "      <td>Medical</td>\n",
       "    </tr>\n",
       "    <tr>\n",
       "      <th>EmployeeCount</th>\n",
       "      <td>1</td>\n",
       "      <td>1</td>\n",
       "      <td>1</td>\n",
       "      <td>1</td>\n",
       "      <td>1</td>\n",
       "    </tr>\n",
       "    <tr>\n",
       "      <th>EmployeeNumber</th>\n",
       "      <td>1</td>\n",
       "      <td>2</td>\n",
       "      <td>4</td>\n",
       "      <td>5</td>\n",
       "      <td>7</td>\n",
       "    </tr>\n",
       "    <tr>\n",
       "      <th>EnvironmentSatisfaction</th>\n",
       "      <td>2</td>\n",
       "      <td>3</td>\n",
       "      <td>4</td>\n",
       "      <td>4</td>\n",
       "      <td>1</td>\n",
       "    </tr>\n",
       "    <tr>\n",
       "      <th>Gender</th>\n",
       "      <td>Female</td>\n",
       "      <td>Male</td>\n",
       "      <td>Male</td>\n",
       "      <td>Female</td>\n",
       "      <td>Male</td>\n",
       "    </tr>\n",
       "    <tr>\n",
       "      <th>HourlyRate</th>\n",
       "      <td>94</td>\n",
       "      <td>61</td>\n",
       "      <td>92</td>\n",
       "      <td>56</td>\n",
       "      <td>40</td>\n",
       "    </tr>\n",
       "    <tr>\n",
       "      <th>JobInvolvement</th>\n",
       "      <td>3</td>\n",
       "      <td>2</td>\n",
       "      <td>2</td>\n",
       "      <td>3</td>\n",
       "      <td>3</td>\n",
       "    </tr>\n",
       "    <tr>\n",
       "      <th>JobLevel</th>\n",
       "      <td>2</td>\n",
       "      <td>2</td>\n",
       "      <td>1</td>\n",
       "      <td>1</td>\n",
       "      <td>1</td>\n",
       "    </tr>\n",
       "    <tr>\n",
       "      <th>JobRole</th>\n",
       "      <td>Sales Executive</td>\n",
       "      <td>Research Scientist</td>\n",
       "      <td>Laboratory Technician</td>\n",
       "      <td>Research Scientist</td>\n",
       "      <td>Laboratory Technician</td>\n",
       "    </tr>\n",
       "    <tr>\n",
       "      <th>JobSatisfaction</th>\n",
       "      <td>4</td>\n",
       "      <td>2</td>\n",
       "      <td>3</td>\n",
       "      <td>3</td>\n",
       "      <td>2</td>\n",
       "    </tr>\n",
       "    <tr>\n",
       "      <th>MaritalStatus</th>\n",
       "      <td>Single</td>\n",
       "      <td>Married</td>\n",
       "      <td>Single</td>\n",
       "      <td>Married</td>\n",
       "      <td>Married</td>\n",
       "    </tr>\n",
       "    <tr>\n",
       "      <th>MonthlyIncome</th>\n",
       "      <td>5993</td>\n",
       "      <td>5130</td>\n",
       "      <td>2090</td>\n",
       "      <td>2909</td>\n",
       "      <td>3468</td>\n",
       "    </tr>\n",
       "    <tr>\n",
       "      <th>MonthlyRate</th>\n",
       "      <td>19479</td>\n",
       "      <td>24907</td>\n",
       "      <td>2396</td>\n",
       "      <td>23159</td>\n",
       "      <td>16632</td>\n",
       "    </tr>\n",
       "    <tr>\n",
       "      <th>NumCompaniesWorked</th>\n",
       "      <td>8</td>\n",
       "      <td>1</td>\n",
       "      <td>6</td>\n",
       "      <td>1</td>\n",
       "      <td>9</td>\n",
       "    </tr>\n",
       "    <tr>\n",
       "      <th>Over18</th>\n",
       "      <td>Y</td>\n",
       "      <td>Y</td>\n",
       "      <td>Y</td>\n",
       "      <td>Y</td>\n",
       "      <td>Y</td>\n",
       "    </tr>\n",
       "    <tr>\n",
       "      <th>OverTime</th>\n",
       "      <td>Yes</td>\n",
       "      <td>No</td>\n",
       "      <td>Yes</td>\n",
       "      <td>Yes</td>\n",
       "      <td>No</td>\n",
       "    </tr>\n",
       "    <tr>\n",
       "      <th>PercentSalaryHike</th>\n",
       "      <td>11</td>\n",
       "      <td>23</td>\n",
       "      <td>15</td>\n",
       "      <td>11</td>\n",
       "      <td>12</td>\n",
       "    </tr>\n",
       "    <tr>\n",
       "      <th>PerformanceRating</th>\n",
       "      <td>3</td>\n",
       "      <td>4</td>\n",
       "      <td>3</td>\n",
       "      <td>3</td>\n",
       "      <td>3</td>\n",
       "    </tr>\n",
       "    <tr>\n",
       "      <th>RelationshipSatisfaction</th>\n",
       "      <td>1</td>\n",
       "      <td>4</td>\n",
       "      <td>2</td>\n",
       "      <td>3</td>\n",
       "      <td>4</td>\n",
       "    </tr>\n",
       "    <tr>\n",
       "      <th>StandardHours</th>\n",
       "      <td>80</td>\n",
       "      <td>80</td>\n",
       "      <td>80</td>\n",
       "      <td>80</td>\n",
       "      <td>80</td>\n",
       "    </tr>\n",
       "    <tr>\n",
       "      <th>StockOptionLevel</th>\n",
       "      <td>0</td>\n",
       "      <td>1</td>\n",
       "      <td>0</td>\n",
       "      <td>0</td>\n",
       "      <td>1</td>\n",
       "    </tr>\n",
       "    <tr>\n",
       "      <th>TotalWorkingYears</th>\n",
       "      <td>8</td>\n",
       "      <td>10</td>\n",
       "      <td>7</td>\n",
       "      <td>8</td>\n",
       "      <td>6</td>\n",
       "    </tr>\n",
       "    <tr>\n",
       "      <th>TrainingTimesLastYear</th>\n",
       "      <td>0</td>\n",
       "      <td>3</td>\n",
       "      <td>3</td>\n",
       "      <td>3</td>\n",
       "      <td>3</td>\n",
       "    </tr>\n",
       "    <tr>\n",
       "      <th>WorkLifeBalance</th>\n",
       "      <td>1</td>\n",
       "      <td>3</td>\n",
       "      <td>3</td>\n",
       "      <td>3</td>\n",
       "      <td>3</td>\n",
       "    </tr>\n",
       "    <tr>\n",
       "      <th>YearsAtCompany</th>\n",
       "      <td>6</td>\n",
       "      <td>10</td>\n",
       "      <td>0</td>\n",
       "      <td>8</td>\n",
       "      <td>2</td>\n",
       "    </tr>\n",
       "    <tr>\n",
       "      <th>YearsInCurrentRole</th>\n",
       "      <td>4</td>\n",
       "      <td>7</td>\n",
       "      <td>0</td>\n",
       "      <td>7</td>\n",
       "      <td>2</td>\n",
       "    </tr>\n",
       "    <tr>\n",
       "      <th>YearsSinceLastPromotion</th>\n",
       "      <td>0</td>\n",
       "      <td>1</td>\n",
       "      <td>0</td>\n",
       "      <td>3</td>\n",
       "      <td>2</td>\n",
       "    </tr>\n",
       "    <tr>\n",
       "      <th>YearsWithCurrManager</th>\n",
       "      <td>5</td>\n",
       "      <td>7</td>\n",
       "      <td>0</td>\n",
       "      <td>0</td>\n",
       "      <td>2</td>\n",
       "    </tr>\n",
       "  </tbody>\n",
       "</table>\n",
       "</div>"
      ],
      "text/plain": [
       "                                        0                       1  \\\n",
       "Age                                    41                      49   \n",
       "Attrition                             Yes                      No   \n",
       "BusinessTravel              Travel_Rarely       Travel_Frequently   \n",
       "DailyRate                            1102                     279   \n",
       "Department                          Sales  Research & Development   \n",
       "DistanceFromHome                        1                       8   \n",
       "Education                               2                       1   \n",
       "EducationField              Life Sciences           Life Sciences   \n",
       "EmployeeCount                           1                       1   \n",
       "EmployeeNumber                          1                       2   \n",
       "EnvironmentSatisfaction                 2                       3   \n",
       "Gender                             Female                    Male   \n",
       "HourlyRate                             94                      61   \n",
       "JobInvolvement                          3                       2   \n",
       "JobLevel                                2                       2   \n",
       "JobRole                   Sales Executive      Research Scientist   \n",
       "JobSatisfaction                         4                       2   \n",
       "MaritalStatus                      Single                 Married   \n",
       "MonthlyIncome                        5993                    5130   \n",
       "MonthlyRate                         19479                   24907   \n",
       "NumCompaniesWorked                      8                       1   \n",
       "Over18                                  Y                       Y   \n",
       "OverTime                              Yes                      No   \n",
       "PercentSalaryHike                      11                      23   \n",
       "PerformanceRating                       3                       4   \n",
       "RelationshipSatisfaction                1                       4   \n",
       "StandardHours                          80                      80   \n",
       "StockOptionLevel                        0                       1   \n",
       "TotalWorkingYears                       8                      10   \n",
       "TrainingTimesLastYear                   0                       3   \n",
       "WorkLifeBalance                         1                       3   \n",
       "YearsAtCompany                          6                      10   \n",
       "YearsInCurrentRole                      4                       7   \n",
       "YearsSinceLastPromotion                 0                       1   \n",
       "YearsWithCurrManager                    5                       7   \n",
       "\n",
       "                                               2                       3  \\\n",
       "Age                                           37                      33   \n",
       "Attrition                                    Yes                      No   \n",
       "BusinessTravel                     Travel_Rarely       Travel_Frequently   \n",
       "DailyRate                                   1373                    1392   \n",
       "Department                Research & Development  Research & Development   \n",
       "DistanceFromHome                               2                       3   \n",
       "Education                                      2                       4   \n",
       "EducationField                             Other           Life Sciences   \n",
       "EmployeeCount                                  1                       1   \n",
       "EmployeeNumber                                 4                       5   \n",
       "EnvironmentSatisfaction                        4                       4   \n",
       "Gender                                      Male                  Female   \n",
       "HourlyRate                                    92                      56   \n",
       "JobInvolvement                                 2                       3   \n",
       "JobLevel                                       1                       1   \n",
       "JobRole                    Laboratory Technician      Research Scientist   \n",
       "JobSatisfaction                                3                       3   \n",
       "MaritalStatus                             Single                 Married   \n",
       "MonthlyIncome                               2090                    2909   \n",
       "MonthlyRate                                 2396                   23159   \n",
       "NumCompaniesWorked                             6                       1   \n",
       "Over18                                         Y                       Y   \n",
       "OverTime                                     Yes                     Yes   \n",
       "PercentSalaryHike                             15                      11   \n",
       "PerformanceRating                              3                       3   \n",
       "RelationshipSatisfaction                       2                       3   \n",
       "StandardHours                                 80                      80   \n",
       "StockOptionLevel                               0                       0   \n",
       "TotalWorkingYears                              7                       8   \n",
       "TrainingTimesLastYear                          3                       3   \n",
       "WorkLifeBalance                                3                       3   \n",
       "YearsAtCompany                                 0                       8   \n",
       "YearsInCurrentRole                             0                       7   \n",
       "YearsSinceLastPromotion                        0                       3   \n",
       "YearsWithCurrManager                           0                       0   \n",
       "\n",
       "                                               4  \n",
       "Age                                           27  \n",
       "Attrition                                     No  \n",
       "BusinessTravel                     Travel_Rarely  \n",
       "DailyRate                                    591  \n",
       "Department                Research & Development  \n",
       "DistanceFromHome                               2  \n",
       "Education                                      1  \n",
       "EducationField                           Medical  \n",
       "EmployeeCount                                  1  \n",
       "EmployeeNumber                                 7  \n",
       "EnvironmentSatisfaction                        1  \n",
       "Gender                                      Male  \n",
       "HourlyRate                                    40  \n",
       "JobInvolvement                                 3  \n",
       "JobLevel                                       1  \n",
       "JobRole                    Laboratory Technician  \n",
       "JobSatisfaction                                2  \n",
       "MaritalStatus                            Married  \n",
       "MonthlyIncome                               3468  \n",
       "MonthlyRate                                16632  \n",
       "NumCompaniesWorked                             9  \n",
       "Over18                                         Y  \n",
       "OverTime                                      No  \n",
       "PercentSalaryHike                             12  \n",
       "PerformanceRating                              3  \n",
       "RelationshipSatisfaction                       4  \n",
       "StandardHours                                 80  \n",
       "StockOptionLevel                               1  \n",
       "TotalWorkingYears                              6  \n",
       "TrainingTimesLastYear                          3  \n",
       "WorkLifeBalance                                3  \n",
       "YearsAtCompany                                 2  \n",
       "YearsInCurrentRole                             2  \n",
       "YearsSinceLastPromotion                        2  \n",
       "YearsWithCurrManager                           2  "
      ]
     },
     "execution_count": 4,
     "metadata": {},
     "output_type": "execute_result"
    }
   ],
   "source": [
    "# Observation des colonnes du DataFrame sur les 5ères lignes :\n",
    "df = pd.read_csv(\"WA_Fn-UseC_-HR-Employee-Attrition.csv\")\n",
    "df.head().T "
   ]
  },
  {
   "cell_type": "code",
   "execution_count": 5,
   "metadata": {},
   "outputs": [
    {
     "name": "stdout",
     "output_type": "stream",
     "text": [
      "Age                          int64\n",
      "Attrition                   object\n",
      "BusinessTravel              object\n",
      "DailyRate                    int64\n",
      "Department                  object\n",
      "DistanceFromHome             int64\n",
      "Education                    int64\n",
      "EducationField              object\n",
      "EmployeeCount                int64\n",
      "EmployeeNumber               int64\n",
      "EnvironmentSatisfaction      int64\n",
      "Gender                      object\n",
      "HourlyRate                   int64\n",
      "JobInvolvement               int64\n",
      "JobLevel                     int64\n",
      "JobRole                     object\n",
      "JobSatisfaction              int64\n",
      "MaritalStatus               object\n",
      "MonthlyIncome                int64\n",
      "MonthlyRate                  int64\n",
      "NumCompaniesWorked           int64\n",
      "Over18                      object\n",
      "OverTime                    object\n",
      "PercentSalaryHike            int64\n",
      "PerformanceRating            int64\n",
      "RelationshipSatisfaction     int64\n",
      "StandardHours                int64\n",
      "StockOptionLevel             int64\n",
      "TotalWorkingYears            int64\n",
      "TrainingTimesLastYear        int64\n",
      "WorkLifeBalance              int64\n",
      "YearsAtCompany               int64\n",
      "YearsInCurrentRole           int64\n",
      "YearsSinceLastPromotion      int64\n",
      "YearsWithCurrManager         int64\n",
      "dtype: object\n"
     ]
    }
   ],
   "source": [
    "print(df.dtypes) # Affichage des types de données de chaque colonne"
   ]
  },
  {
   "cell_type": "code",
   "execution_count": 6,
   "metadata": {},
   "outputs": [],
   "source": [
    "# Nous avons 26 variables numériques et 9 variables catégorielles"
   ]
  },
  {
   "cell_type": "code",
   "execution_count": 7,
   "metadata": {},
   "outputs": [
    {
     "name": "stdout",
     "output_type": "stream",
     "text": [
      "Nombres de lignes et de colonnes : (1470, 35)\n",
      "------\n",
      "Descriptions statistiques :                             count unique                     top  freq  \\\n",
      "Age                       1470.0    NaN                     NaN   NaN   \n",
      "Attrition                   1470      2                      No  1233   \n",
      "BusinessTravel              1470      3           Travel_Rarely  1043   \n",
      "DailyRate                 1470.0    NaN                     NaN   NaN   \n",
      "Department                  1470      3  Research & Development   961   \n",
      "DistanceFromHome          1470.0    NaN                     NaN   NaN   \n",
      "Education                 1470.0    NaN                     NaN   NaN   \n",
      "EducationField              1470      6           Life Sciences   606   \n",
      "EmployeeCount             1470.0    NaN                     NaN   NaN   \n",
      "EmployeeNumber            1470.0    NaN                     NaN   NaN   \n",
      "EnvironmentSatisfaction   1470.0    NaN                     NaN   NaN   \n",
      "Gender                      1470      2                    Male   882   \n",
      "HourlyRate                1470.0    NaN                     NaN   NaN   \n",
      "JobInvolvement            1470.0    NaN                     NaN   NaN   \n",
      "JobLevel                  1470.0    NaN                     NaN   NaN   \n",
      "JobRole                     1470      9         Sales Executive   326   \n",
      "JobSatisfaction           1470.0    NaN                     NaN   NaN   \n",
      "MaritalStatus               1470      3                 Married   673   \n",
      "MonthlyIncome             1470.0    NaN                     NaN   NaN   \n",
      "MonthlyRate               1470.0    NaN                     NaN   NaN   \n",
      "NumCompaniesWorked        1470.0    NaN                     NaN   NaN   \n",
      "Over18                      1470      1                       Y  1470   \n",
      "OverTime                    1470      2                      No  1054   \n",
      "PercentSalaryHike         1470.0    NaN                     NaN   NaN   \n",
      "PerformanceRating         1470.0    NaN                     NaN   NaN   \n",
      "RelationshipSatisfaction  1470.0    NaN                     NaN   NaN   \n",
      "StandardHours             1470.0    NaN                     NaN   NaN   \n",
      "StockOptionLevel          1470.0    NaN                     NaN   NaN   \n",
      "TotalWorkingYears         1470.0    NaN                     NaN   NaN   \n",
      "TrainingTimesLastYear     1470.0    NaN                     NaN   NaN   \n",
      "WorkLifeBalance           1470.0    NaN                     NaN   NaN   \n",
      "YearsAtCompany            1470.0    NaN                     NaN   NaN   \n",
      "YearsInCurrentRole        1470.0    NaN                     NaN   NaN   \n",
      "YearsSinceLastPromotion   1470.0    NaN                     NaN   NaN   \n",
      "YearsWithCurrManager      1470.0    NaN                     NaN   NaN   \n",
      "\n",
      "                                  mean          std     min     25%      50%  \\\n",
      "Age                           36.92381     9.135373    18.0    30.0     36.0   \n",
      "Attrition                          NaN          NaN     NaN     NaN      NaN   \n",
      "BusinessTravel                     NaN          NaN     NaN     NaN      NaN   \n",
      "DailyRate                   802.485714     403.5091   102.0   465.0    802.0   \n",
      "Department                         NaN          NaN     NaN     NaN      NaN   \n",
      "DistanceFromHome              9.192517     8.106864     1.0     2.0      7.0   \n",
      "Education                     2.912925     1.024165     1.0     2.0      3.0   \n",
      "EducationField                     NaN          NaN     NaN     NaN      NaN   \n",
      "EmployeeCount                      1.0          0.0     1.0     1.0      1.0   \n",
      "EmployeeNumber             1024.865306   602.024335     1.0  491.25   1020.5   \n",
      "EnvironmentSatisfaction       2.721769     1.093082     1.0     2.0      3.0   \n",
      "Gender                             NaN          NaN     NaN     NaN      NaN   \n",
      "HourlyRate                   65.891156    20.329428    30.0    48.0     66.0   \n",
      "JobInvolvement                2.729932     0.711561     1.0     2.0      3.0   \n",
      "JobLevel                      2.063946      1.10694     1.0     1.0      2.0   \n",
      "JobRole                            NaN          NaN     NaN     NaN      NaN   \n",
      "JobSatisfaction               2.728571     1.102846     1.0     2.0      3.0   \n",
      "MaritalStatus                      NaN          NaN     NaN     NaN      NaN   \n",
      "MonthlyIncome              6502.931293  4707.956783  1009.0  2911.0   4919.0   \n",
      "MonthlyRate               14313.103401  7117.786044  2094.0  8047.0  14235.5   \n",
      "NumCompaniesWorked            2.693197     2.498009     0.0     1.0      2.0   \n",
      "Over18                             NaN          NaN     NaN     NaN      NaN   \n",
      "OverTime                           NaN          NaN     NaN     NaN      NaN   \n",
      "PercentSalaryHike            15.209524     3.659938    11.0    12.0     14.0   \n",
      "PerformanceRating             3.153741     0.360824     3.0     3.0      3.0   \n",
      "RelationshipSatisfaction      2.712245     1.081209     1.0     2.0      3.0   \n",
      "StandardHours                     80.0          0.0    80.0    80.0     80.0   \n",
      "StockOptionLevel              0.793878     0.852077     0.0     0.0      1.0   \n",
      "TotalWorkingYears            11.279592     7.780782     0.0     6.0     10.0   \n",
      "TrainingTimesLastYear          2.79932     1.289271     0.0     2.0      3.0   \n",
      "WorkLifeBalance               2.761224     0.706476     1.0     2.0      3.0   \n",
      "YearsAtCompany                7.008163     6.126525     0.0     3.0      5.0   \n",
      "YearsInCurrentRole            4.229252     3.623137     0.0     2.0      3.0   \n",
      "YearsSinceLastPromotion       2.187755      3.22243     0.0     0.0      1.0   \n",
      "YearsWithCurrManager          4.123129     3.568136     0.0     2.0      3.0   \n",
      "\n",
      "                              75%      max  \n",
      "Age                          43.0     60.0  \n",
      "Attrition                     NaN      NaN  \n",
      "BusinessTravel                NaN      NaN  \n",
      "DailyRate                  1157.0   1499.0  \n",
      "Department                    NaN      NaN  \n",
      "DistanceFromHome             14.0     29.0  \n",
      "Education                     4.0      5.0  \n",
      "EducationField                NaN      NaN  \n",
      "EmployeeCount                 1.0      1.0  \n",
      "EmployeeNumber            1555.75   2068.0  \n",
      "EnvironmentSatisfaction       4.0      4.0  \n",
      "Gender                        NaN      NaN  \n",
      "HourlyRate                  83.75    100.0  \n",
      "JobInvolvement                3.0      4.0  \n",
      "JobLevel                      3.0      5.0  \n",
      "JobRole                       NaN      NaN  \n",
      "JobSatisfaction               4.0      4.0  \n",
      "MaritalStatus                 NaN      NaN  \n",
      "MonthlyIncome              8379.0  19999.0  \n",
      "MonthlyRate               20461.5  26999.0  \n",
      "NumCompaniesWorked            4.0      9.0  \n",
      "Over18                        NaN      NaN  \n",
      "OverTime                      NaN      NaN  \n",
      "PercentSalaryHike            18.0     25.0  \n",
      "PerformanceRating             3.0      4.0  \n",
      "RelationshipSatisfaction      4.0      4.0  \n",
      "StandardHours                80.0     80.0  \n",
      "StockOptionLevel              1.0      3.0  \n",
      "TotalWorkingYears            15.0     40.0  \n",
      "TrainingTimesLastYear         3.0      6.0  \n",
      "WorkLifeBalance               3.0      4.0  \n",
      "YearsAtCompany                9.0     40.0  \n",
      "YearsInCurrentRole            7.0     18.0  \n",
      "YearsSinceLastPromotion       3.0     15.0  \n",
      "YearsWithCurrManager          7.0     17.0  \n"
     ]
    }
   ],
   "source": [
    "print(\"Nombres de lignes et de colonnes :\", df.shape)\n",
    "print(\"------\")\n",
    "print(\"Descriptions statistiques : \", df.describe(include=\"all\").T)"
   ]
  },
  {
   "cell_type": "code",
   "execution_count": 8,
   "metadata": {},
   "outputs": [],
   "source": [
    "        ### CHOIX DU SUJET D'ETUDE      = Etude des raisons de l'attrition dans l'entreprise."
   ]
  },
  {
   "cell_type": "code",
   "execution_count": 9,
   "metadata": {},
   "outputs": [
    {
     "data": {
      "text/plain": [
       "np.int64(0)"
      ]
     },
     "execution_count": 9,
     "metadata": {},
     "output_type": "execute_result"
    }
   ],
   "source": [
    "# Vérification des doublons :\n",
    "doublons =df.duplicated().sum()\n",
    "doublons"
   ]
  },
  {
   "cell_type": "code",
   "execution_count": 10,
   "metadata": {},
   "outputs": [],
   "source": [
    "# pas de doublon"
   ]
  },
  {
   "cell_type": "code",
   "execution_count": 11,
   "metadata": {},
   "outputs": [
    {
     "name": "stdout",
     "output_type": "stream",
     "text": [
      "Age                         False\n",
      "Attrition                   False\n",
      "BusinessTravel              False\n",
      "DailyRate                   False\n",
      "Department                  False\n",
      "DistanceFromHome            False\n",
      "Education                   False\n",
      "EducationField              False\n",
      "EmployeeCount               False\n",
      "EmployeeNumber              False\n",
      "EnvironmentSatisfaction     False\n",
      "Gender                      False\n",
      "HourlyRate                  False\n",
      "JobInvolvement              False\n",
      "JobLevel                    False\n",
      "JobRole                     False\n",
      "JobSatisfaction             False\n",
      "MaritalStatus               False\n",
      "MonthlyIncome               False\n",
      "MonthlyRate                 False\n",
      "NumCompaniesWorked          False\n",
      "Over18                      False\n",
      "OverTime                    False\n",
      "PercentSalaryHike           False\n",
      "PerformanceRating           False\n",
      "RelationshipSatisfaction    False\n",
      "StandardHours               False\n",
      "StockOptionLevel            False\n",
      "TotalWorkingYears           False\n",
      "TrainingTimesLastYear       False\n",
      "WorkLifeBalance             False\n",
      "YearsAtCompany              False\n",
      "YearsInCurrentRole          False\n",
      "YearsSinceLastPromotion     False\n",
      "YearsWithCurrManager        False\n",
      "dtype: bool\n"
     ]
    }
   ],
   "source": [
    "# Vérification des valeurs manquantes :\n",
    "valeurs_manquantes = df.isnull().any()\n",
    "print(valeurs_manquantes)"
   ]
  },
  {
   "cell_type": "code",
   "execution_count": 12,
   "metadata": {},
   "outputs": [],
   "source": [
    "# pas de valeur manquante"
   ]
  },
  {
   "cell_type": "code",
   "execution_count": 13,
   "metadata": {},
   "outputs": [
    {
     "data": {
      "text/plain": [
       "Index(['EmployeeCount', 'Over18', 'StandardHours'], dtype='object')"
      ]
     },
     "execution_count": 13,
     "metadata": {},
     "output_type": "execute_result"
    }
   ],
   "source": [
    "# Repérage des colonnes ayant une valeur identique pour tous les employés :\n",
    "identical_columns = df.columns[df.nunique() == 1]\n",
    "identical_columns"
   ]
  },
  {
   "cell_type": "code",
   "execution_count": 14,
   "metadata": {},
   "outputs": [],
   "source": [
    "#'EmployeeCount' va nous servir pour faire l'EDA avec le logiciel TABLEAU, donc nous gardons cette colonne.\n",
    "#'Over18' et 'StandardHours' sont des colonnes que nous allons éliminer puisqu'elles contiennent la même valeur pour tous les employés et donc ne présentent pas d'intérêt pour notre étude."
   ]
  },
  {
   "cell_type": "code",
   "execution_count": 15,
   "metadata": {},
   "outputs": [
    {
     "name": "stdout",
     "output_type": "stream",
     "text": [
      "Index(['EmployeeNumber'], dtype='object')\n"
     ]
    }
   ],
   "source": [
    "# Repérage des colonnes comportant des valeurs unqiques à chaque ligne :\n",
    "unique_columns = df.columns[df.nunique() == df.shape[0]]\n",
    "print(unique_columns)"
   ]
  },
  {
   "cell_type": "code",
   "execution_count": 16,
   "metadata": {},
   "outputs": [],
   "source": [
    "# Nous allons supprimer 'EmployeeNumber' car cette colonne contient des valeurs propres à chaque employé, ceci afin de les identifier, mais inutiles pour notre étude puisque nous n'avons pas besoin de joindre différentes tables ensembles."
   ]
  },
  {
   "cell_type": "code",
   "execution_count": 17,
   "metadata": {},
   "outputs": [
    {
     "name": "stdout",
     "output_type": "stream",
     "text": [
      "Age                           43\n",
      "Attrition                      2\n",
      "BusinessTravel                 3\n",
      "DailyRate                    886\n",
      "Department                     3\n",
      "DistanceFromHome              29\n",
      "Education                      5\n",
      "EducationField                 6\n",
      "EmployeeCount                  1\n",
      "EmployeeNumber              1470\n",
      "EnvironmentSatisfaction        4\n",
      "Gender                         2\n",
      "HourlyRate                    71\n",
      "JobInvolvement                 4\n",
      "JobLevel                       5\n",
      "JobRole                        9\n",
      "JobSatisfaction                4\n",
      "MaritalStatus                  3\n",
      "MonthlyIncome               1349\n",
      "MonthlyRate                 1427\n",
      "NumCompaniesWorked            10\n",
      "Over18                         1\n",
      "OverTime                       2\n",
      "PercentSalaryHike             15\n",
      "PerformanceRating              2\n",
      "RelationshipSatisfaction       4\n",
      "StandardHours                  1\n",
      "StockOptionLevel               4\n",
      "TotalWorkingYears             40\n",
      "TrainingTimesLastYear          7\n",
      "WorkLifeBalance                4\n",
      "YearsAtCompany                37\n",
      "YearsInCurrentRole            19\n",
      "YearsSinceLastPromotion       16\n",
      "YearsWithCurrManager          18\n",
      "dtype: int64\n"
     ]
    }
   ],
   "source": [
    "print(df.nunique())"
   ]
  },
  {
   "cell_type": "code",
   "execution_count": 18,
   "metadata": {},
   "outputs": [],
   "source": [
    "# On voit que la variable numérique 'PerformanceRating' n'est dispersée que sur deux valeurs, or il s'agit d'une variable catégorielle codée (=variable catégorielle discrète) \n",
    "# D'autre part, avec l'analyse descriptive faite en amont, nous savons que seules les catégories 3 et 4 sont présentes pour cette variable (pour 4 possibilités)\n",
    "# Nous l'éliminons car elle n'est pas assez dispersée."
   ]
  },
  {
   "cell_type": "code",
   "execution_count": 19,
   "metadata": {},
   "outputs": [],
   "source": [
    "# Suppression des 3 colonnes inutiles à l'EDA ET au MACHINE LEARNING :\n",
    "\n",
    "df.drop(['Over18', 'StandardHours','EmployeeNumber','PerformanceRating'], axis=1, inplace=True)"
   ]
  },
  {
   "cell_type": "code",
   "execution_count": 20,
   "metadata": {},
   "outputs": [
    {
     "name": "stdout",
     "output_type": "stream",
     "text": [
      "(1470, 31)\n"
     ]
    },
    {
     "data": {
      "text/plain": [
       "Index(['Age', 'Attrition', 'BusinessTravel', 'DailyRate', 'Department',\n",
       "       'DistanceFromHome', 'Education', 'EducationField', 'EmployeeCount',\n",
       "       'EnvironmentSatisfaction', 'Gender', 'HourlyRate', 'JobInvolvement',\n",
       "       'JobLevel', 'JobRole', 'JobSatisfaction', 'MaritalStatus',\n",
       "       'MonthlyIncome', 'MonthlyRate', 'NumCompaniesWorked', 'OverTime',\n",
       "       'PercentSalaryHike', 'RelationshipSatisfaction', 'StockOptionLevel',\n",
       "       'TotalWorkingYears', 'TrainingTimesLastYear', 'WorkLifeBalance',\n",
       "       'YearsAtCompany', 'YearsInCurrentRole', 'YearsSinceLastPromotion',\n",
       "       'YearsWithCurrManager'],\n",
       "      dtype='object')"
      ]
     },
     "execution_count": 20,
     "metadata": {},
     "output_type": "execute_result"
    }
   ],
   "source": [
    "# Vérification\n",
    "print (df.shape)\n",
    "df.columns"
   ]
  },
  {
   "cell_type": "code",
   "execution_count": 21,
   "metadata": {},
   "outputs": [],
   "source": [
    "#### Repérage des OUTLIERS pour les colonnes ayant des valeurs numériques continues non ordonnées\n",
    "\n",
    "# colonnes concernées : \n",
    "# \"MonthlyIncome\"\n",
    "# \"PercentSalaryHike\"\n",
    "# \"MonthlyRate\"\n",
    "# \"DailyRate\"\n",
    "# \"HourlyRate\"\n",
    "\n"
   ]
  },
  {
   "cell_type": "code",
   "execution_count": 22,
   "metadata": {},
   "outputs": [
    {
     "data": {
      "text/plain": [
       "<Axes: ylabel='MonthlyIncome'>"
      ]
     },
     "execution_count": 22,
     "metadata": {},
     "output_type": "execute_result"
    },
    {
     "data": {
      "image/png": "[encoded data removed]",
      "text/plain": [
       "<Figure size 640x480 with 1 Axes>"
      ]
     },
     "metadata": {},
     "output_type": "display_data"
    }
   ],
   "source": [
    "# Box Plot \"MonthlyIncome\"\n",
    "sns.boxplot(df[\"MonthlyIncome\"])"
   ]
  },
  {
   "cell_type": "code",
   "execution_count": 23,
   "metadata": {},
   "outputs": [
    {
     "name": "stdout",
     "output_type": "stream",
     "text": [
      "Borne inférieure: -5291.0\n",
      "Borne supérieure: 16581.0\n"
     ]
    }
   ],
   "source": [
    "# Calcul des quartiles\n",
    "Q1_MI = df[\"MonthlyIncome\"].quantile(0.25)  # Premier quartile (Q1)\n",
    "Q3_MI = df[\"MonthlyIncome\"].quantile(0.75)  # Troisième quartile (Q3)\n",
    "IQR_MI = Q3_MI - Q1_MI  # Intervalle interquartile\n",
    "\n",
    "# Définition des bornes des valeurs aberrantes\n",
    "borne_inf_MI = Q1_MI - 1.5 * IQR_MI\n",
    "borne_sup_MI = Q3_MI + 1.5 * IQR_MI\n",
    "print(\"Borne inférieure:\", borne_inf_MI)\n",
    "print(\"Borne supérieure:\", borne_sup_MI)\n"
   ]
  },
  {
   "cell_type": "code",
   "execution_count": 24,
   "metadata": {},
   "outputs": [],
   "source": [
    "# On peut voir que les valeurs supérieures à 16 581 réagissent comme des valeurs atypiques pour la colonne -MonthlyIncome-.\n",
    "# Cependant, bien qu'extrêmes, ces valeurs ne sont pas aberrantes. Elles sont le resultat de la politique RH de l'entreprise."
   ]
  },
  {
   "cell_type": "code",
   "execution_count": 25,
   "metadata": {},
   "outputs": [
    {
     "data": {
      "text/plain": [
       "<Axes: ylabel='PercentSalaryHike'>"
      ]
     },
     "execution_count": 25,
     "metadata": {},
     "output_type": "execute_result"
    },
    {
     "data": {
      "image/png": "[encoded data removed]",
      "text/plain": [
       "<Figure size 640x480 with 1 Axes>"
      ]
     },
     "metadata": {},
     "output_type": "display_data"
    }
   ],
   "source": [
    "# Box Plot \"PercentSalaryHike\"\n",
    "sns.boxplot(df[\"PercentSalaryHike\"])"
   ]
  },
  {
   "cell_type": "code",
   "execution_count": 26,
   "metadata": {},
   "outputs": [],
   "source": [
    "# Pas de valeurs atypiques à éliminer pour la colonne -PercentSalaryHike-."
   ]
  },
  {
   "cell_type": "code",
   "execution_count": 27,
   "metadata": {},
   "outputs": [
    {
     "data": {
      "text/plain": [
       "<Axes: ylabel='MonthlyRate'>"
      ]
     },
     "execution_count": 27,
     "metadata": {},
     "output_type": "execute_result"
    },
    {
     "data": {
      "image/png": "[encoded data removed]",
      "text/plain": [
       "<Figure size 640x480 with 1 Axes>"
      ]
     },
     "metadata": {},
     "output_type": "display_data"
    }
   ],
   "source": [
    "# Box Plot \"MonthlyRate\"\n",
    "sns.boxplot(df[\"MonthlyRate\"])"
   ]
  },
  {
   "cell_type": "code",
   "execution_count": 28,
   "metadata": {},
   "outputs": [],
   "source": [
    "# Pas de valeurs atypiques à éliminer pour la colonne -MonthlyRate-."
   ]
  },
  {
   "cell_type": "code",
   "execution_count": 29,
   "metadata": {},
   "outputs": [
    {
     "data": {
      "text/plain": [
       "<Axes: ylabel='DailyRate'>"
      ]
     },
     "execution_count": 29,
     "metadata": {},
     "output_type": "execute_result"
    },
    {
     "data": {
      "image/png": "[encoded data removed]",
      "text/plain": [
       "<Figure size 640x480 with 1 Axes>"
      ]
     },
     "metadata": {},
     "output_type": "display_data"
    }
   ],
   "source": [
    "# Box Plot \"DailyRate\"\n",
    "sns.boxplot(df[\"DailyRate\"])"
   ]
  },
  {
   "cell_type": "code",
   "execution_count": 30,
   "metadata": {},
   "outputs": [],
   "source": [
    "# Pas de valeurs atypiques à éliminer pour la colonne -DailyRate-."
   ]
  },
  {
   "cell_type": "code",
   "execution_count": 31,
   "metadata": {},
   "outputs": [
    {
     "data": {
      "text/plain": [
       "<Axes: ylabel='HourlyRate'>"
      ]
     },
     "execution_count": 31,
     "metadata": {},
     "output_type": "execute_result"
    },
    {
     "data": {
      "image/png": "[encoded data removed]",
      "text/plain": [
       "<Figure size 640x480 with 1 Axes>"
      ]
     },
     "metadata": {},
     "output_type": "display_data"
    }
   ],
   "source": [
    "# Box Plot \"HourlyRate\"\n",
    "sns.boxplot(df[\"HourlyRate\"])"
   ]
  },
  {
   "cell_type": "code",
   "execution_count": 32,
   "metadata": {},
   "outputs": [],
   "source": [
    "# Pas de valeurs atypiques à éliminer pour la colonne -HourlyRate-."
   ]
  },
  {
   "cell_type": "code",
   "execution_count": 33,
   "metadata": {},
   "outputs": [],
   "source": [
    "# Pour l'EDA et pour une facilité de lecture, nous allons changer les variables numériques discrètes et ordinales en variables catégorielles."
   ]
  },
  {
   "cell_type": "code",
   "execution_count": 34,
   "metadata": {},
   "outputs": [],
   "source": [
    "# Changement des variables numériques discrètes et ordinales en variables catégorielles :\n",
    "df[\"Education\"] = df[\"Education\"].replace({1:\"1_Below College\",2:\"2_College\",3:\"3_Bachelor\",4:\"4_Master\",5:\"5_Doctor\"})\n",
    "df[\"EnvironmentSatisfaction\"] = df[\"EnvironmentSatisfaction\"].replace({1:\"1_Faible\",2:\"2_Moyen\",3:\"3_Elevée\",4:\"4_Très élevée\"})\n",
    "df[\"JobInvolvement\"] = df[\"JobInvolvement\"].replace({1:\"1_Faible\",2:\"2_Moyen\",3:\"3_Elevée\",4:\"4_Très élevée\"})\n",
    "df[\"JobLevel\"] = df[\"JobLevel\"].replace({1:\"1_Débutant\",2:\"2_Junior\",3:\"3_Confirmé\",4:\"4_Senior\",\n",
    "                                         5:\"5_Expert\"})\n",
    "df[\"JobSatisfaction\"] = df[\"JobSatisfaction\"].replace({1:\"1_Faible\",2:\"2_Moyen\",3:\"3_Elevée\",4:\"4_Très élevée\"})\n",
    "df[\"RelationshipSatisfaction\"] = df[\"RelationshipSatisfaction\"].replace({1:\"1_Faible\",2:\"2_Moyen\",3:\"3_Elevée\",4:\"4_Très élevée\"})\n",
    "df[\"WorkLifeBalance\"] = df[\"WorkLifeBalance\"].replace({1:\"1_Mauvais\",2:\"2_Bon\",3:\"3_Très bon\",4:\"5_Parfait\"})\n"
   ]
  },
  {
   "cell_type": "code",
   "execution_count": 35,
   "metadata": {},
   "outputs": [
    {
     "data": {
      "text/plain": [
       "Age                          int64\n",
       "Attrition                   object\n",
       "BusinessTravel              object\n",
       "DailyRate                    int64\n",
       "Department                  object\n",
       "DistanceFromHome             int64\n",
       "Education                   object\n",
       "EducationField              object\n",
       "EmployeeCount                int64\n",
       "EnvironmentSatisfaction     object\n",
       "Gender                      object\n",
       "HourlyRate                   int64\n",
       "JobInvolvement              object\n",
       "JobLevel                    object\n",
       "JobRole                     object\n",
       "JobSatisfaction             object\n",
       "MaritalStatus               object\n",
       "MonthlyIncome                int64\n",
       "MonthlyRate                  int64\n",
       "NumCompaniesWorked           int64\n",
       "OverTime                    object\n",
       "PercentSalaryHike            int64\n",
       "RelationshipSatisfaction    object\n",
       "StockOptionLevel             int64\n",
       "TotalWorkingYears            int64\n",
       "TrainingTimesLastYear        int64\n",
       "WorkLifeBalance             object\n",
       "YearsAtCompany               int64\n",
       "YearsInCurrentRole           int64\n",
       "YearsSinceLastPromotion      int64\n",
       "YearsWithCurrManager         int64\n",
       "dtype: object"
      ]
     },
     "execution_count": 35,
     "metadata": {},
     "output_type": "execute_result"
    }
   ],
   "source": [
    "df.dtypes"
   ]
  },
  {
   "cell_type": "code",
   "execution_count": 36,
   "metadata": {},
   "outputs": [],
   "source": [
    "# création d'un fichier .csv pour la réalisation de représentations graphiques avec le logiciel TABLEAU\n",
    "# afin de proposer une description visuelle de notre jeu de données\n",
    "#df.to_csv(\"----date-------------IBM_projet_groupe_nett_EDA.csv\")\n",
    "#df.to_csv(\"IBM_EDA-fichier_pour_TABLEAU.csv\")"
   ]
  },
  {
   "cell_type": "code",
   "execution_count": 37,
   "metadata": {},
   "outputs": [
    {
     "name": "stdout",
     "output_type": "stream",
     "text": [
      "Suppression d'une colonne inutile au MACHINE LEARNING :\n"
     ]
    },
    {
     "data": {
      "application/vnd.microsoft.datawrangler.viewer.v0+json": {
       "columns": [
        {
         "name": "index",
         "rawType": "int64",
         "type": "integer"
        },
        {
         "name": "Age",
         "rawType": "int64",
         "type": "integer"
        },
        {
         "name": "Attrition",
         "rawType": "object",
         "type": "string"
        },
        {
         "name": "BusinessTravel",
         "rawType": "object",
         "type": "string"
        },
        {
         "name": "DailyRate",
         "rawType": "int64",
         "type": "integer"
        },
        {
         "name": "Department",
         "rawType": "object",
         "type": "string"
        },
        {
         "name": "DistanceFromHome",
         "rawType": "int64",
         "type": "integer"
        },
        {
         "name": "Education",
         "rawType": "object",
         "type": "string"
        },
        {
         "name": "EducationField",
         "rawType": "object",
         "type": "string"
        },
        {
         "name": "EnvironmentSatisfaction",
         "rawType": "object",
         "type": "string"
        },
        {
         "name": "Gender",
         "rawType": "object",
         "type": "string"
        },
        {
         "name": "HourlyRate",
         "rawType": "int64",
         "type": "integer"
        },
        {
         "name": "JobInvolvement",
         "rawType": "object",
         "type": "string"
        },
        {
         "name": "JobLevel",
         "rawType": "object",
         "type": "string"
        },
        {
         "name": "JobRole",
         "rawType": "object",
         "type": "string"
        },
        {
         "name": "JobSatisfaction",
         "rawType": "object",
         "type": "string"
        },
        {
         "name": "MonthlyIncome",
         "rawType": "int64",
         "type": "integer"
        },
        {
         "name": "MonthlyRate",
         "rawType": "int64",
         "type": "integer"
        },
        {
         "name": "NumCompaniesWorked",
         "rawType": "int64",
         "type": "integer"
        },
        {
         "name": "OverTime",
         "rawType": "object",
         "type": "string"
        },
        {
         "name": "PercentSalaryHike",
         "rawType": "int64",
         "type": "integer"
        },
        {
         "name": "RelationshipSatisfaction",
         "rawType": "object",
         "type": "string"
        },
        {
         "name": "StockOptionLevel",
         "rawType": "int64",
         "type": "integer"
        },
        {
         "name": "TotalWorkingYears",
         "rawType": "int64",
         "type": "integer"
        },
        {
         "name": "TrainingTimesLastYear",
         "rawType": "int64",
         "type": "integer"
        },
        {
         "name": "WorkLifeBalance",
         "rawType": "object",
         "type": "string"
        },
        {
         "name": "YearsAtCompany",
         "rawType": "int64",
         "type": "integer"
        },
        {
         "name": "YearsInCurrentRole",
         "rawType": "int64",
         "type": "integer"
        },
        {
         "name": "YearsSinceLastPromotion",
         "rawType": "int64",
         "type": "integer"
        },
        {
         "name": "YearsWithCurrManager",
         "rawType": "int64",
         "type": "integer"
        }
       ],
       "conversionMethod": "pd.DataFrame",
       "ref": "f78db65f-9837-4eb8-a3a7-89b3b15b83f0",
       "rows": [
        [
         "0",
         "41",
         "Yes",
         "Travel_Rarely",
         "1102",
         "Sales",
         "1",
         "2_College",
         "Life Sciences",
         "2_Moyen",
         "Female",
         "94",
         "3_Elevée",
         "2_Junior",
         "Sales Executive",
         "4_Très élevée",
         "5993",
         "19479",
         "8",
         "Yes",
         "11",
         "1_Faible",
         "0",
         "8",
         "0",
         "1_Mauvais",
         "6",
         "4",
         "0",
         "5"
        ],
        [
         "1",
         "49",
         "No",
         "Travel_Frequently",
         "279",
         "Research & Development",
         "8",
         "1_Below College",
         "Life Sciences",
         "3_Elevée",
         "Male",
         "61",
         "2_Moyen",
         "2_Junior",
         "Research Scientist",
         "2_Moyen",
         "5130",
         "24907",
         "1",
         "No",
         "23",
         "4_Très élevée",
         "1",
         "10",
         "3",
         "3_Très bon",
         "10",
         "7",
         "1",
         "7"
        ]
       ],
       "shape": {
        "columns": 29,
        "rows": 2
       }
      },
      "text/html": [
       "<div>\n",
       "<style scoped>\n",
       "    .dataframe tbody tr th:only-of-type {\n",
       "        vertical-align: middle;\n",
       "    }\n",
       "\n",
       "    .dataframe tbody tr th {\n",
       "        vertical-align: top;\n",
       "    }\n",
       "\n",
       "    .dataframe thead th {\n",
       "        text-align: right;\n",
       "    }\n",
       "</style>\n",
       "<table border=\"1\" class=\"dataframe\">\n",
       "  <thead>\n",
       "    <tr style=\"text-align: right;\">\n",
       "      <th></th>\n",
       "      <th>Age</th>\n",
       "      <th>Attrition</th>\n",
       "      <th>BusinessTravel</th>\n",
       "      <th>DailyRate</th>\n",
       "      <th>Department</th>\n",
       "      <th>DistanceFromHome</th>\n",
       "      <th>Education</th>\n",
       "      <th>EducationField</th>\n",
       "      <th>EnvironmentSatisfaction</th>\n",
       "      <th>Gender</th>\n",
       "      <th>...</th>\n",
       "      <th>PercentSalaryHike</th>\n",
       "      <th>RelationshipSatisfaction</th>\n",
       "      <th>StockOptionLevel</th>\n",
       "      <th>TotalWorkingYears</th>\n",
       "      <th>TrainingTimesLastYear</th>\n",
       "      <th>WorkLifeBalance</th>\n",
       "      <th>YearsAtCompany</th>\n",
       "      <th>YearsInCurrentRole</th>\n",
       "      <th>YearsSinceLastPromotion</th>\n",
       "      <th>YearsWithCurrManager</th>\n",
       "    </tr>\n",
       "  </thead>\n",
       "  <tbody>\n",
       "    <tr>\n",
       "      <th>0</th>\n",
       "      <td>41</td>\n",
       "      <td>Yes</td>\n",
       "      <td>Travel_Rarely</td>\n",
       "      <td>1102</td>\n",
       "      <td>Sales</td>\n",
       "      <td>1</td>\n",
       "      <td>2_College</td>\n",
       "      <td>Life Sciences</td>\n",
       "      <td>2_Moyen</td>\n",
       "      <td>Female</td>\n",
       "      <td>...</td>\n",
       "      <td>11</td>\n",
       "      <td>1_Faible</td>\n",
       "      <td>0</td>\n",
       "      <td>8</td>\n",
       "      <td>0</td>\n",
       "      <td>1_Mauvais</td>\n",
       "      <td>6</td>\n",
       "      <td>4</td>\n",
       "      <td>0</td>\n",
       "      <td>5</td>\n",
       "    </tr>\n",
       "    <tr>\n",
       "      <th>1</th>\n",
       "      <td>49</td>\n",
       "      <td>No</td>\n",
       "      <td>Travel_Frequently</td>\n",
       "      <td>279</td>\n",
       "      <td>Research &amp; Development</td>\n",
       "      <td>8</td>\n",
       "      <td>1_Below College</td>\n",
       "      <td>Life Sciences</td>\n",
       "      <td>3_Elevée</td>\n",
       "      <td>Male</td>\n",
       "      <td>...</td>\n",
       "      <td>23</td>\n",
       "      <td>4_Très élevée</td>\n",
       "      <td>1</td>\n",
       "      <td>10</td>\n",
       "      <td>3</td>\n",
       "      <td>3_Très bon</td>\n",
       "      <td>10</td>\n",
       "      <td>7</td>\n",
       "      <td>1</td>\n",
       "      <td>7</td>\n",
       "    </tr>\n",
       "  </tbody>\n",
       "</table>\n",
       "<p>2 rows × 29 columns</p>\n",
       "</div>"
      ],
      "text/plain": [
       "   Age Attrition     BusinessTravel  DailyRate              Department  \\\n",
       "0   41       Yes      Travel_Rarely       1102                   Sales   \n",
       "1   49        No  Travel_Frequently        279  Research & Development   \n",
       "\n",
       "   DistanceFromHome        Education EducationField EnvironmentSatisfaction  \\\n",
       "0                 1        2_College  Life Sciences                 2_Moyen   \n",
       "1                 8  1_Below College  Life Sciences                3_Elevée   \n",
       "\n",
       "   Gender  ...  PercentSalaryHike RelationshipSatisfaction StockOptionLevel  \\\n",
       "0  Female  ...                 11                 1_Faible                0   \n",
       "1    Male  ...                 23            4_Très élevée                1   \n",
       "\n",
       "  TotalWorkingYears TrainingTimesLastYear  WorkLifeBalance  YearsAtCompany  \\\n",
       "0                 8                     0        1_Mauvais               6   \n",
       "1                10                     3       3_Très bon              10   \n",
       "\n",
       "   YearsInCurrentRole YearsSinceLastPromotion  YearsWithCurrManager  \n",
       "0                   4                       0                     5  \n",
       "1                   7                       1                     7  \n",
       "\n",
       "[2 rows x 29 columns]"
      ]
     },
     "execution_count": 37,
     "metadata": {},
     "output_type": "execute_result"
    }
   ],
   "source": [
    "print(\"Suppression d'une colonne inutile au MACHINE LEARNING :\")\n",
    "\n",
    "df.drop(['EmployeeCount', 'MaritalStatus'], axis=1, inplace=True)\n",
    "df.head(2)"
   ]
  },
  {
   "cell_type": "code",
   "execution_count": 38,
   "metadata": {},
   "outputs": [],
   "source": [
    "### Analyses des corrélations entre les variables "
   ]
  },
  {
   "cell_type": "code",
   "execution_count": 39,
   "metadata": {},
   "outputs": [],
   "source": [
    "        ### CORRELOGRAMME "
   ]
  },
  {
   "cell_type": "code",
   "execution_count": 40,
   "metadata": {},
   "outputs": [],
   "source": [
    "#### Construction d'un correlogramme  = matrice de corrélation\n",
    "# = analyse de la corrélation entre les variables quantitatives uniquement\n",
    "# = permet de voir si des variables numériques sont corrélées entre elles\n",
    "# = Analyse univariée"
   ]
  },
  {
   "cell_type": "code",
   "execution_count": 41,
   "metadata": {},
   "outputs": [
    {
     "data": {
      "image/png": "[encoded data removed]",
      "text/plain": [
       "<Figure size 5000x4000 with 2 Axes>"
      ]
     },
     "metadata": {},
     "output_type": "display_data"
    }
   ],
   "source": [
    "# sélection des variables numériques\n",
    "numeric_features_correlogram = df.select_dtypes(include=[np.number])\n",
    "\n",
    "# Calcul de la matrice de corrélation\n",
    "corr_matrix = numeric_features_correlogram.corr()\n",
    "\n",
    "# création d'un masque pour la partie triangulaire supérieure\n",
    "mask = np.triu(np.ones_like(corr_matrix, dtype=bool))\n",
    "\n",
    "# Affichage de la matrice de corrélation\n",
    "kot= corr_matrix[(corr_matrix != 1.00) & (corr_matrix != -1.00) & (corr_matrix != 0.00)]\n",
    "plt.figure(figsize=(50, 40))\n",
    "sns.heatmap(kot, annot=True, cmap='coolwarm', mask=mask,fmt= \".2f\",linewidths=0.2, linecolor='black', cbar=True)\n",
    "plt.title('Correlogramme (Heatmap de Corrélation)')\n",
    "plt.show()\n"
   ]
  },
  {
   "cell_type": "code",
   "execution_count": 42,
   "metadata": {},
   "outputs": [],
   "source": [
    "        ### VARIANCE INFLATION FACTOR (VIF)"
   ]
  },
  {
   "cell_type": "code",
   "execution_count": 43,
   "metadata": {},
   "outputs": [
    {
     "name": "stdout",
     "output_type": "stream",
     "text": [
      "                  Variables       VIF\n",
      "0                       Age  1.993289\n",
      "1                 DailyRate  1.011556\n",
      "2          DistanceFromHome  1.009449\n",
      "3                HourlyRate  1.006740\n",
      "4             MonthlyIncome  2.528847\n",
      "5               MonthlyRate  1.009022\n",
      "6        NumCompaniesWorked  1.244055\n",
      "7         PercentSalaryHike  1.006234\n",
      "8          StockOptionLevel  1.014230\n",
      "9         TotalWorkingYears  4.649899\n",
      "10    TrainingTimesLastYear  1.007529\n",
      "11           YearsAtCompany  4.564928\n",
      "12       YearsInCurrentRole  2.693085\n",
      "13  YearsSinceLastPromotion  1.669009\n",
      "14     YearsWithCurrManager  2.748116\n"
     ]
    }
   ],
   "source": [
    "### CALCUL du VIF = Variance Inflation Factor\n",
    "# pour les variables quantitatives uniquement (exclure la cible si elle est numérique)\n",
    "# permet de voir si des variables numériques sont corrélées entre elles\n",
    "# car le corrélogramme nous donne des corrélations inférieures à 0.8, mais fortes tout de même\n",
    "# Le VIF va nous aider à éliminer des prédicteurs si nécessaires\n",
    "\n",
    "# Sélection des variables numériques uniquement (exclure la cible si elle est numérique)\n",
    "X_VIF = df.select_dtypes(include=[np.number])\n",
    "\n",
    "# Standardisation des données\n",
    "X_scaled = StandardScaler().fit_transform(X_VIF)\n",
    "\n",
    "# Calcul du VIF\n",
    "VIF_data = pd.DataFrame()\n",
    "VIF_data[\"Variables\"] = X_VIF.columns\n",
    "VIF_data[\"VIF\"] = [variance_inflation_factor(X_scaled, i) for i in range(X_scaled.shape[1])]\n",
    "\n",
    "# Affichage des résultats\n",
    "print(VIF_data)"
   ]
  },
  {
   "cell_type": "code",
   "execution_count": 44,
   "metadata": {},
   "outputs": [],
   "source": [
    "# pas de multicolinéarité entre nos variables prédictives numériques\n",
    "# Nous ne pouvons pas vérifier les corrélations avec notre variable cible car elle est catégorielle "
   ]
  },
  {
   "cell_type": "code",
   "execution_count": 45,
   "metadata": {},
   "outputs": [],
   "source": [
    "# ANALYSES DE CORRELATION ENTRE LES VARIABLES PREDICTIVES ET LA CIBLE\n",
    "\n",
    "# Puisque notre variable cible est catégorielle et binaire, \n",
    "# nous allons utiliser le test de point bisérial pour les variables numériques \n",
    "# et le test du chi2 pour les variables catégorielles.\n"
   ]
  },
  {
   "cell_type": "code",
   "execution_count": 46,
   "metadata": {},
   "outputs": [],
   "source": [
    "# TEST DE POINT BISERIAL\n",
    "# pour les variables numériques uniquement et dans le cas d'une varirable cible catégorielle binaire"
   ]
  },
  {
   "cell_type": "code",
   "execution_count": 47,
   "metadata": {},
   "outputs": [
    {
     "name": "stderr",
     "output_type": "stream",
     "text": [
      "C:\\Users\\heinr\\AppData\\Local\\Temp\\ipykernel_59452\\2351598066.py:2: FutureWarning: Downcasting behavior in `replace` is deprecated and will be removed in a future version. To retain the old behavior, explicitly call `result.infer_objects(copy=False)`. To opt-in to the future behavior, set `pd.set_option('future.no_silent_downcasting', True)`\n",
      "  df[\"Attrition\"]= df[\"Attrition\"].replace({\"Yes\": 1, \"No\": 0})\n"
     ]
    }
   ],
   "source": [
    "# Variable cible :\n",
    "df[\"Attrition\"]= df[\"Attrition\"].replace({\"Yes\": 1, \"No\": 0}) \n",
    "cible = df[\"Attrition\"]\n"
   ]
  },
  {
   "cell_type": "code",
   "execution_count": 48,
   "metadata": {},
   "outputs": [],
   "source": [
    "# Liste des variables numériques à analyser :\n",
    "variables_num= ['Age', 'DailyRate','DistanceFromHome', \n",
    "                'HourlyRate', 'MonthlyIncome', 'MonthlyRate', 'NumCompaniesWorked', 'PercentSalaryHike', \n",
    "                'StockOptionLevel', 'TotalWorkingYears', 'TrainingTimesLastYear', 'YearsAtCompany', \n",
    "                'YearsInCurrentRole', 'YearsSinceLastPromotion','YearsWithCurrManager']"
   ]
  },
  {
   "cell_type": "code",
   "execution_count": 49,
   "metadata": {},
   "outputs": [
    {
     "name": "stdout",
     "output_type": "stream",
     "text": [
      "TEST DE POINT BISERIAL :\n",
      "Entre Age et Attrition : -0.159, p-value: 0.0\n",
      "La corrélation est significative\n",
      "--------------------------------\n",
      "Entre DailyRate et Attrition : -0.057, p-value: 0.03\n",
      "La corrélation est significative\n",
      "--------------------------------\n",
      "Entre DistanceFromHome et Attrition : 0.078, p-value: 0.003\n",
      "La corrélation est significative\n",
      "--------------------------------\n",
      "Entre HourlyRate et Attrition : -0.007, p-value: 0.793\n",
      "La corrélation n'est pas significative\n",
      "--------------------------------\n",
      "Entre MonthlyIncome et Attrition : -0.16, p-value: 0.0\n",
      "La corrélation est significative\n",
      "--------------------------------\n",
      "Entre MonthlyRate et Attrition : 0.015, p-value: 0.561\n",
      "La corrélation n'est pas significative\n",
      "--------------------------------\n",
      "Entre NumCompaniesWorked et Attrition : 0.043, p-value: 0.096\n",
      "La corrélation n'est pas significative\n",
      "--------------------------------\n",
      "Entre PercentSalaryHike et Attrition : -0.013, p-value: 0.606\n",
      "La corrélation n'est pas significative\n",
      "--------------------------------\n",
      "Entre StockOptionLevel et Attrition : -0.137, p-value: 0.0\n",
      "La corrélation est significative\n",
      "--------------------------------\n",
      "Entre TotalWorkingYears et Attrition : -0.171, p-value: 0.0\n",
      "La corrélation est significative\n",
      "--------------------------------\n",
      "Entre TrainingTimesLastYear et Attrition : -0.059, p-value: 0.023\n",
      "La corrélation est significative\n",
      "--------------------------------\n",
      "Entre YearsAtCompany et Attrition : -0.134, p-value: 0.0\n",
      "La corrélation est significative\n",
      "--------------------------------\n",
      "Entre YearsInCurrentRole et Attrition : -0.161, p-value: 0.0\n",
      "La corrélation est significative\n",
      "--------------------------------\n",
      "Entre YearsSinceLastPromotion et Attrition : -0.033, p-value: 0.206\n",
      "La corrélation n'est pas significative\n",
      "--------------------------------\n",
      "Entre YearsWithCurrManager et Attrition : -0.156, p-value: 0.0\n",
      "La corrélation est significative\n",
      "--------------------------------\n"
     ]
    }
   ],
   "source": [
    "print(\"TEST DE POINT BISERIAL :\")\n",
    "for i in variables_num:\n",
    "    corr, p_value = pointbiserialr(df[i], cible)\n",
    "    \n",
    "    print(f\"Entre {i} et Attrition : {round(corr,3)}, p-value: {round(p_value,3)}\")\n",
    "\n",
    "    if p_value < 0.05:\n",
    "        print(\"La corrélation est significative\")\n",
    "        print(\"-\" * 32)  # Séparation des résultats pour chaque variable\n",
    "    else:\n",
    "        print(\"La corrélation n'est pas significative\")\n",
    "        print(\"-\" * 32)  # Séparation des résultats pour chaque variable\n"
   ]
  },
  {
   "cell_type": "code",
   "execution_count": 50,
   "metadata": {},
   "outputs": [],
   "source": [
    "# Test de Chi² pour les variables catégorielles\n"
   ]
  },
  {
   "cell_type": "code",
   "execution_count": 51,
   "metadata": {},
   "outputs": [
    {
     "name": "stdout",
     "output_type": "stream",
     "text": [
      "TEST DU CHI2 :\n",
      "Le Chi2 entre BusinessTravel et Attrition est : 24.182, avec pour p-value: 0.0\n",
      "La relation entre BusinessTravel et Attrition est statistiquement significative\n",
      "--------------------------------\n",
      "Le Chi2 entre Department et Attrition est : 10.796, avec pour p-value: 0.005\n",
      "La relation entre Department et Attrition est statistiquement significative\n",
      "--------------------------------\n",
      "Le Chi2 entre Education et Attrition est : 3.074, avec pour p-value: 0.546\n",
      "La relation entre Education et Attrition n'est pas statistiquement significative\n",
      "--------------------------------\n",
      "Le Chi2 entre EducationField et Attrition est : 16.025, avec pour p-value: 0.007\n",
      "La relation entre EducationField et Attrition est statistiquement significative\n",
      "--------------------------------\n",
      "Le Chi2 entre EnvironmentSatisfaction et Attrition est : 22.504, avec pour p-value: 0.0\n",
      "La relation entre EnvironmentSatisfaction et Attrition est statistiquement significative\n",
      "--------------------------------\n",
      "Le Chi2 entre Gender et Attrition est : 1.117, avec pour p-value: 0.291\n",
      "La relation entre Gender et Attrition n'est pas statistiquement significative\n",
      "--------------------------------\n",
      "Le Chi2 entre JobInvolvement et Attrition est : 28.492, avec pour p-value: 0.0\n",
      "La relation entre JobInvolvement et Attrition est statistiquement significative\n",
      "--------------------------------\n",
      "Le Chi2 entre JobLevel et Attrition est : 72.529, avec pour p-value: 0.0\n",
      "La relation entre JobLevel et Attrition est statistiquement significative\n",
      "--------------------------------\n",
      "Le Chi2 entre JobRole et Attrition est : 86.19, avec pour p-value: 0.0\n",
      "La relation entre JobRole et Attrition est statistiquement significative\n",
      "--------------------------------\n",
      "Le Chi2 entre JobSatisfaction et Attrition est : 17.505, avec pour p-value: 0.001\n",
      "La relation entre JobSatisfaction et Attrition est statistiquement significative\n",
      "--------------------------------\n",
      "Le Chi2 entre OverTime et Attrition est : 87.564, avec pour p-value: 0.0\n",
      "La relation entre OverTime et Attrition est statistiquement significative\n",
      "--------------------------------\n",
      "Le Chi2 entre RelationshipSatisfaction et Attrition est : 5.241, avec pour p-value: 0.155\n",
      "La relation entre RelationshipSatisfaction et Attrition n'est pas statistiquement significative\n",
      "--------------------------------\n",
      "Le Chi2 entre WorkLifeBalance et Attrition est : 16.325, avec pour p-value: 0.001\n",
      "La relation entre WorkLifeBalance et Attrition est statistiquement significative\n",
      "--------------------------------\n"
     ]
    }
   ],
   "source": [
    "print(\"TEST DU CHI2 :\")\n",
    "variables_cat = ['BusinessTravel', 'Department', 'Education','EducationField',\n",
    "                'EnvironmentSatisfaction','Gender', 'JobInvolvement',\n",
    "                'JobLevel', 'JobRole', 'JobSatisfaction',\n",
    "                'OverTime', 'RelationshipSatisfaction', 'WorkLifeBalance']\n",
    "\n",
    "for i in variables_cat:\n",
    "    contingency_table = pd.crosstab(df[i], df['Attrition'])\n",
    "    chi2_stat, p_value, dof, expected = chi2_contingency(contingency_table)\n",
    "    print (f\"Le Chi2 entre {i} et Attrition est : {round(chi2_stat,3)}, avec pour p-value: {round(p_value,3)}\")\n",
    "    if p_value < 0.05:\n",
    "        print(f\"La relation entre {i} et Attrition est statistiquement significative\")\n",
    "        print(\"-\" * 32)  # Séparation des résultats pour chaque variable\n",
    "    else:\n",
    "        print(f\"La relation entre {i} et Attrition n'est pas statistiquement significative\")\n",
    "        print(\"-\" * 32)  # Séparation des résultats pour chaque variable\n",
    "\n",
    "    \n"
   ]
  },
  {
   "cell_type": "code",
   "execution_count": 52,
   "metadata": {},
   "outputs": [],
   "source": [
    "### PREPARATION DES DONNEES POUR LE MACHINE LEARNING"
   ]
  },
  {
   "cell_type": "code",
   "execution_count": 53,
   "metadata": {},
   "outputs": [
    {
     "data": {
      "text/plain": [
       "count    1401.000000\n",
       "mean       35.941470\n",
       "std         8.176325\n",
       "min        18.000000\n",
       "25%        30.000000\n",
       "50%        35.000000\n",
       "75%        42.000000\n",
       "max        54.000000\n",
       "Name: Age, dtype: float64"
      ]
     },
     "execution_count": 53,
     "metadata": {},
     "output_type": "execute_result"
    }
   ],
   "source": [
    "# on enlève une partie de notre population,\n",
    "# Les personnes de plus de 55 ans ne doivent pas non plus prendre le risque de partir\n",
    "df = df[df[\"Age\"] < 55]\n",
    "df[\"Age\"].describe().T"
   ]
  },
  {
   "cell_type": "code",
   "execution_count": 54,
   "metadata": {},
   "outputs": [],
   "source": [
    "# Suppression de variables pour lesquelles la corrélation avec la variable cible n'est pas significative\n",
    "\n",
    "    # Variables numériques à supprimer :\n",
    "    # 'NumCompaniesWorked', 'PercentSalaryHike', 'YearsSinceLastPromotion', 'HourlyRate','MonthlyRate' \n",
    "\n",
    "    # variables catégorielles à supprimer :\n",
    "    # 'Gender', 'Education', 'RelationshipSatisfaction'\n",
    "\n",
    "# Nous allons également supprimer la variable 'DailyRate', même si elle est significative, elle montre la même chose que la variable 'MonthlyIncome'\n",
    "# D'autre part, nous avons eu du mal à comprendre ce qu'elle représentait, ou bien il y a des erreurs dans la collecte des données."
   ]
  },
  {
   "cell_type": "code",
   "execution_count": 55,
   "metadata": {},
   "outputs": [
    {
     "name": "stdout",
     "output_type": "stream",
     "text": [
      "Nombres de lignes et de colonnes : (1401, 20)\n"
     ]
    },
    {
     "data": {
      "text/plain": [
       "Index(['Age', 'Attrition', 'BusinessTravel', 'Department', 'DistanceFromHome',\n",
       "       'EducationField', 'EnvironmentSatisfaction', 'JobInvolvement',\n",
       "       'JobLevel', 'JobRole', 'JobSatisfaction', 'MonthlyIncome', 'OverTime',\n",
       "       'StockOptionLevel', 'TotalWorkingYears', 'TrainingTimesLastYear',\n",
       "       'WorkLifeBalance', 'YearsAtCompany', 'YearsInCurrentRole',\n",
       "       'YearsWithCurrManager'],\n",
       "      dtype='object')"
      ]
     },
     "execution_count": 55,
     "metadata": {},
     "output_type": "execute_result"
    }
   ],
   "source": [
    "df.drop(['NumCompaniesWorked', 'PercentSalaryHike', 'YearsSinceLastPromotion', 'HourlyRate','MonthlyRate','Gender', 'Education', 'RelationshipSatisfaction', 'DailyRate'], axis=1, inplace=True)\n",
    "# verification du nombre de lignes et de colonnes\n",
    "print(\"Nombres de lignes et de colonnes :\", df.shape)\n",
    "df.columns"
   ]
  },
  {
   "cell_type": "code",
   "execution_count": 56,
   "metadata": {},
   "outputs": [],
   "source": [
    "        #### PROBLEMES repérés dans le DATAFRAME \n",
    "# \n",
    "# la valeur -HumanResources- correspond à une catégorie de la colonne 'JobRole', une catégorie de la colonne 'Department' et une catégorie de la colonne 'EducationField'.\n",
    "# Nous changeons les dénominations des valeurs :\n",
    "#       -HumanResources_Job pour 'JobRole'\n",
    "#       -HumanResources_Dpt pour 'Department'   \n",
    "#       -HumanResources_Studies pour 'EducationField'\n",
    "\n",
    "# Il y a deux colonnes dont les valeurs sont 'Yes' ou 'No' , donc nous allons changer :\n",
    "#       -Attrition-Yes pour le Yes de la colonne 'Attrition'  \n",
    "#       -No Attrition-No pour le No de la colonne 'Attrition'  \n",
    "#       -OverTime-Yes pour le Yes de la colonne 'OverTime'   \n",
    "#       -OverTime-No pour le No de la colonne 'OverTime'"
   ]
  },
  {
   "cell_type": "code",
   "execution_count": 57,
   "metadata": {},
   "outputs": [],
   "source": [
    "### Encodage de valeurs unique entre les colonnes en vue du prepocessing.\n",
    "df[\"JobRole\"]= df[\"JobRole\"].replace({\"Human Resources\" : \"HumanResources_Job\"})\n",
    "df[\"Department\"]= df[\"Department\"].replace({\"Human Resources\" : \"HumanResources_Dpt\"})\n",
    "df[\"EducationField\"]= df[\"EducationField\"].replace({\"Human Resources\" : \"HumanResources_Studies\"})\n",
    "df[\"Attrition\"] = df[\"Attrition\"].replace({1: \"Attrition-Yes\", 0: \"Attrition-No\"})\n",
    "df[\"OverTime\"] =df[\"OverTime\"].replace({\"No\" : \"OverTime-No\", \"Yes\" : \"OverTime-Yes\"})"
   ]
  },
  {
   "cell_type": "code",
   "execution_count": 58,
   "metadata": {},
   "outputs": [
    {
     "data": {
      "text/plain": [
       "Age                         int64\n",
       "Attrition                  object\n",
       "BusinessTravel             object\n",
       "Department                 object\n",
       "DistanceFromHome            int64\n",
       "EducationField             object\n",
       "EnvironmentSatisfaction    object\n",
       "JobInvolvement             object\n",
       "JobLevel                   object\n",
       "JobRole                    object\n",
       "JobSatisfaction            object\n",
       "MonthlyIncome               int64\n",
       "OverTime                   object\n",
       "StockOptionLevel            int64\n",
       "TotalWorkingYears           int64\n",
       "TrainingTimesLastYear       int64\n",
       "WorkLifeBalance            object\n",
       "YearsAtCompany              int64\n",
       "YearsInCurrentRole          int64\n",
       "YearsWithCurrManager        int64\n",
       "dtype: object"
      ]
     },
     "execution_count": 58,
     "metadata": {},
     "output_type": "execute_result"
    }
   ],
   "source": [
    "df.dtypes"
   ]
  },
  {
   "cell_type": "code",
   "execution_count": 59,
   "metadata": {},
   "outputs": [
    {
     "name": "stdout",
     "output_type": "stream",
     "text": [
      "L'index de la colonne 'Attrition' est: 1. Et les catégories sont : ['Attrition-Yes' 'Attrition-No']\n",
      "L'index de la colonne 'BusinessTravel' est: 2. Et les catégories sont : ['Travel_Rarely' 'Travel_Frequently' 'Non-Travel']\n",
      "L'index de la colonne 'Department' est: 3. Et les catégories sont : ['Sales' 'Research & Development' 'HumanResources_Dpt']\n",
      "L'index de la colonne 'EducationField' est: 5. Et les catégories sont : ['Life Sciences' 'Other' 'Medical' 'Marketing' 'Technical Degree'\n",
      " 'HumanResources_Studies']\n",
      "L'index de la colonne 'EnvironmentSatisfaction' est: 6. Et les catégories sont : ['2_Moyen' '3_Elevée' '4_Très élevée' '1_Faible']\n",
      "L'index de la colonne 'JobInvolvement' est: 7. Et les catégories sont : ['3_Elevée' '2_Moyen' '4_Très élevée' '1_Faible']\n",
      "L'index de la colonne 'JobLevel' est: 8. Et les catégories sont : ['2_Junior' '1_Débutant' '3_Confirmé' '4_Senior' '5_Expert']\n",
      "L'index de la colonne 'JobRole' est: 9. Et les catégories sont : ['Sales Executive' 'Research Scientist' 'Laboratory Technician'\n",
      " 'Manufacturing Director' 'Healthcare Representative' 'Manager'\n",
      " 'Sales Representative' 'Research Director' 'HumanResources_Job']\n",
      "L'index de la colonne 'JobSatisfaction' est: 10. Et les catégories sont : ['4_Très élevée' '2_Moyen' '3_Elevée' '1_Faible']\n",
      "L'index de la colonne 'OverTime' est: 12. Et les catégories sont : ['OverTime-Yes' 'OverTime-No']\n",
      "L'index de la colonne 'WorkLifeBalance' est: 16. Et les catégories sont : ['1_Mauvais' '3_Très bon' '2_Bon' '5_Parfait']\n"
     ]
    }
   ],
   "source": [
    "### Vérification des variables catégorielles :\n",
    "categorical_column_names = [\"Attrition\",\"BusinessTravel\",\"Department\", \"EducationField\",\"EnvironmentSatisfaction\",\n",
    "                            \"JobInvolvement\",\"JobLevel\",\"JobRole\",\"JobSatisfaction\",\n",
    "                            \"OverTime\",\"WorkLifeBalance\"]\n",
    "for col in categorical_column_names:\n",
    "    index = df.columns.get_loc(col)\n",
    "    values = df[col].unique()\n",
    "    print(f\"L'index de la colonne '{col}' est: {index}. Et les catégories sont : {values}\")"
   ]
  },
  {
   "cell_type": "code",
   "execution_count": 60,
   "metadata": {},
   "outputs": [],
   "source": [
    "            #### MACHINE LEARNING ####"
   ]
  },
  {
   "cell_type": "code",
   "execution_count": 61,
   "metadata": {},
   "outputs": [],
   "source": [
    "    #### MISSING VALUE MANAGEMENT ####\n",
    "# Nous n'avions pas de valeurs manquantes dans le Dataframe."
   ]
  },
  {
   "cell_type": "code",
   "execution_count": 62,
   "metadata": {},
   "outputs": [],
   "source": [
    "     #### FEATURE / TARGET SPLIT #####\n",
    "\n",
    "## On choisit les colonnes qui seront nos features :\n",
    "features_list = df.columns[[0] + list(range(2,20))]\n",
    "\n",
    "    #on définit notre X :\n",
    "X = df.loc[:,features_list]   \n",
    "    \n",
    "    # on définit y :\n",
    "y = df.loc[:,\"Attrition\"]"
   ]
  },
  {
   "cell_type": "code",
   "execution_count": 63,
   "metadata": {},
   "outputs": [],
   "source": [
    " #### TRAIN / TEST SPLIT ####       (AVANT SMOTE)\n",
    "X_train, X_test, y_train, y_test = train_test_split(X, y, test_size=0.3, stratify=y, random_state=42)"
   ]
  },
  {
   "cell_type": "code",
   "execution_count": 64,
   "metadata": {},
   "outputs": [
    {
     "name": "stdout",
     "output_type": "stream",
     "text": [
      "         BusinessTravel              Department EducationField  \\\n",
      "0         Travel_Rarely                   Sales  Life Sciences   \n",
      "1     Travel_Frequently  Research & Development  Life Sciences   \n",
      "2         Travel_Rarely  Research & Development          Other   \n",
      "3     Travel_Frequently  Research & Development  Life Sciences   \n",
      "4         Travel_Rarely  Research & Development        Medical   \n",
      "...                 ...                     ...            ...   \n",
      "1465  Travel_Frequently  Research & Development        Medical   \n",
      "1466      Travel_Rarely  Research & Development        Medical   \n",
      "1467      Travel_Rarely  Research & Development  Life Sciences   \n",
      "1468  Travel_Frequently                   Sales        Medical   \n",
      "1469      Travel_Rarely  Research & Development        Medical   \n",
      "\n",
      "     EnvironmentSatisfaction JobInvolvement    JobLevel JobSatisfaction  \\\n",
      "0                    2_Moyen       3_Elevée    2_Junior   4_Très élevée   \n",
      "1                   3_Elevée        2_Moyen    2_Junior         2_Moyen   \n",
      "2              4_Très élevée        2_Moyen  1_Débutant        3_Elevée   \n",
      "3              4_Très élevée       3_Elevée  1_Débutant        3_Elevée   \n",
      "4                   1_Faible       3_Elevée  1_Débutant         2_Moyen   \n",
      "...                      ...            ...         ...             ...   \n",
      "1465                3_Elevée  4_Très élevée    2_Junior   4_Très élevée   \n",
      "1466           4_Très élevée        2_Moyen  3_Confirmé        1_Faible   \n",
      "1467                 2_Moyen  4_Très élevée    2_Junior         2_Moyen   \n",
      "1468           4_Très élevée        2_Moyen    2_Junior         2_Moyen   \n",
      "1469                 2_Moyen  4_Très élevée    2_Junior        3_Elevée   \n",
      "\n",
      "                        JobRole      OverTime WorkLifeBalance  \n",
      "0               Sales Executive  OverTime-Yes       1_Mauvais  \n",
      "1            Research Scientist   OverTime-No      3_Très bon  \n",
      "2         Laboratory Technician  OverTime-Yes      3_Très bon  \n",
      "3            Research Scientist  OverTime-Yes      3_Très bon  \n",
      "4         Laboratory Technician   OverTime-No      3_Très bon  \n",
      "...                         ...           ...             ...  \n",
      "1465      Laboratory Technician   OverTime-No      3_Très bon  \n",
      "1466  Healthcare Representative   OverTime-No      3_Très bon  \n",
      "1467     Manufacturing Director  OverTime-Yes      3_Très bon  \n",
      "1468            Sales Executive   OverTime-No           2_Bon  \n",
      "1469      Laboratory Technician   OverTime-No       5_Parfait  \n",
      "\n",
      "[1401 rows x 10 columns]\n"
     ]
    }
   ],
   "source": [
    "    #### SCALING & ENCODING ####  \n",
    "\n",
    " # préparation des paramètres de la pipeline de preprocessing\n",
    "    # Standard SCALING :\n",
    "numeric_features= ['Age', 'DistanceFromHome',  \n",
    "        'MonthlyIncome', \n",
    "        'StockOptionLevel', 'TotalWorkingYears', 'TrainingTimesLastYear',\n",
    "        'YearsAtCompany', 'YearsInCurrentRole',\n",
    "        'YearsWithCurrManager']    # liste d'index de mes colonnes numériques\n",
    "numeric_transformer = StandardScaler()\n",
    "  \n",
    "\n",
    "    # ONE HOT ENCODING :\n",
    "categorical_features = ['BusinessTravel', 'Department', 'EducationField','EnvironmentSatisfaction', 'JobInvolvement',\n",
    "       'JobLevel','JobSatisfaction', 'JobRole',  'OverTime','WorkLifeBalance']  # liste d'index de nos colonnes catégorielles\n",
    "X[categorical_features] = X[categorical_features].astype(\"category\")\n",
    "print(X[categorical_features])\n",
    "categoric_transformer = OneHotEncoder(drop=\"first\",handle_unknown=\"ignore\")\n",
    "\n",
    "    #avec l'encodeur OneHotEncoder qui va remplacer nos valeurs catégorielles par des valeurs integer et supprimer la premère variable puisque l'encodage des autres donne l'information,\n",
    "\n",
    "    \n",
    "    # création de notre pipeline processing avec ColumnTransformer\n",
    "    # on référence les transformer qu'on va utiliser, mis dans des tuples\n",
    "feature_encoder = ColumnTransformer(\n",
    "    transformers =[          \n",
    "        (\"cat\", categoric_transformer, categorical_features),\n",
    "        (\"num\",numeric_transformer, numeric_features)]\n",
    ")\n",
    "\n",
    "X_train_transformed = feature_encoder.fit_transform(X_train)\n",
    "X_test_transformed = feature_encoder.transform(X_test)\n"
   ]
  },
  {
   "cell_type": "code",
   "execution_count": 65,
   "metadata": {},
   "outputs": [
    {
     "data": {
      "text/plain": [
       "array(['cat__BusinessTravel_Travel_Frequently',\n",
       "       'cat__BusinessTravel_Travel_Rarely',\n",
       "       'cat__Department_Research & Development', 'cat__Department_Sales',\n",
       "       'cat__EducationField_Life Sciences',\n",
       "       'cat__EducationField_Marketing', 'cat__EducationField_Medical',\n",
       "       'cat__EducationField_Other',\n",
       "       'cat__EducationField_Technical Degree',\n",
       "       'cat__EnvironmentSatisfaction_2_Moyen',\n",
       "       'cat__EnvironmentSatisfaction_3_Elevée',\n",
       "       'cat__EnvironmentSatisfaction_4_Très élevée',\n",
       "       'cat__JobInvolvement_2_Moyen', 'cat__JobInvolvement_3_Elevée',\n",
       "       'cat__JobInvolvement_4_Très élevée', 'cat__JobLevel_2_Junior',\n",
       "       'cat__JobLevel_3_Confirmé', 'cat__JobLevel_4_Senior',\n",
       "       'cat__JobLevel_5_Expert', 'cat__JobSatisfaction_2_Moyen',\n",
       "       'cat__JobSatisfaction_3_Elevée',\n",
       "       'cat__JobSatisfaction_4_Très élevée',\n",
       "       'cat__JobRole_HumanResources_Job',\n",
       "       'cat__JobRole_Laboratory Technician', 'cat__JobRole_Manager',\n",
       "       'cat__JobRole_Manufacturing Director',\n",
       "       'cat__JobRole_Research Director',\n",
       "       'cat__JobRole_Research Scientist', 'cat__JobRole_Sales Executive',\n",
       "       'cat__JobRole_Sales Representative', 'cat__OverTime_OverTime-Yes',\n",
       "       'cat__WorkLifeBalance_2_Bon', 'cat__WorkLifeBalance_3_Très bon',\n",
       "       'cat__WorkLifeBalance_5_Parfait', 'num__Age',\n",
       "       'num__DistanceFromHome', 'num__MonthlyIncome',\n",
       "       'num__StockOptionLevel', 'num__TotalWorkingYears',\n",
       "       'num__TrainingTimesLastYear', 'num__YearsAtCompany',\n",
       "       'num__YearsInCurrentRole', 'num__YearsWithCurrManager'],\n",
       "      dtype=object)"
      ]
     },
     "execution_count": 65,
     "metadata": {},
     "output_type": "execute_result"
    }
   ],
   "source": [
    "# Récupérer les noms des nouvelles colonnes\n",
    "new_columns = feature_encoder.get_feature_names_out()\n",
    "new_columns\n"
   ]
  },
  {
   "cell_type": "code",
   "execution_count": 66,
   "metadata": {},
   "outputs": [
    {
     "name": "stdout",
     "output_type": "stream",
     "text": [
      "preprocessing sur y exécuté.\n"
     ]
    }
   ],
   "source": [
    " # LABEL ENCODING\n",
    "\n",
    "label_encoder = LabelEncoder() \n",
    "y_train_transformed = label_encoder.fit_transform(y_train)\n",
    "y_test_transformed = label_encoder.transform(y_test)\n",
    "print(\"preprocessing sur y exécuté.\")\n"
   ]
  },
  {
   "cell_type": "code",
   "execution_count": 67,
   "metadata": {},
   "outputs": [
    {
     "data": {
      "text/plain": [
       "array([0, 0, 0, 0, 0, 0, 0, 0, 0, 0, 0, 0, 0, 0, 1, 0, 0, 0, 0, 0, 0, 0,\n",
       "       0, 0, 0, 0, 0, 0, 0, 1, 1, 0, 0, 0, 1, 0, 0, 0, 0, 1, 0, 0, 0, 0,\n",
       "       1, 0, 0, 0, 0, 0, 0, 0, 0, 0, 1, 0, 0, 0, 0, 0, 0, 1, 0, 0, 0, 0,\n",
       "       0, 1, 0, 0, 0, 0, 0, 0, 0, 0, 0, 0, 0, 0, 0, 0, 0, 0, 0, 0, 0, 0,\n",
       "       0, 0, 0, 0, 0, 0, 0, 0, 0, 0, 0, 0, 0, 0, 0, 0, 0, 0, 0, 0, 1, 1,\n",
       "       0, 0, 0, 0, 0, 0, 0, 1, 0, 0, 1, 0, 1, 0, 0, 1, 0, 0, 0, 0, 0, 0,\n",
       "       0, 0, 0, 0, 0, 0, 1, 0, 0, 0, 0, 0, 0, 0, 0, 0, 0, 1, 0, 0, 0, 0,\n",
       "       1, 0, 1, 0, 0, 0, 0, 0, 0, 0, 0, 0, 1, 1, 0, 0, 1, 0, 1, 0, 0, 0,\n",
       "       0, 1, 0, 0, 0, 0, 0, 1, 0, 0, 0, 0, 0, 0, 0, 0, 0, 0, 0, 0, 0, 0,\n",
       "       0, 0, 0, 0, 0, 0, 0, 1, 1, 0, 0, 0, 0, 0, 0, 0, 0, 0, 1, 0, 1, 0,\n",
       "       0, 0, 1, 0, 0, 0, 0, 0, 0, 0, 0, 0, 0, 0, 0, 0, 0, 0, 0, 1, 0, 0,\n",
       "       0, 1, 0, 0, 0, 0, 0, 0, 0, 1, 0, 0, 0, 0, 0, 1, 0, 0, 0, 0, 0, 1,\n",
       "       1, 0, 0, 0, 1, 1, 0, 1, 0, 0, 0, 0, 0, 0, 0, 0, 0, 0, 0, 0, 1, 0,\n",
       "       0, 0, 0, 0, 0, 0, 0, 0, 0, 0, 1, 1, 0, 0, 0, 0, 0, 0, 1, 0, 0, 1,\n",
       "       1, 0, 0, 0, 0, 0, 0, 0, 0, 0, 1, 1, 0, 1, 0, 0, 0, 1, 0, 0, 0, 0,\n",
       "       0, 0, 0, 0, 0, 1, 0, 0, 0, 0, 1, 0, 0, 0, 0, 0, 0, 1, 1, 1, 1, 0,\n",
       "       0, 0, 0, 0, 0, 1, 0, 0, 0, 0, 0, 0, 1, 0, 0, 0, 0, 1, 0, 0, 0, 0,\n",
       "       0, 0, 0, 0, 0, 0, 0, 0, 0, 1, 0, 0, 1, 0, 0, 1, 1, 0, 0, 0, 0, 1,\n",
       "       0, 0, 0, 1, 0, 0, 1, 0, 0, 0, 0, 0, 1, 0, 0, 0, 0, 0, 1, 0, 0, 0,\n",
       "       1, 0, 0])"
      ]
     },
     "execution_count": 67,
     "metadata": {},
     "output_type": "execute_result"
    }
   ],
   "source": [
    "y_test_transformed\n"
   ]
  },
  {
   "cell_type": "code",
   "execution_count": 68,
   "metadata": {},
   "outputs": [
    {
     "data": {
      "text/plain": [
       "array([0, 0, 0, 0, 1, 0, 0, 0, 0, 0, 0, 0, 0, 0, 0, 0, 0, 0, 0, 0, 1, 0,\n",
       "       0, 0, 1, 1, 0, 0, 0, 0, 0, 0, 0, 0, 1, 0, 0, 0, 0, 0, 0, 0, 1, 0,\n",
       "       0, 0, 0, 1, 1, 0, 0, 0, 0, 0, 0, 0, 0, 1, 0, 0, 0, 0, 0, 1, 0, 0,\n",
       "       0, 0, 0, 0, 0, 0, 0, 0, 0, 0, 0, 0, 0, 0, 0, 1, 0, 0, 0, 0, 0, 0,\n",
       "       0, 0, 0, 0, 0, 1, 0, 0, 0, 0, 0, 0, 0, 0, 1, 0, 0, 0, 1, 0, 0, 1,\n",
       "       0, 0, 1, 1, 0, 0, 1, 0, 0, 0, 0, 1, 0, 0, 0, 1, 0, 0, 1, 0, 0, 0,\n",
       "       0, 1, 1, 0, 0, 0, 0, 0, 0, 0, 0, 0, 0, 0, 1, 0, 0, 0, 0, 0, 0, 0,\n",
       "       0, 0, 0, 0, 0, 0, 0, 0, 0, 0, 0, 1, 0, 0, 0, 0, 0, 0, 0, 0, 0, 0,\n",
       "       0, 0, 0, 0, 0, 0, 0, 0, 0, 0, 0, 0, 0, 0, 0, 0, 0, 1, 0, 0, 1, 0,\n",
       "       1, 1, 0, 0, 0, 0, 0, 0, 0, 0, 1, 0, 0, 0, 0, 0, 0, 0, 0, 0, 0, 0,\n",
       "       0, 0, 0, 0, 0, 0, 0, 1, 0, 1, 0, 1, 0, 0, 0, 0, 0, 0, 0, 0, 0, 0,\n",
       "       0, 0, 0, 0, 0, 0, 0, 0, 0, 0, 0, 0, 0, 0, 0, 0, 0, 0, 1, 0, 0, 0,\n",
       "       1, 0, 0, 0, 1, 0, 1, 0, 1, 0, 1, 1, 0, 0, 0, 0, 0, 0, 0, 0, 0, 1,\n",
       "       0, 0, 0, 0, 0, 0, 0, 0, 0, 0, 1, 0, 0, 0, 1, 1, 0, 0, 0, 0, 0, 0,\n",
       "       0, 0, 0, 0, 0, 0, 0, 1, 0, 0, 1, 0, 0, 0, 0, 0, 0, 0, 0, 0, 0, 0,\n",
       "       0, 0, 0, 1, 0, 0, 0, 0, 1, 0, 0, 0, 0, 0, 0, 0, 0, 1, 0, 1, 0, 0,\n",
       "       0, 0, 0, 1, 0, 0, 0, 0, 1, 0, 0, 0, 0, 0, 0, 1, 0, 0, 0, 0, 1, 0,\n",
       "       0, 0, 0, 0, 0, 0, 0, 0, 0, 0, 0, 0, 0, 1, 1, 0, 1, 0, 0, 0, 0, 1,\n",
       "       0, 0, 1, 0, 0, 0, 0, 1, 0, 0, 0, 0, 0, 0, 0, 1, 0, 0, 0, 1, 0, 0,\n",
       "       1, 0, 0, 0, 1, 0, 0, 0, 0, 0, 0, 0, 1, 0, 0, 0, 0, 0, 0, 0, 0, 0,\n",
       "       0, 0, 0, 0, 0, 0, 0, 0, 0, 0, 0, 0, 0, 0, 0, 0, 1, 0, 0, 0, 0, 0,\n",
       "       0, 0, 0, 0, 1, 0, 1, 0, 0, 0, 0, 1, 0, 0, 0, 0, 0, 0, 1, 0, 0, 0,\n",
       "       0, 1, 1, 0, 0, 0, 0, 0, 1, 0, 0, 0, 0, 0, 0, 0, 0, 0, 1, 0, 0, 0,\n",
       "       0, 0, 0, 1, 0, 1, 1, 1, 0, 0, 1, 0, 0, 0, 0, 0, 0, 0, 0, 0, 0, 1,\n",
       "       0, 0, 0, 0, 1, 0, 0, 0, 0, 0, 0, 0, 0, 0, 0, 0, 1, 0, 0, 1, 0, 0,\n",
       "       0, 0, 0, 0, 0, 0, 0, 1, 0, 1, 0, 0, 0, 0, 0, 0, 0, 0, 0, 0, 0, 0,\n",
       "       0, 0, 0, 0, 0, 1, 1, 0, 0, 0, 0, 0, 0, 0, 0, 0, 0, 1, 0, 0, 0, 1,\n",
       "       0, 0, 1, 0, 0, 0, 0, 1, 0, 0, 0, 0, 0, 1, 1, 0, 1, 0, 0, 0, 0, 0,\n",
       "       0, 0, 0, 0, 0, 0, 0, 0, 0, 0, 1, 0, 0, 0, 0, 0, 0, 0, 1, 0, 0, 0,\n",
       "       0, 0, 0, 0, 0, 0, 1, 0, 0, 1, 0, 0, 0, 0, 0, 0, 1, 1, 1, 1, 1, 0,\n",
       "       0, 0, 1, 0, 0, 0, 0, 0, 1, 0, 0, 0, 0, 0, 0, 0, 0, 0, 0, 0, 1, 0,\n",
       "       0, 0, 1, 0, 0, 0, 0, 0, 0, 1, 0, 0, 0, 0, 0, 0, 1, 0, 0, 0, 0, 0,\n",
       "       0, 1, 0, 0, 0, 0, 0, 0, 0, 0, 0, 0, 0, 0, 0, 0, 0, 1, 0, 0, 0, 0,\n",
       "       1, 0, 0, 0, 0, 0, 0, 0, 0, 0, 0, 0, 0, 0, 0, 0, 0, 0, 1, 0, 0, 0,\n",
       "       0, 0, 1, 0, 0, 0, 0, 0, 0, 0, 0, 0, 1, 1, 0, 0, 1, 0, 0, 1, 0, 0,\n",
       "       0, 0, 0, 1, 0, 0, 0, 1, 0, 0, 1, 0, 0, 0, 1, 0, 0, 0, 0, 0, 0, 0,\n",
       "       0, 0, 0, 0, 0, 0, 1, 0, 1, 1, 0, 1, 0, 0, 1, 0, 0, 1, 0, 1, 0, 0,\n",
       "       0, 1, 1, 1, 0, 0, 0, 0, 0, 0, 0, 0, 1, 1, 0, 0, 0, 1, 0, 0, 0, 0,\n",
       "       0, 1, 0, 0, 1, 0, 0, 0, 0, 1, 0, 0, 1, 0, 1, 0, 0, 1, 0, 0, 0, 0,\n",
       "       0, 0, 0, 0, 0, 0, 0, 0, 0, 0, 0, 0, 0, 0, 0, 0, 0, 0, 0, 0, 0, 1,\n",
       "       0, 0, 0, 0, 0, 0, 1, 0, 0, 1, 1, 1, 0, 0, 0, 0, 0, 0, 0, 0, 0, 0,\n",
       "       0, 0, 0, 1, 0, 0, 0, 1, 0, 0, 0, 0, 0, 0, 1, 0, 0, 0, 0, 0, 0, 0,\n",
       "       0, 0, 0, 0, 0, 0, 0, 0, 0, 0, 0, 0, 1, 0, 0, 0, 0, 1, 1, 0, 1, 0,\n",
       "       1, 0, 0, 0, 0, 0, 0, 0, 0, 0, 1, 0, 0, 0, 0, 0, 0, 0, 1, 0, 1, 0,\n",
       "       0, 0, 0, 0, 0, 0, 0, 1, 0, 0, 0, 0])"
      ]
     },
     "execution_count": 68,
     "metadata": {},
     "output_type": "execute_result"
    }
   ],
   "source": [
    "y_train_transformed"
   ]
  },
  {
   "cell_type": "code",
   "execution_count": 69,
   "metadata": {},
   "outputs": [
    {
     "name": "stdout",
     "output_type": "stream",
     "text": [
      "Répartition avant SMOTE: Attrition\n",
      "Attrition-No     1175\n",
      "Attrition-Yes     226\n",
      "Name: count, dtype: int64\n"
     ]
    }
   ],
   "source": [
    "# Importation de SMOTE \n",
    "from imblearn.over_sampling import SMOTE\n",
    "\n",
    "y_series = pd.Series(y)\n",
    "\n",
    "# Vérification de la répartition des classes\n",
    "print(\"Répartition avant SMOTE:\", y_series.value_counts())  # Classe majoritaire ≫ minoritaire\n",
    "\n"
   ]
  },
  {
   "cell_type": "code",
   "execution_count": 70,
   "metadata": {},
   "outputs": [
    {
     "name": "stdout",
     "output_type": "stream",
     "text": [
      "Nombre de 0 : 822\n",
      "Nombre de 1 : 158\n"
     ]
    }
   ],
   "source": [
    "counts = np.bincount(y_train_transformed)\n",
    "print(f\"Nombre de 0 : {counts[0]}\")\n",
    "print(f\"Nombre de 1 : {counts[1]}\")"
   ]
  },
  {
   "cell_type": "code",
   "execution_count": 71,
   "metadata": {},
   "outputs": [
    {
     "name": "stdout",
     "output_type": "stream",
     "text": [
      "Répartition avant SMOTE: [822 158]\n",
      "Répartition après SMOTE: [822 822]\n"
     ]
    }
   ],
   "source": [
    "# Application de SMOTE sur les données d'entraînement\n",
    "smote = SMOTE(random_state=42)\n",
    "X_train_resampled, y_train_resampled = smote.fit_resample(X_train_transformed, y_train_transformed)\n",
    "\n",
    "# Vérification de la nouvelle répartition des classes\n",
    "print(\"Répartition avant SMOTE:\", np.bincount(y_train_transformed))  \n",
    "print(\"Répartition après SMOTE:\", np.bincount(y_train_resampled))# Équilibré maintenant !"
   ]
  },
  {
   "cell_type": "code",
   "execution_count": 72,
   "metadata": {},
   "outputs": [],
   "source": [
    "                                                ################ LOGISTIC REGRESSION ##################"
   ]
  },
  {
   "cell_type": "code",
   "execution_count": 73,
   "metadata": {},
   "outputs": [
    {
     "data": {
      "text/plain": [
       "'\\n#Recherche des hyperparametres optimisés\\nfrom sklearn.model_selection import GridSearchCV\\nfrom sklearn.linear_model import LogisticRegression\\n\\n# Définir les hyperparamètres à tester\\nparam_grid = {\\n    \\'C\\': [0.0005, 0.001,0.01, 0.1, 1, 10, 20],  # Valeurs possibles pour la régularisation\\n    \\'penalty\\': [\\'l1\\', \\'l2\\'],        # Type de régularisation\\n    \\'solver\\': [\\'liblinear\\', \\'saga\\'], # Solveur à utiliser\\n    \\'max_iter\\': [100, 200, 300],    # Nombre d\\'itérations\\n    \\'class_weight\\': [\\'balanced\\', None]  # Gérer l\\'équilibre des classes\\n}\\n\\n# Instancier le modèle\\nLR_classifier = LogisticRegression(random_state=42)\\n\\n# Instancier le GridSearchCV\\ngrid_search = GridSearchCV(estimator=LR_classifier, param_grid=param_grid, \\n                           cv=10, scoring=\\'recall\\', n_jobs=-1, verbose=1)\\n\\n# Appliquer GridSearchCV pour trouver les meilleurs paramètres\\ngrid_search.fit(X_train_resampled, y_train_resampled)\\n\\n# Afficher les meilleurs paramètres et le score associé\\nprint(\"Meilleurs paramètres trouvés : \", grid_search.best_params_)\\nprint(\"Meilleur score : \", grid_search.best_score_)\\n\\n# Utiliser le meilleur modèle trouvé\\nbest_LR_model = grid_search.best_estimator_\\n\\n# Prédictions avec le meilleur modèle\\ny_pred_best_LR = best_LR_model.predict(X_test_transformed)\\nprint(\"Accuracy sur test set avec meilleur modèle : \", accuracy_score(y_test_transformed, y_pred_best_LR))\\n'"
      ]
     },
     "execution_count": 73,
     "metadata": {},
     "output_type": "execute_result"
    }
   ],
   "source": [
    "\"\"\"\n",
    "#Recherche des hyperparametres optimisés\n",
    "from sklearn.model_selection import GridSearchCV\n",
    "from sklearn.linear_model import LogisticRegression\n",
    "\n",
    "# Définir les hyperparamètres à tester\n",
    "param_grid = {\n",
    "    'C': [0.0005, 0.001,0.01, 0.1, 1, 10, 20],  # Valeurs possibles pour la régularisation\n",
    "    'penalty': ['l1', 'l2'],        # Type de régularisation\n",
    "    'solver': ['liblinear', 'saga'], # Solveur à utiliser\n",
    "    'max_iter': [100, 200, 300],    # Nombre d'itérations\n",
    "    'class_weight': ['balanced', None]  # Gérer l'équilibre des classes\n",
    "}\n",
    "\n",
    "# Instancier le modèle\n",
    "LR_classifier = LogisticRegression(random_state=42)\n",
    "\n",
    "# Instancier le GridSearchCV\n",
    "grid_search = GridSearchCV(estimator=LR_classifier, param_grid=param_grid, \n",
    "                           cv=10, scoring='recall', n_jobs=-1, verbose=1)\n",
    "\n",
    "# Appliquer GridSearchCV pour trouver les meilleurs paramètres\n",
    "grid_search.fit(X_train_resampled, y_train_resampled)\n",
    "\n",
    "# Afficher les meilleurs paramètres et le score associé\n",
    "print(\"Meilleurs paramètres trouvés : \", grid_search.best_params_)\n",
    "print(\"Meilleur score : \", grid_search.best_score_)\n",
    "\n",
    "# Utiliser le meilleur modèle trouvé\n",
    "best_LR_model = grid_search.best_estimator_\n",
    "\n",
    "# Prédictions avec le meilleur modèle\n",
    "y_pred_best_LR = best_LR_model.predict(X_test_transformed)\n",
    "print(\"Accuracy sur test set avec meilleur modèle : \", accuracy_score(y_test_transformed, y_pred_best_LR))\n",
    "\"\"\""
   ]
  },
  {
   "cell_type": "code",
   "execution_count": 74,
   "metadata": {},
   "outputs": [],
   "source": [
    "# RESULTATS OBTENUS :\n",
    "# Fitting 10 folds for each of 168 candidates, totalling 1680 fits\n",
    "#Meilleurs paramètres trouvés :  {'C': 20, 'class_weight': 'balanced', 'max_iter': 100, 'penalty': 'l1', 'solver': 'liblinear'}\n",
    "#Meilleur score :  0.8583860283047275\n",
    "#Accuracy sur test set avec meilleur modèle :  0.8119047619047619"
   ]
  },
  {
   "cell_type": "code",
   "execution_count": 75,
   "metadata": {},
   "outputs": [
    {
     "name": "stdout",
     "output_type": "stream",
     "text": [
      "Training model...\n"
     ]
    },
    {
     "data": {
      "text/html": [
       "<style>#sk-container-id-1 {\n",
       "  /* Definition of color scheme common for light and dark mode */\n",
       "  --sklearn-color-text: #000;\n",
       "  --sklearn-color-text-muted: #666;\n",
       "  --sklearn-color-line: gray;\n",
       "  /* Definition of color scheme for unfitted estimators */\n",
       "  --sklearn-color-unfitted-level-0: #fff5e6;\n",
       "  --sklearn-color-unfitted-level-1: #f6e4d2;\n",
       "  --sklearn-color-unfitted-level-2: #ffe0b3;\n",
       "  --sklearn-color-unfitted-level-3: chocolate;\n",
       "  /* Definition of color scheme for fitted estimators */\n",
       "  --sklearn-color-fitted-level-0: #f0f8ff;\n",
       "  --sklearn-color-fitted-level-1: #d4ebff;\n",
       "  --sklearn-color-fitted-level-2: #b3dbfd;\n",
       "  --sklearn-color-fitted-level-3: cornflowerblue;\n",
       "\n",
       "  /* Specific color for light theme */\n",
       "  --sklearn-color-text-on-default-background: var(--sg-text-color, var(--theme-code-foreground, var(--jp-content-font-color1, black)));\n",
       "  --sklearn-color-background: var(--sg-background-color, var(--theme-background, var(--jp-layout-color0, white)));\n",
       "  --sklearn-color-border-box: var(--sg-text-color, var(--theme-code-foreground, var(--jp-content-font-color1, black)));\n",
       "  --sklearn-color-icon: #696969;\n",
       "\n",
       "  @media (prefers-color-scheme: dark) {\n",
       "    /* Redefinition of color scheme for dark theme */\n",
       "    --sklearn-color-text-on-default-background: var(--sg-text-color, var(--theme-code-foreground, var(--jp-content-font-color1, white)));\n",
       "    --sklearn-color-background: var(--sg-background-color, var(--theme-background, var(--jp-layout-color0, #111)));\n",
       "    --sklearn-color-border-box: var(--sg-text-color, var(--theme-code-foreground, var(--jp-content-font-color1, white)));\n",
       "    --sklearn-color-icon: #878787;\n",
       "  }\n",
       "}\n",
       "\n",
       "#sk-container-id-1 {\n",
       "  color: var(--sklearn-color-text);\n",
       "}\n",
       "\n",
       "#sk-container-id-1 pre {\n",
       "  padding: 0;\n",
       "}\n",
       "\n",
       "#sk-container-id-1 input.sk-hidden--visually {\n",
       "  border: 0;\n",
       "  clip: rect(1px 1px 1px 1px);\n",
       "  clip: rect(1px, 1px, 1px, 1px);\n",
       "  height: 1px;\n",
       "  margin: -1px;\n",
       "  overflow: hidden;\n",
       "  padding: 0;\n",
       "  position: absolute;\n",
       "  width: 1px;\n",
       "}\n",
       "\n",
       "#sk-container-id-1 div.sk-dashed-wrapped {\n",
       "  border: 1px dashed var(--sklearn-color-line);\n",
       "  margin: 0 0.4em 0.5em 0.4em;\n",
       "  box-sizing: border-box;\n",
       "  padding-bottom: 0.4em;\n",
       "  background-color: var(--sklearn-color-background);\n",
       "}\n",
       "\n",
       "#sk-container-id-1 div.sk-container {\n",
       "  /* jupyter's `normalize.less` sets `[hidden] { display: none; }`\n",
       "     but bootstrap.min.css set `[hidden] { display: none !important; }`\n",
       "     so we also need the `!important` here to be able to override the\n",
       "     default hidden behavior on the sphinx rendered scikit-learn.org.\n",
       "     See: https://github.com/scikit-learn/scikit-learn/issues/21755 */\n",
       "  display: inline-block !important;\n",
       "  position: relative;\n",
       "}\n",
       "\n",
       "#sk-container-id-1 div.sk-text-repr-fallback {\n",
       "  display: none;\n",
       "}\n",
       "\n",
       "div.sk-parallel-item,\n",
       "div.sk-serial,\n",
       "div.sk-item {\n",
       "  /* draw centered vertical line to link estimators */\n",
       "  background-image: linear-gradient(var(--sklearn-color-text-on-default-background), var(--sklearn-color-text-on-default-background));\n",
       "  background-size: 2px 100%;\n",
       "  background-repeat: no-repeat;\n",
       "  background-position: center center;\n",
       "}\n",
       "\n",
       "/* Parallel-specific style estimator block */\n",
       "\n",
       "#sk-container-id-1 div.sk-parallel-item::after {\n",
       "  content: \"\";\n",
       "  width: 100%;\n",
       "  border-bottom: 2px solid var(--sklearn-color-text-on-default-background);\n",
       "  flex-grow: 1;\n",
       "}\n",
       "\n",
       "#sk-container-id-1 div.sk-parallel {\n",
       "  display: flex;\n",
       "  align-items: stretch;\n",
       "  justify-content: center;\n",
       "  background-color: var(--sklearn-color-background);\n",
       "  position: relative;\n",
       "}\n",
       "\n",
       "#sk-container-id-1 div.sk-parallel-item {\n",
       "  display: flex;\n",
       "  flex-direction: column;\n",
       "}\n",
       "\n",
       "#sk-container-id-1 div.sk-parallel-item:first-child::after {\n",
       "  align-self: flex-end;\n",
       "  width: 50%;\n",
       "}\n",
       "\n",
       "#sk-container-id-1 div.sk-parallel-item:last-child::after {\n",
       "  align-self: flex-start;\n",
       "  width: 50%;\n",
       "}\n",
       "\n",
       "#sk-container-id-1 div.sk-parallel-item:only-child::after {\n",
       "  width: 0;\n",
       "}\n",
       "\n",
       "/* Serial-specific style estimator block */\n",
       "\n",
       "#sk-container-id-1 div.sk-serial {\n",
       "  display: flex;\n",
       "  flex-direction: column;\n",
       "  align-items: center;\n",
       "  background-color: var(--sklearn-color-background);\n",
       "  padding-right: 1em;\n",
       "  padding-left: 1em;\n",
       "}\n",
       "\n",
       "\n",
       "/* Toggleable style: style used for estimator/Pipeline/ColumnTransformer box that is\n",
       "clickable and can be expanded/collapsed.\n",
       "- Pipeline and ColumnTransformer use this feature and define the default style\n",
       "- Estimators will overwrite some part of the style using the `sk-estimator` class\n",
       "*/\n",
       "\n",
       "/* Pipeline and ColumnTransformer style (default) */\n",
       "\n",
       "#sk-container-id-1 div.sk-toggleable {\n",
       "  /* Default theme specific background. It is overwritten whether we have a\n",
       "  specific estimator or a Pipeline/ColumnTransformer */\n",
       "  background-color: var(--sklearn-color-background);\n",
       "}\n",
       "\n",
       "/* Toggleable label */\n",
       "#sk-container-id-1 label.sk-toggleable__label {\n",
       "  cursor: pointer;\n",
       "  display: flex;\n",
       "  width: 100%;\n",
       "  margin-bottom: 0;\n",
       "  padding: 0.5em;\n",
       "  box-sizing: border-box;\n",
       "  text-align: center;\n",
       "  align-items: start;\n",
       "  justify-content: space-between;\n",
       "  gap: 0.5em;\n",
       "}\n",
       "\n",
       "#sk-container-id-1 label.sk-toggleable__label .caption {\n",
       "  font-size: 0.6rem;\n",
       "  font-weight: lighter;\n",
       "  color: var(--sklearn-color-text-muted);\n",
       "}\n",
       "\n",
       "#sk-container-id-1 label.sk-toggleable__label-arrow:before {\n",
       "  /* Arrow on the left of the label */\n",
       "  content: \"▸\";\n",
       "  float: left;\n",
       "  margin-right: 0.25em;\n",
       "  color: var(--sklearn-color-icon);\n",
       "}\n",
       "\n",
       "#sk-container-id-1 label.sk-toggleable__label-arrow:hover:before {\n",
       "  color: var(--sklearn-color-text);\n",
       "}\n",
       "\n",
       "/* Toggleable content - dropdown */\n",
       "\n",
       "#sk-container-id-1 div.sk-toggleable__content {\n",
       "  max-height: 0;\n",
       "  max-width: 0;\n",
       "  overflow: hidden;\n",
       "  text-align: left;\n",
       "  /* unfitted */\n",
       "  background-color: var(--sklearn-color-unfitted-level-0);\n",
       "}\n",
       "\n",
       "#sk-container-id-1 div.sk-toggleable__content.fitted {\n",
       "  /* fitted */\n",
       "  background-color: var(--sklearn-color-fitted-level-0);\n",
       "}\n",
       "\n",
       "#sk-container-id-1 div.sk-toggleable__content pre {\n",
       "  margin: 0.2em;\n",
       "  border-radius: 0.25em;\n",
       "  color: var(--sklearn-color-text);\n",
       "  /* unfitted */\n",
       "  background-color: var(--sklearn-color-unfitted-level-0);\n",
       "}\n",
       "\n",
       "#sk-container-id-1 div.sk-toggleable__content.fitted pre {\n",
       "  /* unfitted */\n",
       "  background-color: var(--sklearn-color-fitted-level-0);\n",
       "}\n",
       "\n",
       "#sk-container-id-1 input.sk-toggleable__control:checked~div.sk-toggleable__content {\n",
       "  /* Expand drop-down */\n",
       "  max-height: 200px;\n",
       "  max-width: 100%;\n",
       "  overflow: auto;\n",
       "}\n",
       "\n",
       "#sk-container-id-1 input.sk-toggleable__control:checked~label.sk-toggleable__label-arrow:before {\n",
       "  content: \"▾\";\n",
       "}\n",
       "\n",
       "/* Pipeline/ColumnTransformer-specific style */\n",
       "\n",
       "#sk-container-id-1 div.sk-label input.sk-toggleable__control:checked~label.sk-toggleable__label {\n",
       "  color: var(--sklearn-color-text);\n",
       "  background-color: var(--sklearn-color-unfitted-level-2);\n",
       "}\n",
       "\n",
       "#sk-container-id-1 div.sk-label.fitted input.sk-toggleable__control:checked~label.sk-toggleable__label {\n",
       "  background-color: var(--sklearn-color-fitted-level-2);\n",
       "}\n",
       "\n",
       "/* Estimator-specific style */\n",
       "\n",
       "/* Colorize estimator box */\n",
       "#sk-container-id-1 div.sk-estimator input.sk-toggleable__control:checked~label.sk-toggleable__label {\n",
       "  /* unfitted */\n",
       "  background-color: var(--sklearn-color-unfitted-level-2);\n",
       "}\n",
       "\n",
       "#sk-container-id-1 div.sk-estimator.fitted input.sk-toggleable__control:checked~label.sk-toggleable__label {\n",
       "  /* fitted */\n",
       "  background-color: var(--sklearn-color-fitted-level-2);\n",
       "}\n",
       "\n",
       "#sk-container-id-1 div.sk-label label.sk-toggleable__label,\n",
       "#sk-container-id-1 div.sk-label label {\n",
       "  /* The background is the default theme color */\n",
       "  color: var(--sklearn-color-text-on-default-background);\n",
       "}\n",
       "\n",
       "/* On hover, darken the color of the background */\n",
       "#sk-container-id-1 div.sk-label:hover label.sk-toggleable__label {\n",
       "  color: var(--sklearn-color-text);\n",
       "  background-color: var(--sklearn-color-unfitted-level-2);\n",
       "}\n",
       "\n",
       "/* Label box, darken color on hover, fitted */\n",
       "#sk-container-id-1 div.sk-label.fitted:hover label.sk-toggleable__label.fitted {\n",
       "  color: var(--sklearn-color-text);\n",
       "  background-color: var(--sklearn-color-fitted-level-2);\n",
       "}\n",
       "\n",
       "/* Estimator label */\n",
       "\n",
       "#sk-container-id-1 div.sk-label label {\n",
       "  font-family: monospace;\n",
       "  font-weight: bold;\n",
       "  display: inline-block;\n",
       "  line-height: 1.2em;\n",
       "}\n",
       "\n",
       "#sk-container-id-1 div.sk-label-container {\n",
       "  text-align: center;\n",
       "}\n",
       "\n",
       "/* Estimator-specific */\n",
       "#sk-container-id-1 div.sk-estimator {\n",
       "  font-family: monospace;\n",
       "  border: 1px dotted var(--sklearn-color-border-box);\n",
       "  border-radius: 0.25em;\n",
       "  box-sizing: border-box;\n",
       "  margin-bottom: 0.5em;\n",
       "  /* unfitted */\n",
       "  background-color: var(--sklearn-color-unfitted-level-0);\n",
       "}\n",
       "\n",
       "#sk-container-id-1 div.sk-estimator.fitted {\n",
       "  /* fitted */\n",
       "  background-color: var(--sklearn-color-fitted-level-0);\n",
       "}\n",
       "\n",
       "/* on hover */\n",
       "#sk-container-id-1 div.sk-estimator:hover {\n",
       "  /* unfitted */\n",
       "  background-color: var(--sklearn-color-unfitted-level-2);\n",
       "}\n",
       "\n",
       "#sk-container-id-1 div.sk-estimator.fitted:hover {\n",
       "  /* fitted */\n",
       "  background-color: var(--sklearn-color-fitted-level-2);\n",
       "}\n",
       "\n",
       "/* Specification for estimator info (e.g. \"i\" and \"?\") */\n",
       "\n",
       "/* Common style for \"i\" and \"?\" */\n",
       "\n",
       ".sk-estimator-doc-link,\n",
       "a:link.sk-estimator-doc-link,\n",
       "a:visited.sk-estimator-doc-link {\n",
       "  float: right;\n",
       "  font-size: smaller;\n",
       "  line-height: 1em;\n",
       "  font-family: monospace;\n",
       "  background-color: var(--sklearn-color-background);\n",
       "  border-radius: 1em;\n",
       "  height: 1em;\n",
       "  width: 1em;\n",
       "  text-decoration: none !important;\n",
       "  margin-left: 0.5em;\n",
       "  text-align: center;\n",
       "  /* unfitted */\n",
       "  border: var(--sklearn-color-unfitted-level-1) 1pt solid;\n",
       "  color: var(--sklearn-color-unfitted-level-1);\n",
       "}\n",
       "\n",
       ".sk-estimator-doc-link.fitted,\n",
       "a:link.sk-estimator-doc-link.fitted,\n",
       "a:visited.sk-estimator-doc-link.fitted {\n",
       "  /* fitted */\n",
       "  border: var(--sklearn-color-fitted-level-1) 1pt solid;\n",
       "  color: var(--sklearn-color-fitted-level-1);\n",
       "}\n",
       "\n",
       "/* On hover */\n",
       "div.sk-estimator:hover .sk-estimator-doc-link:hover,\n",
       ".sk-estimator-doc-link:hover,\n",
       "div.sk-label-container:hover .sk-estimator-doc-link:hover,\n",
       ".sk-estimator-doc-link:hover {\n",
       "  /* unfitted */\n",
       "  background-color: var(--sklearn-color-unfitted-level-3);\n",
       "  color: var(--sklearn-color-background);\n",
       "  text-decoration: none;\n",
       "}\n",
       "\n",
       "div.sk-estimator.fitted:hover .sk-estimator-doc-link.fitted:hover,\n",
       ".sk-estimator-doc-link.fitted:hover,\n",
       "div.sk-label-container:hover .sk-estimator-doc-link.fitted:hover,\n",
       ".sk-estimator-doc-link.fitted:hover {\n",
       "  /* fitted */\n",
       "  background-color: var(--sklearn-color-fitted-level-3);\n",
       "  color: var(--sklearn-color-background);\n",
       "  text-decoration: none;\n",
       "}\n",
       "\n",
       "/* Span, style for the box shown on hovering the info icon */\n",
       ".sk-estimator-doc-link span {\n",
       "  display: none;\n",
       "  z-index: 9999;\n",
       "  position: relative;\n",
       "  font-weight: normal;\n",
       "  right: .2ex;\n",
       "  padding: .5ex;\n",
       "  margin: .5ex;\n",
       "  width: min-content;\n",
       "  min-width: 20ex;\n",
       "  max-width: 50ex;\n",
       "  color: var(--sklearn-color-text);\n",
       "  box-shadow: 2pt 2pt 4pt #999;\n",
       "  /* unfitted */\n",
       "  background: var(--sklearn-color-unfitted-level-0);\n",
       "  border: .5pt solid var(--sklearn-color-unfitted-level-3);\n",
       "}\n",
       "\n",
       ".sk-estimator-doc-link.fitted span {\n",
       "  /* fitted */\n",
       "  background: var(--sklearn-color-fitted-level-0);\n",
       "  border: var(--sklearn-color-fitted-level-3);\n",
       "}\n",
       "\n",
       ".sk-estimator-doc-link:hover span {\n",
       "  display: block;\n",
       "}\n",
       "\n",
       "/* \"?\"-specific style due to the `<a>` HTML tag */\n",
       "\n",
       "#sk-container-id-1 a.estimator_doc_link {\n",
       "  float: right;\n",
       "  font-size: 1rem;\n",
       "  line-height: 1em;\n",
       "  font-family: monospace;\n",
       "  background-color: var(--sklearn-color-background);\n",
       "  border-radius: 1rem;\n",
       "  height: 1rem;\n",
       "  width: 1rem;\n",
       "  text-decoration: none;\n",
       "  /* unfitted */\n",
       "  color: var(--sklearn-color-unfitted-level-1);\n",
       "  border: var(--sklearn-color-unfitted-level-1) 1pt solid;\n",
       "}\n",
       "\n",
       "#sk-container-id-1 a.estimator_doc_link.fitted {\n",
       "  /* fitted */\n",
       "  border: var(--sklearn-color-fitted-level-1) 1pt solid;\n",
       "  color: var(--sklearn-color-fitted-level-1);\n",
       "}\n",
       "\n",
       "/* On hover */\n",
       "#sk-container-id-1 a.estimator_doc_link:hover {\n",
       "  /* unfitted */\n",
       "  background-color: var(--sklearn-color-unfitted-level-3);\n",
       "  color: var(--sklearn-color-background);\n",
       "  text-decoration: none;\n",
       "}\n",
       "\n",
       "#sk-container-id-1 a.estimator_doc_link.fitted:hover {\n",
       "  /* fitted */\n",
       "  background-color: var(--sklearn-color-fitted-level-3);\n",
       "}\n",
       "</style><div id=\"sk-container-id-1\" class=\"sk-top-container\"><div class=\"sk-text-repr-fallback\"><pre>LogisticRegression(C=20, class_weight=&#x27;balanced&#x27;, penalty=&#x27;l1&#x27;, random_state=42,\n",
       "                   solver=&#x27;liblinear&#x27;)</pre><b>In a Jupyter environment, please rerun this cell to show the HTML representation or trust the notebook. <br />On GitHub, the HTML representation is unable to render, please try loading this page with nbviewer.org.</b></div><div class=\"sk-container\" hidden><div class=\"sk-item\"><div class=\"sk-estimator fitted sk-toggleable\"><input class=\"sk-toggleable__control sk-hidden--visually\" id=\"sk-estimator-id-1\" type=\"checkbox\" checked><label for=\"sk-estimator-id-1\" class=\"sk-toggleable__label fitted sk-toggleable__label-arrow\"><div><div>LogisticRegression</div></div><div><a class=\"sk-estimator-doc-link fitted\" rel=\"noreferrer\" target=\"_blank\" href=\"https://scikit-learn.org/1.6/modules/generated/sklearn.linear_model.LogisticRegression.html\">?<span>Documentation for LogisticRegression</span></a><span class=\"sk-estimator-doc-link fitted\">i<span>Fitted</span></span></div></label><div class=\"sk-toggleable__content fitted\"><pre>LogisticRegression(C=20, class_weight=&#x27;balanced&#x27;, penalty=&#x27;l1&#x27;, random_state=42,\n",
       "                   solver=&#x27;liblinear&#x27;)</pre></div> </div></div></div></div>"
      ],
      "text/plain": [
       "LogisticRegression(C=20, class_weight='balanced', penalty='l1', random_state=42,\n",
       "                   solver='liblinear')"
      ]
     },
     "execution_count": 75,
     "metadata": {},
     "output_type": "execute_result"
    }
   ],
   "source": [
    "            ### Build a Logistic Regression model           \n",
    "# Training model avec hyperparametres optimisés\n",
    "print(\"Training model...\")\n",
    "LR_classifier = LogisticRegression(C=20, \n",
    "                                   class_weight='balanced', \n",
    "                                   max_iter=100, \n",
    "                                   penalty='l1', \n",
    "                                   solver='liblinear', \n",
    "                                   random_state=42)  # Instanciate model \n",
    "LR_classifier.fit(X_train_resampled, y_train_resampled)  # Fit model\n"
   ]
  },
  {
   "cell_type": "code",
   "execution_count": 76,
   "metadata": {},
   "outputs": [
    {
     "name": "stdout",
     "output_type": "stream",
     "text": [
      "Predictions on train set...\n",
      "...Done.\n",
      "\n",
      "#### First five predictions on TRAIN set ####\n",
      "[1 0 0 0 1]\n"
     ]
    }
   ],
   "source": [
    "# Predictions on training set\n",
    "print(\"Predictions on train set...\")\n",
    "y_train_pred_LR = LR_classifier.predict(X_train_resampled)\n",
    "print(\"...Done.\")\n",
    "print()\n",
    "\n",
    "print(\"#### First five predictions on TRAIN set ####\")\n",
    "print(y_train_pred_LR[0:5])\n"
   ]
  },
  {
   "cell_type": "code",
   "execution_count": 77,
   "metadata": {},
   "outputs": [
    {
     "name": "stdout",
     "output_type": "stream",
     "text": [
      "Classes uniques dans y_train_transformed: {np.int64(0), np.int64(1)}\n",
      "Classes uniques dans y_test_transformed: {np.int64(0), np.int64(1)}\n"
     ]
    }
   ],
   "source": [
    "print(\"Classes uniques dans y_train_transformed:\", set(y_train_resampled))\n",
    "print(\"Classes uniques dans y_test_transformed:\", set(y_train_pred_LR))"
   ]
  },
  {
   "cell_type": "code",
   "execution_count": 78,
   "metadata": {},
   "outputs": [],
   "source": [
    "                    ##### TESTING PIPELINE #####"
   ]
  },
  {
   "cell_type": "code",
   "execution_count": 79,
   "metadata": {},
   "outputs": [
    {
     "name": "stdout",
     "output_type": "stream",
     "text": [
      "Predictions on test set...\n",
      "...Done.\n",
      "\n",
      "#### First five predictions on TEST set ####\n",
      "[0 0 0 0 0]\n"
     ]
    }
   ],
   "source": [
    "# Predictions on testing set\n",
    "print(\"Predictions on test set...\")\n",
    "y_test_pred_LR = LR_classifier.predict(X_test_transformed)\n",
    "print(\"...Done.\")\n",
    "print()\n",
    "\n",
    "print(\"#### First five predictions on TEST set ####\")\n",
    "print(y_test_pred_LR[0:5])"
   ]
  },
  {
   "cell_type": "code",
   "execution_count": 80,
   "metadata": {},
   "outputs": [],
   "source": [
    "#### Evaluation model ####  Logistic Regression"
   ]
  },
  {
   "cell_type": "code",
   "execution_count": 81,
   "metadata": {},
   "outputs": [
    {
     "name": "stdout",
     "output_type": "stream",
     "text": [
      "--- Assessment of performances ---\n"
     ]
    },
    {
     "data": {
      "image/png": "[encoded data removed]",
      "text/plain": [
       "<Figure size 640x480 with 2 Axes>"
      ]
     },
     "metadata": {},
     "output_type": "display_data"
    },
    {
     "name": "stdout",
     "output_type": "stream",
     "text": [
      "accuracy-score on train set :  0.8412408759124088\n",
      "[[678 144]\n",
      " [117 705]]\n"
     ]
    },
    {
     "data": {
      "image/png": "[encoded data removed]",
      "text/plain": [
       "<Figure size 640x480 with 2 Axes>"
      ]
     },
     "metadata": {},
     "output_type": "display_data"
    },
    {
     "name": "stdout",
     "output_type": "stream",
     "text": [
      "accuracy-score on test set :  0.8004750593824228\n",
      "[[289  64]\n",
      " [ 20  48]]\n"
     ]
    }
   ],
   "source": [
    "### Assessment of performances ###      \n",
    "print(\"--- Assessment of performances ---\")\n",
    "\n",
    "# Plot confusion matrix\n",
    "cm_LR_train = confusion_matrix(y_train_resampled, y_train_pred_LR, labels=LR_classifier.classes_)\n",
    "cm_display_LR_train = ConfusionMatrixDisplay.from_predictions(y_train_resampled, y_train_pred_LR)\n",
    "cm_display_LR_train.ax_.set_title(\"Confusion matrix on train set \") # Simply to set a title\n",
    "plt.show() # Show graph\n",
    "print(\"accuracy-score on train set : \", LR_classifier.score(X_train_resampled, y_train_resampled))\n",
    "cm_array_LR_train = np.array(cm_LR_train)\n",
    "print(cm_array_LR_train)\n",
    "\n",
    "cm_LR_test = confusion_matrix(y_test_transformed, y_test_pred_LR, labels=LR_classifier.classes_)\n",
    "cm_display_LR_test = ConfusionMatrixDisplay.from_predictions(y_test_transformed, y_test_pred_LR)\n",
    "cm_display_LR_test.ax_.set_title(\"Confusion matrix on test set \") # Simply to set a title\n",
    "plt.show() # Show graph\n",
    "print(\"accuracy-score on test set : \", LR_classifier.score(X_test_transformed, y_test_transformed))\n",
    "cm_array_LR_test = np.array(cm_LR_test)\n",
    "print(cm_array_LR_test)\n"
   ]
  },
  {
   "cell_type": "code",
   "execution_count": 82,
   "metadata": {},
   "outputs": [
    {
     "name": "stdout",
     "output_type": "stream",
     "text": [
      "Résultat de notre modèle de Régression Logistique :\n",
      "coefficients are:  [ 3.09319489  1.95079139  0.84543599  0.79045713 -1.77336874 -1.13725331\n",
      " -1.46409249 -1.61218808 -0.70804557 -1.45095554 -1.64606717 -2.37593831\n",
      " -1.45932662 -1.69094507 -3.09787784 -1.16273391  2.01905253  2.12603224\n",
      "  4.3002042  -1.17680811 -0.94145124 -1.71893748  0.50321031  1.34827614\n",
      " -1.1895009  -0.08879269 -2.74750551  0.44291837  2.05562933  1.80892581\n",
      "  2.57370679 -1.35294866 -1.79474132 -0.53878275  0.02348615  0.43389035\n",
      " -0.73429164 -0.76189947 -0.80640778 -0.33685422  0.15010993 -0.3124733\n",
      " -0.10657983]\n",
      "Constant is:  [1.04968894]\n",
      "All transformers are:  [('cat', OneHotEncoder(drop='first', handle_unknown='ignore'), ['BusinessTravel', 'Department', 'EducationField', 'EnvironmentSatisfaction', 'JobInvolvement', 'JobLevel', 'JobSatisfaction', 'JobRole', 'OverTime', 'WorkLifeBalance']), ('num', StandardScaler(), ['Age', 'DistanceFromHome', 'MonthlyIncome', 'StockOptionLevel', 'TotalWorkingYears', 'TrainingTimesLastYear', 'YearsAtCompany', 'YearsInCurrentRole', 'YearsWithCurrManager'])]\n",
      "One Hot Encoder transformer is:  OneHotEncoder(drop='first', handle_unknown='ignore')\n"
     ]
    }
   ],
   "source": [
    "# Check coefficients Logistic Regression\n",
    "print(\"Résultat de notre modèle de Régression Logistique :\")\n",
    "print(\"coefficients are: \", LR_classifier.coef_.squeeze()) \n",
    "print(\"Constant is: \", LR_classifier.intercept_)\n",
    "\n",
    "# Access transformers from feature_encoder\n",
    "print(\"All transformers are: \", feature_encoder.transformers_)\n",
    "\n",
    "# Access one specific transformer\n",
    "print(\"One Hot Encoder transformer is: \", feature_encoder.transformers_[0][1])\n",
    "\n"
   ]
  },
  {
   "cell_type": "code",
   "execution_count": 83,
   "metadata": {},
   "outputs": [
    {
     "name": "stdout",
     "output_type": "stream",
     "text": [
      "Nombre de caractéristiques : 43\n",
      "Nombre de coefficients : 43\n"
     ]
    }
   ],
   "source": [
    "## vérification de la correspondance des tailles\n",
    "print(f\"Nombre de caractéristiques : {len(new_columns)}\")\n",
    "print(f\"Nombre de coefficients : {len(LR_classifier.coef_.squeeze())}\")"
   ]
  },
  {
   "cell_type": "code",
   "execution_count": 84,
   "metadata": {},
   "outputs": [],
   "source": [
    "def evaluate_model(LR_classifier, X_train_resampled, X_test_transformed, y_train_transformed, y_test_transformed):\n",
    "    # Mesurer le temps d'entraînement\n",
    "    LR_start_train_time = time.time()\n",
    "    LR_classifier.fit(X_train_resampled, y_train_resampled)\n",
    "    LR_train_time = round(time.time() - LR_start_train_time,2)\n",
    "\n",
    "    # Mesurer le temps de prédiction\n",
    "    LR_start_predict_time = time.time()\n",
    "    \n",
    "    LR_predict_time = round(time.time() - LR_start_predict_time,2)\n",
    "    \n",
    "    # Calculer les métriques\n",
    "    \n",
    "    LR_precision = round(precision_score(y_test_transformed, y_test_pred_LR, average='binary', zero_division=0),2)\n",
    "    LR_recall = round(recall_score(y_test_transformed, y_test_pred_LR, average='binary'),2)\n",
    "    LR_f1 = round(f1_score(y_test_transformed, y_test_pred_LR, average='binary'),2)\n",
    "    \n",
    "    # Calculer l'AUC (si c'est une classification binaire)\n",
    "    if len(set(y_test_transformed)) == 2: # Vérifier si c'est une classification binaire\n",
    "        LR_auc = round(roc_auc_score(y_test_transformed, LR_classifier.predict_proba(X_test_transformed)[:, 1]),2)\n",
    "    else:\n",
    "        LR_auc = None    \n",
    "    \n",
    "    return {\n",
    "        \n",
    "        'precision': LR_precision,\n",
    "        'recall': LR_recall,\n",
    "        'f1_score': LR_f1,\n",
    "        'auc': LR_auc,\n",
    "        'train_time': LR_train_time,\n",
    "        'predict_time': LR_predict_time,\n",
    "     }\n",
    "\n",
    "\n",
    "#### STOCKAGE DES RESULTATS\n",
    "# Création d'un DataFrame pour stocker les résultats\n",
    "results = []\n",
    "\n",
    "models = {\n",
    "    'Logistic Regression': LR_classifier\n",
    "    }\n",
    "\n"
   ]
  },
  {
   "cell_type": "code",
   "execution_count": 85,
   "metadata": {},
   "outputs": [
    {
     "name": "stdout",
     "output_type": "stream",
     "text": [
      "Evaluation du modèle : LOGISTIQUE REGRESSION \n",
      "accuracy-score on train set :  0.8412408759124088\n",
      "accuracy-score on test set :  0.8004750593824228\n",
      "matrice de confusion sur le train [[678 144]\n",
      " [117 705]]\n",
      "matrice de confusion sur le test [[289  64]\n",
      " [ 20  48]]\n"
     ]
    },
    {
     "data": {
      "text/plain": [
       "{'precision': 0.43,\n",
       " 'recall': 0.71,\n",
       " 'f1_score': 0.53,\n",
       " 'auc': np.float64(0.81),\n",
       " 'train_time': 0.04,\n",
       " 'predict_time': 0.0}"
      ]
     },
     "execution_count": 85,
     "metadata": {},
     "output_type": "execute_result"
    }
   ],
   "source": [
    "print(\"Evaluation du modèle : LOGISTIQUE REGRESSION \")\n",
    "LR_metrics = evaluate_model(LR_classifier, X_train_resampled, X_test_transformed, y_train_resampled, y_test_transformed)\n",
    "print(\"accuracy-score on train set : \", LR_classifier.score(X_train_resampled, y_train_resampled))\n",
    "print(\"accuracy-score on test set : \", LR_classifier.score(X_test_transformed, y_test_transformed))\n",
    "print(\"matrice de confusion sur le train\",cm_array_LR_train)\n",
    "print(\"matrice de confusion sur le test\",cm_array_LR_test)\n",
    "LR_metrics"
   ]
  },
  {
   "cell_type": "code",
   "execution_count": 86,
   "metadata": {},
   "outputs": [
    {
     "data": {
      "application/vnd.microsoft.datawrangler.viewer.v0+json": {
       "columns": [
        {
         "name": "index",
         "rawType": "int64",
         "type": "integer"
        },
        {
         "name": "feature_names",
         "rawType": "object",
         "type": "string"
        },
        {
         "name": "coefficients_LR",
         "rawType": "float64",
         "type": "float"
        },
        {
         "name": "Odds_Ratio",
         "rawType": "float64",
         "type": "float"
        }
       ],
       "conversionMethod": "pd.DataFrame",
       "ref": "76054c76-f3fb-435a-9caa-b79c764a203e",
       "rows": [
        [
         "0",
         "cat__BusinessTravel_Travel_Frequently",
         "3.093194886640199",
         "22.04740453144505"
        ],
        [
         "1",
         "cat__BusinessTravel_Travel_Rarely",
         "1.9507913943012916",
         "7.034252245517756"
        ],
        [
         "2",
         "cat__Department_Research & Development",
         "0.8454359874695573",
         "2.3289930050158705"
        ],
        [
         "3",
         "cat__Department_Sales",
         "0.790457129687194",
         "2.204403894429297"
        ],
        [
         "4",
         "cat__EducationField_Life Sciences",
         "-1.7733687372071278",
         "0.1697601471665927"
        ],
        [
         "5",
         "cat__EducationField_Marketing",
         "-1.1372533108169038",
         "0.32069867277493236"
        ],
        [
         "6",
         "cat__EducationField_Medical",
         "-1.4640924885864575",
         "0.23128779257606125"
        ],
        [
         "7",
         "cat__EducationField_Other",
         "-1.612188079646669",
         "0.1994507222065768"
        ],
        [
         "8",
         "cat__EducationField_Technical Degree",
         "-0.7080455737915634",
         "0.4926060193645142"
        ],
        [
         "9",
         "cat__EnvironmentSatisfaction_2_Moyen",
         "-1.450955541379264",
         "0.23434625353137192"
        ],
        [
         "10",
         "cat__EnvironmentSatisfaction_3_Elevée",
         "-1.646067169802658",
         "0.19280669548244125"
        ],
        [
         "11",
         "cat__EnvironmentSatisfaction_4_Très élevée",
         "-2.3759383119509",
         "0.09292725353736808"
        ],
        [
         "12",
         "cat__JobInvolvement_2_Moyen",
         "-1.4593266173599264",
         "0.2323927112704713"
        ],
        [
         "13",
         "cat__JobInvolvement_3_Elevée",
         "-1.6909450668159967",
         "0.1843452230899328"
        ],
        [
         "14",
         "cat__JobInvolvement_4_Très élevée",
         "-3.0978778354310545",
         "0.04514490572793202"
        ],
        [
         "15",
         "cat__JobLevel_2_Junior",
         "-1.162733908670635",
         "0.31263030876575065"
        ],
        [
         "16",
         "cat__JobLevel_3_Confirmé",
         "2.0190525250722278",
         "7.531185942331586"
        ],
        [
         "17",
         "cat__JobLevel_4_Senior",
         "2.126032239479466",
         "8.381544785745206"
        ],
        [
         "18",
         "cat__JobLevel_5_Expert",
         "4.300204199689957",
         "73.7148447112728"
        ],
        [
         "19",
         "cat__JobSatisfaction_2_Moyen",
         "-1.176808105991287",
         "0.30826110673931867"
        ],
        [
         "20",
         "cat__JobSatisfaction_3_Elevée",
         "-0.9414512358527177",
         "0.39006135338767395"
        ],
        [
         "21",
         "cat__JobSatisfaction_4_Très élevée",
         "-1.718937475722704",
         "0.179256511155766"
        ],
        [
         "22",
         "cat__JobRole_HumanResources_Job",
         "0.5032103054615497",
         "1.654022674609944"
        ],
        [
         "23",
         "cat__JobRole_Laboratory Technician",
         "1.3482761397161205",
         "3.8507815962792304"
        ],
        [
         "24",
         "cat__JobRole_Manager",
         "-1.189500895832428",
         "0.30437314006528293"
        ],
        [
         "25",
         "cat__JobRole_Manufacturing Director",
         "-0.08879268644269643",
         "0.9150352531255851"
        ],
        [
         "26",
         "cat__JobRole_Research Director",
         "-2.74750550819125",
         "0.06408752779354149"
        ],
        [
         "27",
         "cat__JobRole_Research Scientist",
         "0.4429183721193415",
         "1.5572452145270619"
        ],
        [
         "28",
         "cat__JobRole_Sales Executive",
         "2.0556293297753023",
         "7.811752494456824"
        ],
        [
         "29",
         "cat__JobRole_Sales Representative",
         "1.8089258060257432",
         "6.103887150557238"
        ],
        [
         "30",
         "cat__OverTime_OverTime-Yes",
         "2.5737067904927144",
         "13.114346589912907"
        ],
        [
         "31",
         "cat__WorkLifeBalance_2_Bon",
         "-1.3529486597607767",
         "0.2584769752085173"
        ],
        [
         "32",
         "cat__WorkLifeBalance_3_Très bon",
         "-1.794741317421862",
         "0.1661704321833334"
        ],
        [
         "33",
         "cat__WorkLifeBalance_5_Parfait",
         "-0.5387827458798699",
         "0.5834580369916745"
        ],
        [
         "34",
         "num__Age",
         "0.02348614887636416",
         "1.0237641203650172"
        ],
        [
         "35",
         "num__DistanceFromHome",
         "0.43389034817889666",
         "1.5432496387051988"
        ],
        [
         "36",
         "num__MonthlyIncome",
         "-0.7342916449718812",
         "0.4798452394061503"
        ],
        [
         "37",
         "num__StockOptionLevel",
         "-0.761899469366789",
         "0.4667789520904728"
        ],
        [
         "38",
         "num__TotalWorkingYears",
         "-0.8064077802852634",
         "0.446458967812304"
        ],
        [
         "39",
         "num__TrainingTimesLastYear",
         "-0.33685422022528905",
         "0.7140129209588374"
        ],
        [
         "40",
         "num__YearsAtCompany",
         "0.1501099262053205",
         "1.161961965777724"
        ],
        [
         "41",
         "num__YearsInCurrentRole",
         "-0.3124733011661387",
         "0.7316351624915296"
        ],
        [
         "42",
         "num__YearsWithCurrManager",
         "-0.10657982550356648",
         "0.8989032898894265"
        ]
       ],
       "shape": {
        "columns": 3,
        "rows": 43
       }
      },
      "text/html": [
       "<div>\n",
       "<style scoped>\n",
       "    .dataframe tbody tr th:only-of-type {\n",
       "        vertical-align: middle;\n",
       "    }\n",
       "\n",
       "    .dataframe tbody tr th {\n",
       "        vertical-align: top;\n",
       "    }\n",
       "\n",
       "    .dataframe thead th {\n",
       "        text-align: right;\n",
       "    }\n",
       "</style>\n",
       "<table border=\"1\" class=\"dataframe\">\n",
       "  <thead>\n",
       "    <tr style=\"text-align: right;\">\n",
       "      <th></th>\n",
       "      <th>feature_names</th>\n",
       "      <th>coefficients_LR</th>\n",
       "      <th>Odds_Ratio</th>\n",
       "    </tr>\n",
       "  </thead>\n",
       "  <tbody>\n",
       "    <tr>\n",
       "      <th>0</th>\n",
       "      <td>cat__BusinessTravel_Travel_Frequently</td>\n",
       "      <td>3.093195</td>\n",
       "      <td>22.047405</td>\n",
       "    </tr>\n",
       "    <tr>\n",
       "      <th>1</th>\n",
       "      <td>cat__BusinessTravel_Travel_Rarely</td>\n",
       "      <td>1.950791</td>\n",
       "      <td>7.034252</td>\n",
       "    </tr>\n",
       "    <tr>\n",
       "      <th>2</th>\n",
       "      <td>cat__Department_Research &amp; Development</td>\n",
       "      <td>0.845436</td>\n",
       "      <td>2.328993</td>\n",
       "    </tr>\n",
       "    <tr>\n",
       "      <th>3</th>\n",
       "      <td>cat__Department_Sales</td>\n",
       "      <td>0.790457</td>\n",
       "      <td>2.204404</td>\n",
       "    </tr>\n",
       "    <tr>\n",
       "      <th>4</th>\n",
       "      <td>cat__EducationField_Life Sciences</td>\n",
       "      <td>-1.773369</td>\n",
       "      <td>0.169760</td>\n",
       "    </tr>\n",
       "    <tr>\n",
       "      <th>5</th>\n",
       "      <td>cat__EducationField_Marketing</td>\n",
       "      <td>-1.137253</td>\n",
       "      <td>0.320699</td>\n",
       "    </tr>\n",
       "    <tr>\n",
       "      <th>6</th>\n",
       "      <td>cat__EducationField_Medical</td>\n",
       "      <td>-1.464092</td>\n",
       "      <td>0.231288</td>\n",
       "    </tr>\n",
       "    <tr>\n",
       "      <th>7</th>\n",
       "      <td>cat__EducationField_Other</td>\n",
       "      <td>-1.612188</td>\n",
       "      <td>0.199451</td>\n",
       "    </tr>\n",
       "    <tr>\n",
       "      <th>8</th>\n",
       "      <td>cat__EducationField_Technical Degree</td>\n",
       "      <td>-0.708046</td>\n",
       "      <td>0.492606</td>\n",
       "    </tr>\n",
       "    <tr>\n",
       "      <th>9</th>\n",
       "      <td>cat__EnvironmentSatisfaction_2_Moyen</td>\n",
       "      <td>-1.450956</td>\n",
       "      <td>0.234346</td>\n",
       "    </tr>\n",
       "    <tr>\n",
       "      <th>10</th>\n",
       "      <td>cat__EnvironmentSatisfaction_3_Elevée</td>\n",
       "      <td>-1.646067</td>\n",
       "      <td>0.192807</td>\n",
       "    </tr>\n",
       "    <tr>\n",
       "      <th>11</th>\n",
       "      <td>cat__EnvironmentSatisfaction_4_Très élevée</td>\n",
       "      <td>-2.375938</td>\n",
       "      <td>0.092927</td>\n",
       "    </tr>\n",
       "    <tr>\n",
       "      <th>12</th>\n",
       "      <td>cat__JobInvolvement_2_Moyen</td>\n",
       "      <td>-1.459327</td>\n",
       "      <td>0.232393</td>\n",
       "    </tr>\n",
       "    <tr>\n",
       "      <th>13</th>\n",
       "      <td>cat__JobInvolvement_3_Elevée</td>\n",
       "      <td>-1.690945</td>\n",
       "      <td>0.184345</td>\n",
       "    </tr>\n",
       "    <tr>\n",
       "      <th>14</th>\n",
       "      <td>cat__JobInvolvement_4_Très élevée</td>\n",
       "      <td>-3.097878</td>\n",
       "      <td>0.045145</td>\n",
       "    </tr>\n",
       "    <tr>\n",
       "      <th>15</th>\n",
       "      <td>cat__JobLevel_2_Junior</td>\n",
       "      <td>-1.162734</td>\n",
       "      <td>0.312630</td>\n",
       "    </tr>\n",
       "    <tr>\n",
       "      <th>16</th>\n",
       "      <td>cat__JobLevel_3_Confirmé</td>\n",
       "      <td>2.019053</td>\n",
       "      <td>7.531186</td>\n",
       "    </tr>\n",
       "    <tr>\n",
       "      <th>17</th>\n",
       "      <td>cat__JobLevel_4_Senior</td>\n",
       "      <td>2.126032</td>\n",
       "      <td>8.381545</td>\n",
       "    </tr>\n",
       "    <tr>\n",
       "      <th>18</th>\n",
       "      <td>cat__JobLevel_5_Expert</td>\n",
       "      <td>4.300204</td>\n",
       "      <td>73.714845</td>\n",
       "    </tr>\n",
       "    <tr>\n",
       "      <th>19</th>\n",
       "      <td>cat__JobSatisfaction_2_Moyen</td>\n",
       "      <td>-1.176808</td>\n",
       "      <td>0.308261</td>\n",
       "    </tr>\n",
       "    <tr>\n",
       "      <th>20</th>\n",
       "      <td>cat__JobSatisfaction_3_Elevée</td>\n",
       "      <td>-0.941451</td>\n",
       "      <td>0.390061</td>\n",
       "    </tr>\n",
       "    <tr>\n",
       "      <th>21</th>\n",
       "      <td>cat__JobSatisfaction_4_Très élevée</td>\n",
       "      <td>-1.718937</td>\n",
       "      <td>0.179257</td>\n",
       "    </tr>\n",
       "    <tr>\n",
       "      <th>22</th>\n",
       "      <td>cat__JobRole_HumanResources_Job</td>\n",
       "      <td>0.503210</td>\n",
       "      <td>1.654023</td>\n",
       "    </tr>\n",
       "    <tr>\n",
       "      <th>23</th>\n",
       "      <td>cat__JobRole_Laboratory Technician</td>\n",
       "      <td>1.348276</td>\n",
       "      <td>3.850782</td>\n",
       "    </tr>\n",
       "    <tr>\n",
       "      <th>24</th>\n",
       "      <td>cat__JobRole_Manager</td>\n",
       "      <td>-1.189501</td>\n",
       "      <td>0.304373</td>\n",
       "    </tr>\n",
       "    <tr>\n",
       "      <th>25</th>\n",
       "      <td>cat__JobRole_Manufacturing Director</td>\n",
       "      <td>-0.088793</td>\n",
       "      <td>0.915035</td>\n",
       "    </tr>\n",
       "    <tr>\n",
       "      <th>26</th>\n",
       "      <td>cat__JobRole_Research Director</td>\n",
       "      <td>-2.747506</td>\n",
       "      <td>0.064088</td>\n",
       "    </tr>\n",
       "    <tr>\n",
       "      <th>27</th>\n",
       "      <td>cat__JobRole_Research Scientist</td>\n",
       "      <td>0.442918</td>\n",
       "      <td>1.557245</td>\n",
       "    </tr>\n",
       "    <tr>\n",
       "      <th>28</th>\n",
       "      <td>cat__JobRole_Sales Executive</td>\n",
       "      <td>2.055629</td>\n",
       "      <td>7.811752</td>\n",
       "    </tr>\n",
       "    <tr>\n",
       "      <th>29</th>\n",
       "      <td>cat__JobRole_Sales Representative</td>\n",
       "      <td>1.808926</td>\n",
       "      <td>6.103887</td>\n",
       "    </tr>\n",
       "    <tr>\n",
       "      <th>30</th>\n",
       "      <td>cat__OverTime_OverTime-Yes</td>\n",
       "      <td>2.573707</td>\n",
       "      <td>13.114347</td>\n",
       "    </tr>\n",
       "    <tr>\n",
       "      <th>31</th>\n",
       "      <td>cat__WorkLifeBalance_2_Bon</td>\n",
       "      <td>-1.352949</td>\n",
       "      <td>0.258477</td>\n",
       "    </tr>\n",
       "    <tr>\n",
       "      <th>32</th>\n",
       "      <td>cat__WorkLifeBalance_3_Très bon</td>\n",
       "      <td>-1.794741</td>\n",
       "      <td>0.166170</td>\n",
       "    </tr>\n",
       "    <tr>\n",
       "      <th>33</th>\n",
       "      <td>cat__WorkLifeBalance_5_Parfait</td>\n",
       "      <td>-0.538783</td>\n",
       "      <td>0.583458</td>\n",
       "    </tr>\n",
       "    <tr>\n",
       "      <th>34</th>\n",
       "      <td>num__Age</td>\n",
       "      <td>0.023486</td>\n",
       "      <td>1.023764</td>\n",
       "    </tr>\n",
       "    <tr>\n",
       "      <th>35</th>\n",
       "      <td>num__DistanceFromHome</td>\n",
       "      <td>0.433890</td>\n",
       "      <td>1.543250</td>\n",
       "    </tr>\n",
       "    <tr>\n",
       "      <th>36</th>\n",
       "      <td>num__MonthlyIncome</td>\n",
       "      <td>-0.734292</td>\n",
       "      <td>0.479845</td>\n",
       "    </tr>\n",
       "    <tr>\n",
       "      <th>37</th>\n",
       "      <td>num__StockOptionLevel</td>\n",
       "      <td>-0.761899</td>\n",
       "      <td>0.466779</td>\n",
       "    </tr>\n",
       "    <tr>\n",
       "      <th>38</th>\n",
       "      <td>num__TotalWorkingYears</td>\n",
       "      <td>-0.806408</td>\n",
       "      <td>0.446459</td>\n",
       "    </tr>\n",
       "    <tr>\n",
       "      <th>39</th>\n",
       "      <td>num__TrainingTimesLastYear</td>\n",
       "      <td>-0.336854</td>\n",
       "      <td>0.714013</td>\n",
       "    </tr>\n",
       "    <tr>\n",
       "      <th>40</th>\n",
       "      <td>num__YearsAtCompany</td>\n",
       "      <td>0.150110</td>\n",
       "      <td>1.161962</td>\n",
       "    </tr>\n",
       "    <tr>\n",
       "      <th>41</th>\n",
       "      <td>num__YearsInCurrentRole</td>\n",
       "      <td>-0.312473</td>\n",
       "      <td>0.731635</td>\n",
       "    </tr>\n",
       "    <tr>\n",
       "      <th>42</th>\n",
       "      <td>num__YearsWithCurrManager</td>\n",
       "      <td>-0.106580</td>\n",
       "      <td>0.898903</td>\n",
       "    </tr>\n",
       "  </tbody>\n",
       "</table>\n",
       "</div>"
      ],
      "text/plain": [
       "                                 feature_names  coefficients_LR  Odds_Ratio\n",
       "0        cat__BusinessTravel_Travel_Frequently         3.093195   22.047405\n",
       "1            cat__BusinessTravel_Travel_Rarely         1.950791    7.034252\n",
       "2       cat__Department_Research & Development         0.845436    2.328993\n",
       "3                        cat__Department_Sales         0.790457    2.204404\n",
       "4            cat__EducationField_Life Sciences        -1.773369    0.169760\n",
       "5                cat__EducationField_Marketing        -1.137253    0.320699\n",
       "6                  cat__EducationField_Medical        -1.464092    0.231288\n",
       "7                    cat__EducationField_Other        -1.612188    0.199451\n",
       "8         cat__EducationField_Technical Degree        -0.708046    0.492606\n",
       "9         cat__EnvironmentSatisfaction_2_Moyen        -1.450956    0.234346\n",
       "10       cat__EnvironmentSatisfaction_3_Elevée        -1.646067    0.192807\n",
       "11  cat__EnvironmentSatisfaction_4_Très élevée        -2.375938    0.092927\n",
       "12                 cat__JobInvolvement_2_Moyen        -1.459327    0.232393\n",
       "13                cat__JobInvolvement_3_Elevée        -1.690945    0.184345\n",
       "14           cat__JobInvolvement_4_Très élevée        -3.097878    0.045145\n",
       "15                      cat__JobLevel_2_Junior        -1.162734    0.312630\n",
       "16                    cat__JobLevel_3_Confirmé         2.019053    7.531186\n",
       "17                      cat__JobLevel_4_Senior         2.126032    8.381545\n",
       "18                      cat__JobLevel_5_Expert         4.300204   73.714845\n",
       "19                cat__JobSatisfaction_2_Moyen        -1.176808    0.308261\n",
       "20               cat__JobSatisfaction_3_Elevée        -0.941451    0.390061\n",
       "21          cat__JobSatisfaction_4_Très élevée        -1.718937    0.179257\n",
       "22             cat__JobRole_HumanResources_Job         0.503210    1.654023\n",
       "23          cat__JobRole_Laboratory Technician         1.348276    3.850782\n",
       "24                        cat__JobRole_Manager        -1.189501    0.304373\n",
       "25         cat__JobRole_Manufacturing Director        -0.088793    0.915035\n",
       "26              cat__JobRole_Research Director        -2.747506    0.064088\n",
       "27             cat__JobRole_Research Scientist         0.442918    1.557245\n",
       "28                cat__JobRole_Sales Executive         2.055629    7.811752\n",
       "29           cat__JobRole_Sales Representative         1.808926    6.103887\n",
       "30                  cat__OverTime_OverTime-Yes         2.573707   13.114347\n",
       "31                  cat__WorkLifeBalance_2_Bon        -1.352949    0.258477\n",
       "32             cat__WorkLifeBalance_3_Très bon        -1.794741    0.166170\n",
       "33              cat__WorkLifeBalance_5_Parfait        -0.538783    0.583458\n",
       "34                                    num__Age         0.023486    1.023764\n",
       "35                       num__DistanceFromHome         0.433890    1.543250\n",
       "36                          num__MonthlyIncome        -0.734292    0.479845\n",
       "37                       num__StockOptionLevel        -0.761899    0.466779\n",
       "38                      num__TotalWorkingYears        -0.806408    0.446459\n",
       "39                  num__TrainingTimesLastYear        -0.336854    0.714013\n",
       "40                         num__YearsAtCompany         0.150110    1.161962\n",
       "41                     num__YearsInCurrentRole        -0.312473    0.731635\n",
       "42                   num__YearsWithCurrManager        -0.106580    0.898903"
      ]
     },
     "execution_count": 86,
     "metadata": {},
     "output_type": "execute_result"
    }
   ],
   "source": [
    "odds_ratios=np.exp(LR_classifier.coef_.squeeze())\n",
    "# Feature importance \n",
    "feature_importance_LR = pd.DataFrame({\n",
    "    \"feature_names\": new_columns,\n",
    "    \"coefficients_LR\":LR_classifier.coef_.squeeze(),   #  .squeeze() car les données ont besoin d'être unidimensionnelles\n",
    "    \"Odds_Ratio\": odds_ratios\n",
    "    })\n",
    "\n",
    "feature_importance_LR"
   ]
  },
  {
   "cell_type": "code",
   "execution_count": 87,
   "metadata": {},
   "outputs": [],
   "source": [
    "feature_importance_LR = feature_importance_LR.sort_values(by='Odds_Ratio', ascending=False)"
   ]
  },
  {
   "cell_type": "code",
   "execution_count": 88,
   "metadata": {},
   "outputs": [
    {
     "name": "stdout",
     "output_type": "stream",
     "text": [
      "Features importance Logistic Regression by Odds_Ratio\n"
     ]
    },
    {
     "data": {
      "text/plain": [
       "<seaborn.axisgrid.FacetGrid at 0x1ad036a8830>"
      ]
     },
     "execution_count": 88,
     "metadata": {},
     "output_type": "execute_result"
    },
    {
     "data": {
      "image/png": "[encoded data removed]",
      "text/plain": [
       "<Figure size 1788.89x1000 with 1 Axes>"
      ]
     },
     "metadata": {},
     "output_type": "display_data"
    }
   ],
   "source": [
    "# Set coefficient to absolute values to rank features\n",
    "#feature_importance_LR[\"coefficients_LR\"] = feature_importance_LR[\"coefficients_LR\"].abs()\n",
    "\n",
    "# Visualize ranked features using seaborn\n",
    "print(\"Features importance Logistic Regression by Odds_Ratio\")\n",
    "sns.catplot(x=\"Odds_Ratio\", \n",
    "            y=\"feature_names\", \n",
    "            data=feature_importance_LR.sort_values(by=\"Odds_Ratio\", ascending=False), \n",
    "            kind=\"bar\",\n",
    "            height=10,\n",
    "            aspect=16/9) # Resize graph"
   ]
  },
  {
   "cell_type": "code",
   "execution_count": 89,
   "metadata": {},
   "outputs": [
    {
     "name": "stdout",
     "output_type": "stream",
     "text": [
      "Odds Ratios :\n",
      "[2.20474045e+01 7.03425225e+00 2.32899301e+00 2.20440389e+00\n",
      " 1.69760147e-01 3.20698673e-01 2.31287793e-01 1.99450722e-01\n",
      " 4.92606019e-01 2.34346254e-01 1.92806695e-01 9.29272535e-02\n",
      " 2.32392711e-01 1.84345223e-01 4.51449057e-02 3.12630309e-01\n",
      " 7.53118594e+00 8.38154479e+00 7.37148447e+01 3.08261107e-01\n",
      " 3.90061353e-01 1.79256511e-01 1.65402267e+00 3.85078160e+00\n",
      " 3.04373140e-01 9.15035253e-01 6.40875278e-02 1.55724521e+00\n",
      " 7.81175249e+00 6.10388715e+00 1.31143466e+01 2.58476975e-01\n",
      " 1.66170432e-01 5.83458037e-01 1.02376412e+00 1.54324964e+00\n",
      " 4.79845239e-01 4.66778952e-01 4.46458968e-01 7.14012921e-01\n",
      " 1.16196197e+00 7.31635162e-01 8.98903290e-01]\n"
     ]
    }
   ],
   "source": [
    "print(\"Odds Ratios :\")\n",
    "print(odds_ratios)\n",
    "\n"
   ]
  },
  {
   "cell_type": "code",
   "execution_count": 90,
   "metadata": {},
   "outputs": [
    {
     "name": "stdout",
     "output_type": "stream",
     "text": [
      "Warning: Maximum number of iterations has been exceeded.\n",
      "         Current function value: 0.360036\n",
      "         Iterations: 35\n",
      "                           Logit Regression Results                           \n",
      "==============================================================================\n",
      "Dep. Variable:                      y   No. Observations:                 1644\n",
      "Model:                          Logit   Df Residuals:                     1600\n",
      "Method:                           MLE   Df Model:                           43\n",
      "Date:                Mon, 28 Apr 2025   Pseudo R-squ.:                  0.4806\n",
      "Time:                        17:27:05   Log-Likelihood:                -591.90\n",
      "converged:                      False   LL-Null:                       -1139.5\n",
      "Covariance Type:            nonrobust   LLR p-value:                1.887e-201\n",
      "==============================================================================\n",
      "                 coef    std err          z      P>|z|      [0.025      0.975]\n",
      "------------------------------------------------------------------------------\n",
      "const          0.4061      6.150      0.066      0.947     -11.649      12.461\n",
      "x1             3.1063      0.416      7.473      0.000       2.292       3.921\n",
      "x2             1.9610      0.387      5.072      0.000       1.203       2.719\n",
      "x3             1.7566      6.098      0.288      0.773     -10.195      13.708\n",
      "x4             1.5843      6.139      0.258      0.796     -10.448      13.616\n",
      "x5            -2.0424      0.866     -2.357      0.018      -3.741      -0.344\n",
      "x6            -1.4055      0.899     -1.564      0.118      -3.167       0.356\n",
      "x7            -1.7328      0.870     -1.992      0.046      -3.438      -0.027\n",
      "x8            -1.8768      0.913     -2.056      0.040      -3.666      -0.087\n",
      "x9            -0.9679      0.892     -1.085      0.278      -2.716       0.781\n",
      "x10           -1.4597      0.247     -5.915      0.000      -1.943      -0.976\n",
      "x11           -1.6599      0.236     -7.022      0.000      -2.123      -1.197\n",
      "x12           -2.3909      0.255     -9.389      0.000      -2.890      -1.892\n",
      "x13           -1.4924      0.363     -4.108      0.000      -2.204      -0.780\n",
      "x14           -1.7189      0.346     -4.971      0.000      -2.397      -1.041\n",
      "x15           -3.1467      0.474     -6.643      0.000      -4.075      -2.218\n",
      "x16           -1.1331      0.394     -2.877      0.004      -1.905      -0.361\n",
      "x17            2.0962      0.630      3.325      0.001       0.861       3.332\n",
      "x18            2.2399      1.028      2.179      0.029       0.225       4.254\n",
      "x19            4.5300      1.425      3.179      0.001       1.737       7.323\n",
      "x20           -1.1867      0.274     -4.324      0.000      -1.725      -0.649\n",
      "x21           -0.9530      0.228     -4.178      0.000      -1.400      -0.506\n",
      "x22           -1.7389      0.236     -7.369      0.000      -2.201      -1.276\n",
      "x23            1.2991      6.111      0.213      0.832     -10.679      13.277\n",
      "x24            1.3845      0.525      2.635      0.008       0.355       2.414\n",
      "x25           -1.2172      0.940     -1.295      0.195      -3.060       0.626\n",
      "x26           -0.0921      0.480     -0.192      0.848      -1.033       0.849\n",
      "x27           -2.8454      1.079     -2.636      0.008      -4.961      -0.730\n",
      "x28            0.4784      0.523      0.914      0.361      -0.547       1.504\n",
      "x29            2.1861      1.276      1.713      0.087      -0.315       4.688\n",
      "x30            1.9663      1.340      1.468      0.142      -0.659       4.592\n",
      "x31            2.5905      0.185     13.977      0.000       2.227       2.954\n",
      "x32           -1.3796      0.376     -3.668      0.000      -2.117      -0.642\n",
      "x33           -1.8235      0.358     -5.100      0.000      -2.524      -1.123\n",
      "x34           -0.5601      0.409     -1.371      0.170      -1.361       0.241\n",
      "x35            0.0248      0.102      0.242      0.808      -0.175       0.225\n",
      "x36            0.4368      0.083      5.251      0.000       0.274       0.600\n",
      "x37           -0.7519      0.364     -2.067      0.039      -1.465      -0.039\n",
      "x38           -0.7646      0.084     -9.064      0.000      -0.930      -0.599\n",
      "x39           -0.8194      0.184     -4.457      0.000      -1.180      -0.459\n",
      "x40           -0.3367      0.084     -4.018      0.000      -0.501      -0.172\n",
      "x41            0.1552      0.233      0.666      0.505      -0.301       0.612\n",
      "x42           -0.3144      0.171     -1.842      0.066      -0.649       0.020\n",
      "x43           -0.1081      0.165     -0.654      0.513      -0.432       0.216\n",
      "==============================================================================\n"
     ]
    },
    {
     "name": "stderr",
     "output_type": "stream",
     "text": [
      "c:\\Users\\heinr\\AppData\\Local\\Programs\\Python\\Python313\\Lib\\site-packages\\statsmodels\\base\\model.py:607: ConvergenceWarning: Maximum Likelihood optimization failed to converge. Check mle_retvals\n",
      "  warnings.warn(\"Maximum Likelihood optimization failed to \"\n"
     ]
    }
   ],
   "source": [
    "# Calcul des p-values approximatives via statsmodels (ajout d'une constante pour l'intercept)\n",
    "X_train_scaled_with_intercept = sm.add_constant(X_train_resampled)\n",
    "\n",
    "# Ajustement du modèle avec statsmodels pour obtenir les p-values\n",
    "logit_model = sm.Logit(y_train_resampled, X_train_scaled_with_intercept)\n",
    "result = logit_model.fit()\n",
    "print(result.summary())\n"
   ]
  },
  {
   "cell_type": "code",
   "execution_count": 91,
   "metadata": {},
   "outputs": [
    {
     "name": "stdout",
     "output_type": "stream",
     "text": [
      "                                 feature_names  Odds_Ratio      p_values\n",
      "0        cat__BusinessTravel_Travel_Frequently   22.047405  7.831139e-14\n",
      "1            cat__BusinessTravel_Travel_Rarely    7.034252  3.926897e-07\n",
      "2       cat__Department_Research & Development    2.328993  7.732935e-01\n",
      "3                        cat__Department_Sales    2.204404  7.963440e-01\n",
      "4            cat__EducationField_Life Sciences    0.169760  1.841773e-02\n",
      "5                cat__EducationField_Marketing    0.320699  1.178392e-01\n",
      "6                  cat__EducationField_Medical    0.231288  4.641958e-02\n",
      "7                    cat__EducationField_Other    0.199451  3.982949e-02\n",
      "8         cat__EducationField_Technical Degree    0.492606  2.779452e-01\n",
      "9         cat__EnvironmentSatisfaction_2_Moyen    0.234346  3.325111e-09\n",
      "10       cat__EnvironmentSatisfaction_3_Elevée    0.192807  2.192891e-12\n",
      "11  cat__EnvironmentSatisfaction_4_Très élevée    0.092927  6.061213e-21\n",
      "12                 cat__JobInvolvement_2_Moyen    0.232393  3.986497e-05\n",
      "13                cat__JobInvolvement_3_Elevée    0.184345  6.652698e-07\n",
      "14           cat__JobInvolvement_4_Très élevée    0.045145  3.069277e-11\n",
      "15                      cat__JobLevel_2_Junior    0.312630  4.012905e-03\n",
      "16                    cat__JobLevel_3_Confirmé    7.531186  8.828508e-04\n",
      "17                      cat__JobLevel_4_Senior    8.381545  2.930551e-02\n",
      "18                      cat__JobLevel_5_Expert   73.714845  1.479176e-03\n",
      "19                cat__JobSatisfaction_2_Moyen    0.308261  1.529646e-05\n",
      "20               cat__JobSatisfaction_3_Elevée    0.390061  2.939554e-05\n",
      "21          cat__JobSatisfaction_4_Très élevée    0.179257  1.713815e-13\n",
      "22             cat__JobRole_HumanResources_Job    1.654023  8.316610e-01\n",
      "23          cat__JobRole_Laboratory Technician    3.850782  8.416920e-03\n",
      "24                        cat__JobRole_Manager    0.304373  1.954799e-01\n",
      "25         cat__JobRole_Manufacturing Director    0.915035  8.478825e-01\n",
      "26              cat__JobRole_Research Director    0.064088  8.388876e-03\n",
      "27             cat__JobRole_Research Scientist    1.557245  3.605163e-01\n",
      "28                cat__JobRole_Sales Executive    7.811752  8.673154e-02\n",
      "29           cat__JobRole_Sales Representative    6.103887  1.421412e-01\n",
      "30                  cat__OverTime_OverTime-Yes   13.114347  2.148290e-44\n",
      "31                  cat__WorkLifeBalance_2_Bon    0.258477  2.444419e-04\n",
      "32             cat__WorkLifeBalance_3_Très bon    0.166170  3.396417e-07\n",
      "33              cat__WorkLifeBalance_5_Parfait    0.583458  1.704326e-01\n",
      "34                                    num__Age    1.023764  8.084552e-01\n",
      "35                       num__DistanceFromHome    1.543250  1.512043e-07\n",
      "36                          num__MonthlyIncome    0.479845  3.877717e-02\n",
      "37                       num__StockOptionLevel    0.466779  1.253501e-19\n",
      "38                      num__TotalWorkingYears    0.446459  8.319020e-06\n",
      "39                  num__TrainingTimesLastYear    0.714013  5.868534e-05\n",
      "40                         num__YearsAtCompany    1.161962  5.051842e-01\n",
      "41                     num__YearsInCurrentRole    0.731635  6.553947e-02\n",
      "42                   num__YearsWithCurrManager    0.898903  5.129129e-01\n"
     ]
    }
   ],
   "source": [
    "p_values = result.pvalues[1:]  # Exclusion de l'intercept\n",
    "\n",
    "# Feature importance avec p-value\n",
    "feature_importance_LR_2 = pd.DataFrame({\n",
    "    \"feature_names\": new_columns,\n",
    "    \"Odds_Ratio\": odds_ratios,\n",
    "    \"p_values\": p_values\n",
    "    })\n",
    "print(feature_importance_LR_2)\n"
   ]
  },
  {
   "cell_type": "code",
   "execution_count": 92,
   "metadata": {},
   "outputs": [],
   "source": [
    "                                              ################ DECISION TREE ##################"
   ]
  },
  {
   "cell_type": "code",
   "execution_count": 93,
   "metadata": {},
   "outputs": [
    {
     "data": {
      "text/plain": [
       "'\\n# Définir les hyperparamètres à tester\\nparam_grid = {\\n    \\'max_depth\\': [3, 5, 10, None],\\n    \\'min_samples_split\\': [2, 5, 10],\\n    \\'min_samples_leaf\\': [1, 2, 4],\\n    \\'criterion\\': [\\'gini\\', \\'entropy\\']\\n    }\\n\\n# Instancier le modèle\\nDT_classifier = DecisionTreeClassifier(class_weight=\\'balanced\\', random_state=42)\\n\\n# Instancier le GridSearchCV\\ngrid_search = GridSearchCV(estimator=DT_classifier, param_grid=param_grid, \\n                           cv=10, scoring=\\'recall\\', n_jobs=-1, verbose=1)\\n\\n# Appliquer GridSearchCV pour trouver les meilleurs paramètres\\ngrid_search.fit(X_train_resampled, y_train_resampled)\\n\\n# Afficher les meilleurs paramètres et le score associé\\nprint(\"Meilleurs paramètres trouvés : \", grid_search.best_params_)\\nprint(\"Meilleur score : \", grid_search.best_score_)\\n\\n# Utiliser le meilleur modèle trouvé\\nbest_DT_model = grid_search.best_estimator_\\n\\n# Prédictions avec le meilleur modèle\\ny_pred_best_DT = best_DT_model.predict(X_test_transformed)\\nprint(\"Accuracy sur test set avec meilleur modèle : \", accuracy_score(y_test_transformed, y_pred_best_DT))\\n'"
      ]
     },
     "execution_count": 93,
     "metadata": {},
     "output_type": "execute_result"
    }
   ],
   "source": [
    "\"\"\"\n",
    "# Définir les hyperparamètres à tester\n",
    "param_grid = {\n",
    "    'max_depth': [3, 5, 10, None],\n",
    "    'min_samples_split': [2, 5, 10],\n",
    "    'min_samples_leaf': [1, 2, 4],\n",
    "    'criterion': ['gini', 'entropy']\n",
    "    }\n",
    "\n",
    "# Instancier le modèle\n",
    "DT_classifier = DecisionTreeClassifier(class_weight='balanced', random_state=42)\n",
    "\n",
    "# Instancier le GridSearchCV\n",
    "grid_search = GridSearchCV(estimator=DT_classifier, param_grid=param_grid, \n",
    "                           cv=10, scoring='recall', n_jobs=-1, verbose=1)\n",
    "\n",
    "# Appliquer GridSearchCV pour trouver les meilleurs paramètres\n",
    "grid_search.fit(X_train_resampled, y_train_resampled)\n",
    "\n",
    "# Afficher les meilleurs paramètres et le score associé\n",
    "print(\"Meilleurs paramètres trouvés : \", grid_search.best_params_)\n",
    "print(\"Meilleur score : \", grid_search.best_score_)\n",
    "\n",
    "# Utiliser le meilleur modèle trouvé\n",
    "best_DT_model = grid_search.best_estimator_\n",
    "\n",
    "# Prédictions avec le meilleur modèle\n",
    "y_pred_best_DT = best_DT_model.predict(X_test_transformed)\n",
    "print(\"Accuracy sur test set avec meilleur modèle : \", accuracy_score(y_test_transformed, y_pred_best_DT))\n",
    "\"\"\"\n"
   ]
  },
  {
   "cell_type": "code",
   "execution_count": 94,
   "metadata": {},
   "outputs": [],
   "source": [
    "# RESULTATS OBTENUS :\n",
    "# Fitting 10 folds for each of 72 candidates, totalling 720 fits\n",
    "# Meilleurs paramètres trouvés :  {'criterion': 'gini', 'max_depth': None, 'min_samples_leaf': 1, 'min_samples_split': 2}\n",
    "# Meilleur score :  0.9060975609756097\n",
    "# Accuracy sur test set avec meilleur modèle :  0.8"
   ]
  },
  {
   "cell_type": "code",
   "execution_count": null,
   "metadata": {},
   "outputs": [],
   "source": []
  },
  {
   "cell_type": "code",
   "execution_count": 95,
   "metadata": {},
   "outputs": [
    {
     "name": "stdout",
     "output_type": "stream",
     "text": [
      "Training model...\n",
      "...Done.\n"
     ]
    }
   ],
   "source": [
    "# Training model            \n",
    "\n",
    "print(\"Training model...\")\n",
    "DT_classifier = DecisionTreeClassifier(criterion = 'gini', max_depth= 5 ,min_samples_leaf= 1, \n",
    "                                       min_samples_split= 2, class_weight='balanced', random_state=42)\n",
    "DT_classifier.fit(X_train_resampled, y_train_resampled)\n",
    "print(\"...Done.\")"
   ]
  },
  {
   "cell_type": "code",
   "execution_count": 96,
   "metadata": {},
   "outputs": [
    {
     "name": "stdout",
     "output_type": "stream",
     "text": [
      "Predictions on train set...\n",
      "...Done.\n",
      "\n"
     ]
    }
   ],
   "source": [
    "# Predictions on training set\n",
    "print(\"Predictions on train set...\")\n",
    "y_train_pred_DT = DT_classifier.predict(X_train_resampled)\n",
    "print(\"...Done.\")\n",
    "print()"
   ]
  },
  {
   "cell_type": "code",
   "execution_count": 97,
   "metadata": {},
   "outputs": [],
   "source": [
    "# Testing model"
   ]
  },
  {
   "cell_type": "code",
   "execution_count": 98,
   "metadata": {},
   "outputs": [
    {
     "name": "stdout",
     "output_type": "stream",
     "text": [
      "Predictions on test set...\n",
      "...Done.\n",
      "\n"
     ]
    }
   ],
   "source": [
    "# Predictions on test set\n",
    "print(\"Predictions on test set...\")\n",
    "y_test_pred_DT = DT_classifier.predict(X_test_transformed)\n",
    "print(\"...Done.\")\n",
    "print()"
   ]
  },
  {
   "cell_type": "code",
   "execution_count": 99,
   "metadata": {},
   "outputs": [],
   "source": [
    "### evaluate model ###"
   ]
  },
  {
   "cell_type": "code",
   "execution_count": 100,
   "metadata": {},
   "outputs": [
    {
     "name": "stdout",
     "output_type": "stream",
     "text": [
      "--- Assessment of performances ---\n"
     ]
    },
    {
     "data": {
      "image/png": "[encoded data removed]",
      "text/plain": [
       "<Figure size 640x480 with 2 Axes>"
      ]
     },
     "metadata": {},
     "output_type": "display_data"
    },
    {
     "name": "stdout",
     "output_type": "stream",
     "text": [
      "accuracy-score on train set DT :  0.8686131386861314\n",
      "[[676 146]\n",
      " [ 70 752]]\n"
     ]
    },
    {
     "data": {
      "image/png": "[encoded data removed]",
      "text/plain": [
       "<Figure size 640x480 with 2 Axes>"
      ]
     },
     "metadata": {},
     "output_type": "display_data"
    },
    {
     "name": "stdout",
     "output_type": "stream",
     "text": [
      "accuracy-score on test set DT :  0.7434679334916865\n",
      "[[283  70]\n",
      " [ 38  30]]\n"
     ]
    }
   ],
   "source": [
    "### Assessment of performances ###          \n",
    "print(\"--- Assessment of performances ---\")\n",
    "\n",
    "# Plot confusion matrix\n",
    "cm_DT_train = confusion_matrix(y_train_resampled, y_train_pred_DT, labels=DT_classifier.classes_)\n",
    "cm_display_DT_train = ConfusionMatrixDisplay.from_predictions(y_train_resampled, y_train_pred_DT)\n",
    "cm_display_DT_train.ax_.set_title(\"Confusion matrix on train set \") # Simply to set a title\n",
    "plt.show() # Show graph\n",
    "print(\"accuracy-score on train set DT : \", DT_classifier.score(X_train_resampled, y_train_resampled))\n",
    "cm_array_DT_train = np.array(cm_DT_train)\n",
    "print(cm_array_DT_train)\n",
    "\n",
    "cm_DT_test = confusion_matrix(y_test_transformed, y_test_pred_DT, labels=DT_classifier.classes_)\n",
    "cm_display_DT_test = ConfusionMatrixDisplay.from_predictions(y_test_transformed, y_test_pred_DT)\n",
    "cm_display_DT_test.ax_.set_title(\"Confusion matrix on test set \") # Simply to set a title\n",
    "plt.show() # Show graph\n",
    "print(\"accuracy-score on test set DT : \", DT_classifier.score(X_test_transformed, y_test_transformed))\n",
    "cm_array_DT_test = np.array(cm_DT_test)\n",
    "print(cm_array_DT_test)"
   ]
  },
  {
   "cell_type": "code",
   "execution_count": 101,
   "metadata": {},
   "outputs": [],
   "source": [
    "def evaluate_model(DT_classifier, X_train_resampled, X_test_transformed, y_train_resampled, y_test_transformed):\n",
    "    # Mesurer le temps d'entraînement\n",
    "    DT_start_train_time = time.time()\n",
    "    DT_classifier.fit(X_train_resampled, y_train_resampled)\n",
    "    DT_train_time = time.time() - DT_start_train_time\n",
    "\n",
    "    # Mesurer le temps de prédiction\n",
    "    DT_start_predict_time = time.time()\n",
    "    DT_predict_time = time.time() - DT_start_predict_time\n",
    "    \n",
    "    # Calculer les métriques\n",
    "    \n",
    "    DT_precision = round(precision_score(y_test_transformed, y_test_pred_DT, average='binary', zero_division=0),2)\n",
    "    DT_recall = round(recall_score(y_test_transformed, y_test_pred_DT, average='binary'),2)\n",
    "    DT_f1 = round(f1_score(y_test_transformed, y_test_pred_DT, average='binary'),2)\n",
    "    \n",
    "    # Calculer l'AUC (si c'est une classification binaire)\n",
    "    if len(set(y_test_transformed)) == 2: # Vérifier si c'est une classification binaire\n",
    "        DT_auc = round(roc_auc_score(y_test_transformed, DT_classifier.predict_proba(X_test_transformed)[:, 1]),2)\n",
    "    else:\n",
    "        DT_auc = None\n",
    "    \n",
    "    \n",
    "    \n",
    "    return {\n",
    "        \n",
    "        'precision': DT_precision,\n",
    "        'recall': DT_recall,\n",
    "        'f1_score': DT_f1,\n",
    "        'auc': DT_auc,\n",
    "        'train_time': DT_train_time,\n",
    "        'predict_time': DT_predict_time,\n",
    "        \n",
    "    }\n",
    "\n"
   ]
  },
  {
   "cell_type": "code",
   "execution_count": 102,
   "metadata": {},
   "outputs": [
    {
     "name": "stdout",
     "output_type": "stream",
     "text": [
      "Evaluation du modèle : DECISION TREE\n",
      "accuracy-score on train set :  0.8686131386861314\n",
      "accuracy-score on test set :  0.7434679334916865\n",
      "matrice de confusion sur le train [[676 146]\n",
      " [ 70 752]]\n",
      "matrice de confusion sur le test [[283  70]\n",
      " [ 38  30]]\n"
     ]
    },
    {
     "data": {
      "text/plain": [
       "{'precision': 0.3,\n",
       " 'recall': 0.44,\n",
       " 'f1_score': 0.36,\n",
       " 'auc': np.float64(0.68),\n",
       " 'train_time': 0.012172460556030273,\n",
       " 'predict_time': 2.384185791015625e-07}"
      ]
     },
     "execution_count": 102,
     "metadata": {},
     "output_type": "execute_result"
    }
   ],
   "source": [
    "print(\"Evaluation du modèle : DECISION TREE\")\n",
    "DT_metrics = evaluate_model(DT_classifier, X_train_resampled, X_test_transformed, y_train_resampled, y_test_transformed)\n",
    "print(\"accuracy-score on train set : \", DT_classifier.score(X_train_resampled, y_train_resampled))\n",
    "print(\"accuracy-score on test set : \", DT_classifier.score(X_test_transformed, y_test_transformed))\n",
    "print(\"matrice de confusion sur le train\",cm_array_DT_train)\n",
    "print(\"matrice de confusion sur le test\",cm_array_DT_test)\n",
    "DT_metrics"
   ]
  },
  {
   "cell_type": "code",
   "execution_count": 103,
   "metadata": {},
   "outputs": [],
   "source": [
    "                                                    ################ RANDOM FOREST ##################"
   ]
  },
  {
   "cell_type": "code",
   "execution_count": 104,
   "metadata": {},
   "outputs": [
    {
     "data": {
      "text/plain": [
       "'\\n# Définir les hyperparamètres à tester\\nparam_grid = {\\n    \\'n_estimators\\': [50, 100, 150],\\n    \\'max_depth\\': [3, 5, 10,15, None],\\n    \\'min_samples_split\\': [2, 5, 7,10],\\n    \\'min_samples_leaf\\': [1, 2, 4],\\n    \\'criterion\\': [\\'gini\\', \\'entropy\\']\\n    }\\n\\n# Instancier le modèle\\nRF_classifier = RandomForestClassifier(class_weight= \\'balanced\\',random_state=42)\\n\\n# Instancier le GridSearchCV\\ngrid_search = GridSearchCV(estimator=RF_classifier, param_grid=param_grid, \\n                           cv=10, scoring=\\'recall\\', n_jobs=-1, verbose=2)\\n\\n# Appliquer GridSearchCV pour trouver les meilleurs paramètres\\ngrid_search.fit(X_train_resampled, y_train_resampled)\\n\\n# Afficher les meilleurs paramètres et le score associé\\nprint(\"Meilleurs paramètres trouvés : \", grid_search.best_params_)\\nprint(\"Meilleur score : \", grid_search.best_score_)\\n\\n# Utiliser le meilleur modèle trouvé\\nbest_RF_model = grid_search.best_estimator_\\n\\n# Prédictions avec le meilleur modèle\\ny_pred_best_RF = best_RF_model.predict(X_test_transformed)\\nprint(\"Accuracy sur test set avec meilleur modèle : \", accuracy_score(y_test_transformed, y_pred_best_RF))\\n\\n'"
      ]
     },
     "execution_count": 104,
     "metadata": {},
     "output_type": "execute_result"
    }
   ],
   "source": [
    "\"\"\"\n",
    "# Définir les hyperparamètres à tester\n",
    "param_grid = {\n",
    "    'n_estimators': [50, 100, 150],\n",
    "    'max_depth': [3, 5, 10,15, None],\n",
    "    'min_samples_split': [2, 5, 7,10],\n",
    "    'min_samples_leaf': [1, 2, 4],\n",
    "    'criterion': ['gini', 'entropy']\n",
    "    }\n",
    "\n",
    "# Instancier le modèle\n",
    "RF_classifier = RandomForestClassifier(class_weight= 'balanced',random_state=42)\n",
    "\n",
    "# Instancier le GridSearchCV\n",
    "grid_search = GridSearchCV(estimator=RF_classifier, param_grid=param_grid, \n",
    "                           cv=10, scoring='recall', n_jobs=-1, verbose=2)\n",
    "\n",
    "# Appliquer GridSearchCV pour trouver les meilleurs paramètres\n",
    "grid_search.fit(X_train_resampled, y_train_resampled)\n",
    "\n",
    "# Afficher les meilleurs paramètres et le score associé\n",
    "print(\"Meilleurs paramètres trouvés : \", grid_search.best_params_)\n",
    "print(\"Meilleur score : \", grid_search.best_score_)\n",
    "\n",
    "# Utiliser le meilleur modèle trouvé\n",
    "best_RF_model = grid_search.best_estimator_\n",
    "\n",
    "# Prédictions avec le meilleur modèle\n",
    "y_pred_best_RF = best_RF_model.predict(X_test_transformed)\n",
    "print(\"Accuracy sur test set avec meilleur modèle : \", accuracy_score(y_test_transformed, y_pred_best_RF))\n",
    "\n",
    "\"\"\""
   ]
  },
  {
   "cell_type": "code",
   "execution_count": 105,
   "metadata": {},
   "outputs": [],
   "source": [
    "# RESULTATS OBTENUS\n",
    "#Fitting 10 folds for each of 324 candidates, totalling 3240 fits\n",
    "#Meilleurs paramètres trouvés :  {'class_weight': {0: 1, 1: 0.3}, 'max_depth': 15, 'min_samples_leaf': 1, 'min_samples_split': 2, 'n_estimators': 200}\n",
    "#Meilleur score :  0.921951219512195\n",
    "#Recall sur test set avec meilleur modèle :  0.27941176470588236\n",
    "\n",
    "#Fitting 20 folds for each of 36 candidates, totalling 720 fits\n",
    "#Meilleurs paramètres trouvés :  {'class_weight': {0: 1, 1: 0.7}, 'max_depth': 20, 'min_samples_leaf': 1, 'min_samples_split': 2, 'n_estimators': 200}\n",
    "#Meilleur score :  0.9389028004828537\n",
    "#Recall sur test set avec meilleur modèle :  0.27941176470588236"
   ]
  },
  {
   "cell_type": "code",
   "execution_count": 106,
   "metadata": {},
   "outputs": [
    {
     "data": {
      "text/plain": [
       "'\\nfrom sklearn.model_selection import cross_validate\\n\\n# Utiliser le meilleur modèle trouvé via GridSearchCV\\nbest_rf_model = grid_search.best_estimator_\\n\\n# Effectuer une validation croisée et obtenir plusieurs métriques\\ncv_results = cross_validate(best_rf_model, X_train_resampled, y_train_resampled, cv=5, \\n                            scoring=[\\'accuracy\\', \\'precision\\', \\'recall\\', \\'f1\\'], \\n                            return_train_score=False)\\n\\n# Afficher les résultats de la validation croisée\\nprint(\"Validation croisée - Résultats :\")\\nprint(f\"Accuracy - Moyenne : {cv_results[\\'test_accuracy\\'].mean()} ± {cv_results[\\'test_accuracy\\'].std()}\")\\nprint(f\"Precision - Moyenne : {cv_results[\\'test_precision\\'].mean()} ± {cv_results[\\'test_precision\\'].std()}\")\\nprint(f\"Recall - Moyenne : {cv_results[\\'test_recall\\'].mean()} ± {cv_results[\\'test_recall\\'].std()}\")\\nprint(f\"F1-score - Moyenne : {cv_results[\\'test_f1\\'].mean()} ± {cv_results[\\'test_f1\\'].std()}\")\\n'"
      ]
     },
     "execution_count": 106,
     "metadata": {},
     "output_type": "execute_result"
    }
   ],
   "source": [
    "\"\"\"\n",
    "from sklearn.model_selection import cross_validate\n",
    "\n",
    "# Utiliser le meilleur modèle trouvé via GridSearchCV\n",
    "best_rf_model = grid_search.best_estimator_\n",
    "\n",
    "# Effectuer une validation croisée et obtenir plusieurs métriques\n",
    "cv_results = cross_validate(best_rf_model, X_train_resampled, y_train_resampled, cv=5, \n",
    "                            scoring=['accuracy', 'precision', 'recall', 'f1'], \n",
    "                            return_train_score=False)\n",
    "\n",
    "# Afficher les résultats de la validation croisée\n",
    "print(\"Validation croisée - Résultats :\")\n",
    "print(f\"Accuracy - Moyenne : {cv_results['test_accuracy'].mean()} ± {cv_results['test_accuracy'].std()}\")\n",
    "print(f\"Precision - Moyenne : {cv_results['test_precision'].mean()} ± {cv_results['test_precision'].std()}\")\n",
    "print(f\"Recall - Moyenne : {cv_results['test_recall'].mean()} ± {cv_results['test_recall'].std()}\")\n",
    "print(f\"F1-score - Moyenne : {cv_results['test_f1'].mean()} ± {cv_results['test_f1'].std()}\")\n",
    "\"\"\"\n"
   ]
  },
  {
   "cell_type": "code",
   "execution_count": 107,
   "metadata": {},
   "outputs": [],
   "source": [
    "# RESULTATS OBTENUS :\n",
    "# Validation croisée - Résultats :\n",
    "# Accuracy - Moyenne : 0.939009472663534 ± 0.08858547738569567\n",
    "#Precision - Moyenne : 0.9707575990664621 ± 0.010583434866128474\n",
    "#Recall - Moyenne : 0.9060975609756097 ± 0.18477118991725527\n",
    "#F1-score - Moyenne : 0.9253727894400917 ± 0.11635972721387021"
   ]
  },
  {
   "cell_type": "code",
   "execution_count": 108,
   "metadata": {},
   "outputs": [
    {
     "name": "stdout",
     "output_type": "stream",
     "text": [
      "Training model...\n",
      "...Done.\n"
     ]
    }
   ],
   "source": [
    "# Training model     RANDOM FOREST      \n",
    "print(\"Training model...\")\n",
    "RF_classifier = RandomForestClassifier(n_estimators=50, \n",
    "                                       criterion= 'gini',\n",
    "                                      class_weight= 'balanced', \n",
    "                                      max_depth=10,  \n",
    "                                      min_samples_split=3, \n",
    "                                      min_samples_leaf=1)\n",
    "RF_classifier.fit(X_train_resampled, y_train_resampled)\n",
    "\n",
    "print(\"...Done.\")"
   ]
  },
  {
   "cell_type": "code",
   "execution_count": 109,
   "metadata": {},
   "outputs": [
    {
     "name": "stdout",
     "output_type": "stream",
     "text": [
      "Predictions on train set...\n",
      "Predictions on test set...\n",
      "...Done.\n"
     ]
    }
   ],
   "source": [
    "# Predictions on training set et test set\n",
    "print(\"Predictions on train set...\")\n",
    "y_train_pred_RF = RF_classifier.predict(X_train_resampled)\n",
    "\n",
    "print(\"Predictions on test set...\")\n",
    "y_test_pred_RF = RF_classifier.predict(X_test_transformed)\n",
    "print(\"...Done.\")"
   ]
  },
  {
   "cell_type": "code",
   "execution_count": 110,
   "metadata": {},
   "outputs": [],
   "source": [
    "### evaluate model ###"
   ]
  },
  {
   "cell_type": "code",
   "execution_count": 111,
   "metadata": {},
   "outputs": [
    {
     "name": "stdout",
     "output_type": "stream",
     "text": [
      "--- Assessment of performances ---\n"
     ]
    },
    {
     "data": {
      "image/png": "[encoded data removed]",
      "text/plain": [
       "<Figure size 640x480 with 2 Axes>"
      ]
     },
     "metadata": {},
     "output_type": "display_data"
    },
    {
     "name": "stdout",
     "output_type": "stream",
     "text": [
      "accuracy-score on train set RF:  0.995742092457421\n",
      "[[822   0]\n",
      " [  7 815]]\n"
     ]
    },
    {
     "data": {
      "image/png": "[encoded data removed]",
      "text/plain": [
       "<Figure size 640x480 with 2 Axes>"
      ]
     },
     "metadata": {},
     "output_type": "display_data"
    },
    {
     "name": "stdout",
     "output_type": "stream",
     "text": [
      "accuracy-score on test set RF:  0.8646080760095012\n",
      "[[344   9]\n",
      " [ 48  20]]\n"
     ]
    }
   ],
   "source": [
    "### Assessment of performances ###      \n",
    "print(\"--- Assessment of performances ---\")\n",
    "\n",
    "# Plot confusion matrix\n",
    "cm_RF_train = confusion_matrix(y_train_resampled, y_train_pred_RF, labels=RF_classifier.classes_)\n",
    "cm_display_RF_train = ConfusionMatrixDisplay.from_predictions(y_train_resampled, y_train_pred_RF)\n",
    "cm_display_RF_train.ax_.set_title(\"Confusion matrix on train set \") # Simply to set a title\n",
    "plt.show() # Show graph\n",
    "print(\"accuracy-score on train set RF: \", RF_classifier.score(X_train_resampled, y_train_resampled))\n",
    "cm_array_RF_train = np.array(cm_RF_train)\n",
    "print(cm_array_RF_train)\n",
    "\n",
    "\n",
    "cm_RF_test = confusion_matrix(y_test_transformed, y_test_pred_RF, labels=RF_classifier.classes_)\n",
    "cm_display_RF_test = ConfusionMatrixDisplay.from_predictions(y_test_transformed, y_test_pred_RF)\n",
    "cm_display_RF_test.ax_.set_title(\"Confusion matrix on test set \") # Simply to set a title\n",
    "plt.show() # Show graph\n",
    "print(\"accuracy-score on test set RF: \", RF_classifier.score(X_test_transformed, y_test_transformed))\n",
    "cm_array_RF_test = np.array(cm_RF_test)\n",
    "print(cm_array_RF_test)\n",
    "\n"
   ]
  },
  {
   "cell_type": "code",
   "execution_count": 112,
   "metadata": {},
   "outputs": [],
   "source": [
    "def evaluate_model(RF_classifier, X_train_resampled, X_test_transformed, Y_train_resampled, y_test_transformed):\n",
    "    # Mesurer le temps d'entraînement\n",
    "    RF_start_train_time = time.time()\n",
    "    RF_classifier.fit(X_train_resampled, y_train_resampled)\n",
    "    RF_train_time = time.time() - RF_start_train_time\n",
    "\n",
    "    # Mesurer le temps de prédiction\n",
    "    RF_start_predict_time = time.time()\n",
    "    y_pred_RF = RF_classifier.predict(X_test_transformed)\n",
    "    RF_predict_time = time.time() - RF_start_predict_time\n",
    "    \n",
    "    # Calculer les métriques\n",
    "    \n",
    "    RF_precision = round(precision_score(y_test_transformed, y_test_pred_RF, average='binary', zero_division=0),2)\n",
    "    RF_recall = round(recall_score(y_test_transformed, y_test_pred_RF, average='binary'),2)\n",
    "    RF_f1 = round(f1_score(y_test_transformed, y_test_pred_RF, average='binary'),2)\n",
    "    \n",
    "    # Calculer l'AUC (si c'est une classification binaire)\n",
    "    if len(set(y_test_transformed)) == 2: # Vérifier si c'est une classification binaire\n",
    "        RF_auc = roc_auc_score(y_test_transformed, RF_classifier.predict_proba(X_test_transformed)[:, 1])\n",
    "    else:\n",
    "        RF_auc = None\n",
    "    \n",
    "   \n",
    "    \n",
    "    return {\n",
    "        \n",
    "        'precision': RF_precision,\n",
    "        'recall': RF_recall,\n",
    "        'f1_score': RF_f1,\n",
    "        'auc': RF_auc,\n",
    "        'train_time': RF_train_time,\n",
    "        'predict_time': RF_predict_time,\n",
    "        \n",
    "    }\n",
    "\n"
   ]
  },
  {
   "cell_type": "code",
   "execution_count": 113,
   "metadata": {},
   "outputs": [
    {
     "name": "stdout",
     "output_type": "stream",
     "text": [
      "Evaluation du modèle : Random Forest \n",
      "accuracy-score on train set :  0.9993917274939172\n",
      "accuracy-score on test set :  0.8646080760095012\n",
      "matrice de confusion sur le train [[822   0]\n",
      " [  7 815]]\n",
      "matrice de confusion sur le test [[344   9]\n",
      " [ 48  20]]\n"
     ]
    },
    {
     "data": {
      "text/plain": [
       "{'precision': 0.69,\n",
       " 'recall': 0.29,\n",
       " 'f1_score': 0.41,\n",
       " 'auc': np.float64(0.7709965005832361),\n",
       " 'train_time': 0.16103506088256836,\n",
       " 'predict_time': 0.0039975643157958984}"
      ]
     },
     "execution_count": 113,
     "metadata": {},
     "output_type": "execute_result"
    }
   ],
   "source": [
    "print(\"Evaluation du modèle : Random Forest \")\n",
    "RF_metrics = evaluate_model(RF_classifier, X_train_resampled, X_test_transformed, y_train_resampled, y_test_transformed)\n",
    "print(\"accuracy-score on train set : \", RF_classifier.score(X_train_resampled, y_train_resampled))\n",
    "print(\"accuracy-score on test set : \", RF_classifier.score(X_test_transformed, y_test_transformed))\n",
    "print(\"matrice de confusion sur le train\",cm_array_RF_train)\n",
    "print(\"matrice de confusion sur le test\",cm_array_RF_test)\n",
    "RF_metrics"
   ]
  },
  {
   "cell_type": "code",
   "execution_count": 114,
   "metadata": {},
   "outputs": [],
   "source": [
    "#Evaluation du modèle : Random Forest \n",
    "#accuracy-score on train set :  0.9963369963369964\n",
    "#accuracy-score on test set :  0.8547619047619047\n",
    "#matrice de confusion sur le train [[819   0]\n",
    "# [ 11 808]]\n",
    "#matrice de confusion sur le test [[339  13]\n",
    "# [ 52  16]]\n",
    "#{'precision': 0.55,\n",
    "# 'recall': 0.24,\n",
    "# 'f1_score': 0.33,\n",
    "# 'auc': np.float64(0.778283756684492),\n",
    "# 'train_time': 0.34858059883117676,\n",
    "# 'predict_time': 0.0074002742767333984}"
   ]
  },
  {
   "cell_type": "code",
   "execution_count": 115,
   "metadata": {},
   "outputs": [],
   "source": [
    "# resultats obtenus avec différentes configurations :"
   ]
  },
  {
   "cell_type": "code",
   "execution_count": 116,
   "metadata": {},
   "outputs": [],
   "source": [
    "#RF_classifier = RandomForestClassifier(n_estimators=100, \n",
    "#                                      class_weight= {0: 0.9, 1: 0.6}, \n",
    "#                                      max_depth=9,  # Choisis une valeur pour max_depth, par exemple 10\n",
    "#                                      min_samples_split=2, \n",
    "#                                      min_samples_leaf=1)\n",
    "#{'precision': 0.625,\n",
    "# 'recall': 0.29411764705882354,\n",
    "# 'f1_score': 0.4,\n",
    "# 'auc': np.float64(0.7929896390374331),\n",
    "# 'train_time': 0.23347806930541992,\n",
    "# 'predict_time': 0.010115385055541992}\n",
    "\n",
    "\n",
    "# RandomForestClassifier(n_estimators=200, \n",
    "#                         class_weight= {0: 1, 1: 0.5}, \n",
    "#                         max_depth=10,  # Choisis une valeur pour max_depth, par exemple 10\n",
    "#                         min_samples_split=2, \n",
    "#                         min_samples_leaf=1)\n",
    "# #{'precision': 0.6428571428571429,\n",
    "# 'recall': 0.2647058823529412,\n",
    "# 'f1_score': 0.375,\n",
    "# 'auc': np.float64(0.8013870320855615),\n",
    "# 'train_time': 0.46303296089172363,\n",
    "# 'predict_time': 0.01327824592590332}\n",
    "\n",
    "\n",
    "#RandomForestClassifier(n_estimators=100, \n",
    "#                                      class_weight= {0: 0.9, 1: 0.5}, \n",
    "#                                      max_depth=9,  # Choisis une valeur pour max_depth, par exemple 10\n",
    "#                                      min_samples_split=2, \n",
    "#                                      min_samples_leaf=1)\n",
    "#{'precision': 0.6923076923076923,\n",
    "# 'recall': 0.2647058823529412,\n",
    "# 'f1_score': 0.3829787234042553,\n",
    "# 'auc': np.float64(0.7938669786096256),\n",
    "# 'train_time': 0.2294788360595703,\n",
    "# 'predict_time': 0.007431983947753906}"
   ]
  }
 ],
 "metadata": {
  "kernelspec": {
   "display_name": "Python 3",
   "language": "python",
   "name": "python3"
  },
  "language_info": {
   "codemirror_mode": {
    "name": "ipython",
    "version": 3
   },
   "file_extension": ".py",
   "mimetype": "text/x-python",
   "name": "python",
   "nbconvert_exporter": "python",
   "pygments_lexer": "ipython3",
   "version": "3.13.3"
  }
 },
 "nbformat": 4,
 "nbformat_minor": 2
}
